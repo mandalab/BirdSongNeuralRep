{
 "cells": [
  {
   "cell_type": "markdown",
   "id": "b0e826c0-d2a4-44e5-9cab-d82f5a8cbcb2",
   "metadata": {},
   "source": [
    "# Process Wavfiles"
   ]
  },
  {
   "cell_type": "markdown",
   "id": "7818e534-05fc-4de1-ad02-4fb64601d5aa",
   "metadata": {},
   "source": [
    "```\n",
    "Here, we will extract acoustic features from wavefiles.\n",
    "\n",
    "Notes\n",
    "-----\n",
    "1. This notebook takes ~2 hours to run for a single subject (16 GB RAM, Intel i5 11th Gen Processor)\n",
    "2. Manually update 'subject' variable to run for chosen subject (5 in total).\n",
    "```"
   ]
  },
  {
   "cell_type": "code",
   "execution_count": 1,
   "id": "b82a8e32-0ab6-4a00-bd27-da8215ddb8e7",
   "metadata": {},
   "outputs": [],
   "source": [
    "# Import math, plotting and sound libraries\n",
    "import numpy as np\n",
    "import pandas as pd\n",
    "import matplotlib.pyplot as plt\n",
    "from soundsig.sound import BioSound, WavFile\n",
    "import os\n",
    "\n",
    "# Make plots on this Notebook.\n",
    "%matplotlib inline"
   ]
  },
  {
   "cell_type": "code",
   "execution_count": 2,
   "id": "8cef3aed-98f4-4b3e-9a48-aaaa30899d89",
   "metadata": {},
   "outputs": [
    {
     "data": {
      "text/html": [
       "<div>\n",
       "<style scoped>\n",
       "    .dataframe tbody tr th:only-of-type {\n",
       "        vertical-align: middle;\n",
       "    }\n",
       "\n",
       "    .dataframe tbody tr th {\n",
       "        vertical-align: top;\n",
       "    }\n",
       "\n",
       "    .dataframe thead th {\n",
       "        text-align: right;\n",
       "    }\n",
       "</style>\n",
       "<table border=\"1\" class=\"dataframe\">\n",
       "  <thead>\n",
       "    <tr style=\"text-align: right;\">\n",
       "      <th></th>\n",
       "      <th>subject</th>\n",
       "      <th>site</th>\n",
       "      <th>single_unit</th>\n",
       "      <th>sortType</th>\n",
       "      <th>stim_number</th>\n",
       "      <th>original_wavfile</th>\n",
       "      <th>callerAge</th>\n",
       "      <th>callid</th>\n",
       "      <th>stim_duration</th>\n",
       "      <th>stim_source</th>\n",
       "      <th>stim_source_sex</th>\n",
       "      <th>stim_type</th>\n",
       "      <th>brain_region</th>\n",
       "      <th>hemisphere</th>\n",
       "      <th>vocid</th>\n",
       "      <th>auditory_cortex</th>\n",
       "    </tr>\n",
       "  </thead>\n",
       "  <tbody>\n",
       "    <tr>\n",
       "      <th>18082</th>\n",
       "      <td>GreBlu9508M</td>\n",
       "      <td>Site1</td>\n",
       "      <td>Site1_L750R1100_e21_s0_ss1</td>\n",
       "      <td>single</td>\n",
       "      <td>52</td>\n",
       "      <td>BlaBla0506_MAF_Te_3-5-10.wav</td>\n",
       "      <td>A</td>\n",
       "      <td>Te</td>\n",
       "      <td>2.500000</td>\n",
       "      <td>familiar</td>\n",
       "      <td>m</td>\n",
       "      <td>call</td>\n",
       "      <td>CMM</td>\n",
       "      <td>R</td>\n",
       "      <td>Te</td>\n",
       "      <td>A2</td>\n",
       "    </tr>\n",
       "    <tr>\n",
       "      <th>76529</th>\n",
       "      <td>YelBlu6903F</td>\n",
       "      <td>Site1</td>\n",
       "      <td>Site1_L500R400_e25_s0_ss2</td>\n",
       "      <td>single</td>\n",
       "      <td>140</td>\n",
       "      <td>BluRas61dd_MAS_Ag_3.wav</td>\n",
       "      <td>A</td>\n",
       "      <td>Ag</td>\n",
       "      <td>0.168469</td>\n",
       "      <td>unfamiliar</td>\n",
       "      <td>m</td>\n",
       "      <td>call</td>\n",
       "      <td>CMM</td>\n",
       "      <td>R</td>\n",
       "      <td>Ag</td>\n",
       "      <td>A2</td>\n",
       "    </tr>\n",
       "    <tr>\n",
       "      <th>100538</th>\n",
       "      <td>YelBlu6903F</td>\n",
       "      <td>Site4</td>\n",
       "      <td>Site4_L1500R1500_e30_s0_ss4</td>\n",
       "      <td>single</td>\n",
       "      <td>99</td>\n",
       "      <td>WhiWhi1415_FAF_DC_6-2-4.wav</td>\n",
       "      <td>A</td>\n",
       "      <td>DC</td>\n",
       "      <td>2.500000</td>\n",
       "      <td>familiar</td>\n",
       "      <td>f</td>\n",
       "      <td>call</td>\n",
       "      <td>NCM</td>\n",
       "      <td>R</td>\n",
       "      <td>DC</td>\n",
       "      <td>A2</td>\n",
       "    </tr>\n",
       "    <tr>\n",
       "      <th>11026</th>\n",
       "      <td>BlaBro09xxF</td>\n",
       "      <td>Site3</td>\n",
       "      <td>Site3_L2500R2300_e1_s1_ss1</td>\n",
       "      <td>single</td>\n",
       "      <td>86</td>\n",
       "      <td>STRFxx0000__So_19.wav</td>\n",
       "      <td>NaN</td>\n",
       "      <td>NaN</td>\n",
       "      <td>2.445032</td>\n",
       "      <td>unfamiliar</td>\n",
       "      <td>m</td>\n",
       "      <td>song</td>\n",
       "      <td>NCM</td>\n",
       "      <td>L</td>\n",
       "      <td>song</td>\n",
       "      <td>A2</td>\n",
       "    </tr>\n",
       "    <tr>\n",
       "      <th>55509</th>\n",
       "      <td>WhiWhi4522M</td>\n",
       "      <td>Site2</td>\n",
       "      <td>Site2_L1500R1450_e13_s0_ss3</td>\n",
       "      <td>single</td>\n",
       "      <td>133</td>\n",
       "      <td>BluRas07dd_FAS_Te_2-7-9.wav</td>\n",
       "      <td>A</td>\n",
       "      <td>Te</td>\n",
       "      <td>2.500000</td>\n",
       "      <td>unfamiliar</td>\n",
       "      <td>f</td>\n",
       "      <td>call</td>\n",
       "      <td>NCM</td>\n",
       "      <td>L</td>\n",
       "      <td>Te</td>\n",
       "      <td>A2</td>\n",
       "    </tr>\n",
       "  </tbody>\n",
       "</table>\n",
       "</div>"
      ],
      "text/plain": [
       "            subject   site                  single_unit sortType  stim_number  \\\n",
       "18082   GreBlu9508M  Site1   Site1_L750R1100_e21_s0_ss1   single           52   \n",
       "76529   YelBlu6903F  Site1    Site1_L500R400_e25_s0_ss2   single          140   \n",
       "100538  YelBlu6903F  Site4  Site4_L1500R1500_e30_s0_ss4   single           99   \n",
       "11026   BlaBro09xxF  Site3   Site3_L2500R2300_e1_s1_ss1   single           86   \n",
       "55509   WhiWhi4522M  Site2  Site2_L1500R1450_e13_s0_ss3   single          133   \n",
       "\n",
       "                    original_wavfile callerAge callid  stim_duration  \\\n",
       "18082   BlaBla0506_MAF_Te_3-5-10.wav         A     Te       2.500000   \n",
       "76529        BluRas61dd_MAS_Ag_3.wav         A     Ag       0.168469   \n",
       "100538   WhiWhi1415_FAF_DC_6-2-4.wav         A     DC       2.500000   \n",
       "11026          STRFxx0000__So_19.wav       NaN    NaN       2.445032   \n",
       "55509    BluRas07dd_FAS_Te_2-7-9.wav         A     Te       2.500000   \n",
       "\n",
       "       stim_source stim_source_sex stim_type brain_region hemisphere vocid  \\\n",
       "18082     familiar               m      call          CMM          R    Te   \n",
       "76529   unfamiliar               m      call          CMM          R    Ag   \n",
       "100538    familiar               f      call          NCM          R    DC   \n",
       "11026   unfamiliar               m      song          NCM          L  song   \n",
       "55509   unfamiliar               f      call          NCM          L    Te   \n",
       "\n",
       "       auditory_cortex  \n",
       "18082               A2  \n",
       "76529               A2  \n",
       "100538              A2  \n",
       "11026               A2  \n",
       "55509               A2  "
      ]
     },
     "execution_count": 2,
     "metadata": {},
     "output_type": "execute_result"
    }
   ],
   "source": [
    "df = pd.read_csv('aa-4.csv')\n",
    "df.sample(5)"
   ]
  },
  {
   "cell_type": "code",
   "execution_count": 16,
   "id": "0e36de21-c465-4a80-aaaa-797b901dae58",
   "metadata": {},
   "outputs": [
    {
     "data": {
      "text/plain": [
       "100"
      ]
     },
     "execution_count": 16,
     "metadata": {},
     "output_type": "execute_result"
    }
   ],
   "source": [
    "df['stim_number'][0]"
   ]
  },
  {
   "cell_type": "code",
   "execution_count": 3,
   "id": "6d29b6e0-3e05-49b4-a6eb-201a8d59703a",
   "metadata": {},
   "outputs": [],
   "source": [
    "subject = 'WhiWhi4522M'"
   ]
  },
  {
   "cell_type": "code",
   "execution_count": 12,
   "id": "ea181dc1-e2eb-425c-a241-b153dbdfb907",
   "metadata": {},
   "outputs": [],
   "source": [
    "base_path = os.getcwd()\n",
    "\n",
    "# Go to the folder that has the wav files\n",
    "data_root = 'C:\\\\Users\\\\Dell\\\\Desktop\\\\avian-audition\\\\data\\\\anesthetized'\n",
    "wave_root = os.path.join(data_root, subject, 'wavfiles')\n",
    "\n",
    "# This will be the output directory\n",
    "if not os.path.exists(os.path.join(wave_root, 'h5files')):\n",
    "    os.makedirs(os.path.join(wave_root, 'h5files'))"
   ]
  },
  {
   "cell_type": "code",
   "execution_count": 25,
   "id": "8e37eaf6-616a-477a-83e7-6f76dbea3cfb",
   "metadata": {},
   "outputs": [
    {
     "data": {
      "text/plain": [
       "Series([], Name: vocid, dtype: object)"
      ]
     },
     "execution_count": 25,
     "metadata": {},
     "output_type": "execute_result"
    }
   ],
   "source": [
    "df[(df['subject']==subject)&(df['stim_number']==int(1))]['vocid']"
   ]
  },
  {
   "cell_type": "code",
   "execution_count": 23,
   "id": "3667a9a1-30f7-4740-b6f6-c173dbbd3f99",
   "metadata": {},
   "outputs": [
    {
     "data": {
      "text/plain": [
       "'1'"
      ]
     },
     "execution_count": 23,
     "metadata": {},
     "output_type": "execute_result"
    }
   ],
   "source": [
    "stim_number"
   ]
  },
  {
   "cell_type": "code",
   "execution_count": 26,
   "id": "c53f178f-b478-469c-aa5b-223b74f15c69",
   "metadata": {},
   "outputs": [
    {
     "name": "stdout",
     "output_type": "stream",
     "text": [
      "Processing sound 1:stim1.wav\n",
      "\n",
      "Processing sound 2:stim10.wav\n",
      "\n",
      "Processing sound 3:stim100.wav\n",
      "\n"
     ]
    },
    {
     "name": "stderr",
     "output_type": "stream",
     "text": [
      "C:\\Users\\Dell\\Desktop\\avian-audition\\analysis\\anesthetized\\soundsig\\sound.py:285: RuntimeWarning: divide by zero encountered in log10\n",
      "  self.spectro = 20*np.log10(np.abs(spec))\n"
     ]
    },
    {
     "name": "stdout",
     "output_type": "stream",
     "text": [
      "Processing sound 4:stim101.wav\n",
      "\n"
     ]
    },
    {
     "name": "stderr",
     "output_type": "stream",
     "text": [
      "C:\\Users\\Dell\\Desktop\\avian-audition\\analysis\\anesthetized\\soundsig\\sound.py:285: RuntimeWarning: divide by zero encountered in log10\n",
      "  self.spectro = 20*np.log10(np.abs(spec))\n"
     ]
    },
    {
     "name": "stdout",
     "output_type": "stream",
     "text": [
      "Processing sound 5:stim102.wav\n",
      "\n"
     ]
    },
    {
     "name": "stderr",
     "output_type": "stream",
     "text": [
      "C:\\Users\\Dell\\Desktop\\avian-audition\\analysis\\anesthetized\\soundsig\\sound.py:285: RuntimeWarning: divide by zero encountered in log10\n",
      "  self.spectro = 20*np.log10(np.abs(spec))\n"
     ]
    },
    {
     "name": "stdout",
     "output_type": "stream",
     "text": [
      "Processing sound 6:stim103.wav\n",
      "\n"
     ]
    },
    {
     "name": "stderr",
     "output_type": "stream",
     "text": [
      "C:\\Users\\Dell\\Desktop\\avian-audition\\analysis\\anesthetized\\soundsig\\sound.py:285: RuntimeWarning: divide by zero encountered in log10\n",
      "  self.spectro = 20*np.log10(np.abs(spec))\n"
     ]
    },
    {
     "name": "stdout",
     "output_type": "stream",
     "text": [
      "Processing sound 7:stim104.wav\n",
      "\n"
     ]
    },
    {
     "name": "stderr",
     "output_type": "stream",
     "text": [
      "C:\\Users\\Dell\\Desktop\\avian-audition\\analysis\\anesthetized\\soundsig\\sound.py:285: RuntimeWarning: divide by zero encountered in log10\n",
      "  self.spectro = 20*np.log10(np.abs(spec))\n"
     ]
    },
    {
     "name": "stdout",
     "output_type": "stream",
     "text": [
      "Processing sound 8:stim105.wav\n",
      "\n"
     ]
    },
    {
     "name": "stderr",
     "output_type": "stream",
     "text": [
      "C:\\Users\\Dell\\Desktop\\avian-audition\\analysis\\anesthetized\\soundsig\\sound.py:285: RuntimeWarning: divide by zero encountered in log10\n",
      "  self.spectro = 20*np.log10(np.abs(spec))\n"
     ]
    },
    {
     "name": "stdout",
     "output_type": "stream",
     "text": [
      "Processing sound 9:stim106.wav\n",
      "\n"
     ]
    },
    {
     "name": "stderr",
     "output_type": "stream",
     "text": [
      "C:\\Users\\Dell\\Desktop\\avian-audition\\analysis\\anesthetized\\soundsig\\sound.py:285: RuntimeWarning: divide by zero encountered in log10\n",
      "  self.spectro = 20*np.log10(np.abs(spec))\n"
     ]
    },
    {
     "name": "stdout",
     "output_type": "stream",
     "text": [
      "Processing sound 10:stim107.wav\n",
      "\n"
     ]
    },
    {
     "name": "stderr",
     "output_type": "stream",
     "text": [
      "C:\\Users\\Dell\\Desktop\\avian-audition\\analysis\\anesthetized\\soundsig\\sound.py:285: RuntimeWarning: divide by zero encountered in log10\n",
      "  self.spectro = 20*np.log10(np.abs(spec))\n"
     ]
    },
    {
     "name": "stdout",
     "output_type": "stream",
     "text": [
      "Processing sound 11:stim108.wav\n",
      "\n"
     ]
    },
    {
     "name": "stderr",
     "output_type": "stream",
     "text": [
      "C:\\Users\\Dell\\Desktop\\avian-audition\\analysis\\anesthetized\\soundsig\\sound.py:285: RuntimeWarning: divide by zero encountered in log10\n",
      "  self.spectro = 20*np.log10(np.abs(spec))\n"
     ]
    },
    {
     "name": "stdout",
     "output_type": "stream",
     "text": [
      "Processing sound 12:stim109.wav\n",
      "\n",
      "Processing sound 13:stim11.wav\n",
      "\n",
      "Processing sound 14:stim110.wav\n",
      "\n",
      "Processing sound 15:stim111.wav\n",
      "\n",
      "Processing sound 16:stim112.wav\n",
      "\n",
      "Processing sound 17:stim113.wav\n",
      "\n",
      "Processing sound 18:stim114.wav\n",
      "\n",
      "Processing sound 19:stim115.wav\n",
      "\n",
      "Processing sound 20:stim116.wav\n",
      "\n",
      "Processing sound 21:stim117.wav\n",
      "\n",
      "Processing sound 22:stim118.wav\n",
      "\n",
      "Processing sound 23:stim119.wav\n",
      "\n",
      "Processing sound 24:stim12.wav\n",
      "\n",
      "Processing sound 25:stim120.wav\n",
      "\n",
      "Processing sound 26:stim121.wav\n",
      "\n",
      "Processing sound 27:stim122.wav\n",
      "\n",
      "Processing sound 28:stim123.wav\n",
      "\n",
      "Processing sound 29:stim124.wav\n",
      "\n",
      "Processing sound 30:stim125.wav\n",
      "\n",
      "Processing sound 31:stim126.wav\n",
      "\n",
      "Processing sound 32:stim127.wav\n",
      "\n"
     ]
    },
    {
     "name": "stderr",
     "output_type": "stream",
     "text": [
      "C:\\Users\\Dell\\Desktop\\avian-audition\\analysis\\anesthetized\\soundsig\\sound.py:285: RuntimeWarning: divide by zero encountered in log10\n",
      "  self.spectro = 20*np.log10(np.abs(spec))\n"
     ]
    },
    {
     "name": "stdout",
     "output_type": "stream",
     "text": [
      "Processing sound 33:stim128.wav\n",
      "\n"
     ]
    },
    {
     "name": "stderr",
     "output_type": "stream",
     "text": [
      "C:\\Users\\Dell\\Desktop\\avian-audition\\analysis\\anesthetized\\soundsig\\sound.py:285: RuntimeWarning: divide by zero encountered in log10\n",
      "  self.spectro = 20*np.log10(np.abs(spec))\n"
     ]
    },
    {
     "name": "stdout",
     "output_type": "stream",
     "text": [
      "Processing sound 34:stim129.wav\n",
      "\n"
     ]
    },
    {
     "name": "stderr",
     "output_type": "stream",
     "text": [
      "C:\\Users\\Dell\\Desktop\\avian-audition\\analysis\\anesthetized\\soundsig\\sound.py:285: RuntimeWarning: divide by zero encountered in log10\n",
      "  self.spectro = 20*np.log10(np.abs(spec))\n"
     ]
    },
    {
     "name": "stdout",
     "output_type": "stream",
     "text": [
      "Processing sound 35:stim13.wav\n",
      "\n",
      "Processing sound 36:stim130.wav\n",
      "\n"
     ]
    },
    {
     "name": "stderr",
     "output_type": "stream",
     "text": [
      "C:\\Users\\Dell\\Desktop\\avian-audition\\analysis\\anesthetized\\soundsig\\sound.py:285: RuntimeWarning: divide by zero encountered in log10\n",
      "  self.spectro = 20*np.log10(np.abs(spec))\n"
     ]
    },
    {
     "name": "stdout",
     "output_type": "stream",
     "text": [
      "Processing sound 37:stim131.wav\n",
      "\n"
     ]
    },
    {
     "name": "stderr",
     "output_type": "stream",
     "text": [
      "C:\\Users\\Dell\\Desktop\\avian-audition\\analysis\\anesthetized\\soundsig\\sound.py:285: RuntimeWarning: divide by zero encountered in log10\n",
      "  self.spectro = 20*np.log10(np.abs(spec))\n",
      "C:\\Users\\Dell\\AppData\\Roaming\\Python\\Python38\\site-packages\\scipy\\optimize\\minpack.py:475: RuntimeWarning: Number of calls to function has reached maxfev = 2200.\n",
      "  warnings.warn(errors[info][0], RuntimeWarning)\n"
     ]
    },
    {
     "name": "stdout",
     "output_type": "stream",
     "text": [
      "Processing sound 38:stim132.wav\n",
      "\n"
     ]
    },
    {
     "name": "stderr",
     "output_type": "stream",
     "text": [
      "C:\\Users\\Dell\\Desktop\\avian-audition\\analysis\\anesthetized\\soundsig\\sound.py:285: RuntimeWarning: divide by zero encountered in log10\n",
      "  self.spectro = 20*np.log10(np.abs(spec))\n",
      "C:\\Users\\Dell\\AppData\\Roaming\\Python\\Python38\\site-packages\\scipy\\optimize\\minpack.py:475: RuntimeWarning: Number of calls to function has reached maxfev = 2200.\n",
      "  warnings.warn(errors[info][0], RuntimeWarning)\n"
     ]
    },
    {
     "name": "stdout",
     "output_type": "stream",
     "text": [
      "Processing sound 39:stim133.wav\n",
      "\n"
     ]
    },
    {
     "name": "stderr",
     "output_type": "stream",
     "text": [
      "C:\\Users\\Dell\\Desktop\\avian-audition\\analysis\\anesthetized\\soundsig\\sound.py:285: RuntimeWarning: divide by zero encountered in log10\n",
      "  self.spectro = 20*np.log10(np.abs(spec))\n"
     ]
    },
    {
     "name": "stdout",
     "output_type": "stream",
     "text": [
      "Processing sound 40:stim134.wav\n",
      "\n"
     ]
    },
    {
     "name": "stderr",
     "output_type": "stream",
     "text": [
      "C:\\Users\\Dell\\Desktop\\avian-audition\\analysis\\anesthetized\\soundsig\\sound.py:285: RuntimeWarning: divide by zero encountered in log10\n",
      "  self.spectro = 20*np.log10(np.abs(spec))\n"
     ]
    },
    {
     "name": "stdout",
     "output_type": "stream",
     "text": [
      "Processing sound 41:stim135.wav\n",
      "\n"
     ]
    },
    {
     "name": "stderr",
     "output_type": "stream",
     "text": [
      "C:\\Users\\Dell\\Desktop\\avian-audition\\analysis\\anesthetized\\soundsig\\sound.py:285: RuntimeWarning: divide by zero encountered in log10\n",
      "  self.spectro = 20*np.log10(np.abs(spec))\n",
      "C:\\Users\\Dell\\AppData\\Roaming\\Python\\Python38\\site-packages\\scipy\\optimize\\minpack.py:475: RuntimeWarning: Number of calls to function has reached maxfev = 2200.\n",
      "  warnings.warn(errors[info][0], RuntimeWarning)\n"
     ]
    },
    {
     "name": "stdout",
     "output_type": "stream",
     "text": [
      "Processing sound 42:stim136.wav\n",
      "\n",
      "Processing sound 43:stim137.wav\n",
      "\n",
      "Processing sound 44:stim138.wav\n",
      "\n",
      "Processing sound 45:stim139.wav\n",
      "\n",
      "Processing sound 46:stim14.wav\n",
      "\n",
      "Processing sound 47:stim140.wav\n",
      "\n",
      "Processing sound 48:stim141.wav\n",
      "\n",
      "Processing sound 49:stim142.wav\n",
      "\n",
      "Processing sound 50:stim143.wav\n",
      "\n",
      "Processing sound 51:stim144.wav\n",
      "\n",
      "Processing sound 52:stim145.wav\n",
      "\n",
      "Processing sound 53:stim146.wav\n",
      "\n",
      "Processing sound 54:stim147.wav\n",
      "\n",
      "Processing sound 55:stim148.wav\n",
      "\n",
      "Processing sound 56:stim149.wav\n",
      "\n",
      "Processing sound 57:stim15.wav\n",
      "\n",
      "Processing sound 58:stim150.wav\n",
      "\n",
      "Processing sound 59:stim151.wav\n",
      "\n",
      "Processing sound 60:stim152.wav\n",
      "\n",
      "Processing sound 61:stim153.wav\n",
      "\n",
      "Processing sound 62:stim154.wav\n",
      "\n",
      "Processing sound 63:stim155.wav\n",
      "\n",
      "Processing sound 64:stim156.wav\n",
      "\n",
      "Processing sound 65:stim157.wav\n",
      "\n",
      "Processing sound 66:stim158.wav\n",
      "\n",
      "Processing sound 67:stim159.wav\n",
      "\n"
     ]
    },
    {
     "name": "stderr",
     "output_type": "stream",
     "text": [
      "C:\\Users\\Dell\\AppData\\Roaming\\Python\\Python38\\site-packages\\scipy\\optimize\\minpack.py:475: RuntimeWarning: Number of calls to function has reached maxfev = 2200.\n",
      "  warnings.warn(errors[info][0], RuntimeWarning)\n"
     ]
    },
    {
     "name": "stdout",
     "output_type": "stream",
     "text": [
      "Processing sound 68:stim16.wav\n",
      "\n",
      "Processing sound 69:stim160.wav\n",
      "\n",
      "Processing sound 70:stim161.wav\n",
      "\n",
      "Processing sound 71:stim162.wav\n",
      "\n",
      "Processing sound 72:stim163.wav\n",
      "\n"
     ]
    },
    {
     "name": "stderr",
     "output_type": "stream",
     "text": [
      "C:\\Users\\Dell\\Desktop\\avian-audition\\analysis\\anesthetized\\soundsig\\sound.py:285: RuntimeWarning: divide by zero encountered in log10\n",
      "  self.spectro = 20*np.log10(np.abs(spec))\n"
     ]
    },
    {
     "name": "stdout",
     "output_type": "stream",
     "text": [
      "Processing sound 73:stim164.wav\n",
      "\n"
     ]
    },
    {
     "name": "stderr",
     "output_type": "stream",
     "text": [
      "C:\\Users\\Dell\\Desktop\\avian-audition\\analysis\\anesthetized\\soundsig\\sound.py:285: RuntimeWarning: divide by zero encountered in log10\n",
      "  self.spectro = 20*np.log10(np.abs(spec))\n"
     ]
    },
    {
     "name": "stdout",
     "output_type": "stream",
     "text": [
      "Processing sound 74:stim165.wav\n",
      "\n"
     ]
    },
    {
     "name": "stderr",
     "output_type": "stream",
     "text": [
      "C:\\Users\\Dell\\Desktop\\avian-audition\\analysis\\anesthetized\\soundsig\\sound.py:285: RuntimeWarning: divide by zero encountered in log10\n",
      "  self.spectro = 20*np.log10(np.abs(spec))\n"
     ]
    },
    {
     "name": "stdout",
     "output_type": "stream",
     "text": [
      "Processing sound 75:stim166.wav\n",
      "\n",
      "Warning in mps: Requested MPS window size is greater than spectrogram temporal extent.\n",
      "mps will be calculate with windows of 83 points or 0.08159252887687392 s\n",
      "Processing sound 76:stim167.wav\n",
      "\n",
      "Processing sound 77:stim168.wav\n",
      "\n"
     ]
    },
    {
     "name": "stderr",
     "output_type": "stream",
     "text": [
      "C:\\Users\\Dell\\Desktop\\avian-audition\\analysis\\anesthetized\\soundsig\\sound.py:285: RuntimeWarning: divide by zero encountered in log10\n",
      "  self.spectro = 20*np.log10(np.abs(spec))\n",
      "C:\\Users\\Dell\\AppData\\Roaming\\Python\\Python38\\site-packages\\scipy\\optimize\\minpack.py:475: RuntimeWarning: Number of calls to function has reached maxfev = 2200.\n",
      "  warnings.warn(errors[info][0], RuntimeWarning)\n"
     ]
    },
    {
     "name": "stdout",
     "output_type": "stream",
     "text": [
      "Processing sound 78:stim169.wav\n",
      "\n"
     ]
    },
    {
     "name": "stderr",
     "output_type": "stream",
     "text": [
      "C:\\Users\\Dell\\Desktop\\avian-audition\\analysis\\anesthetized\\soundsig\\sound.py:285: RuntimeWarning: divide by zero encountered in log10\n",
      "  self.spectro = 20*np.log10(np.abs(spec))\n"
     ]
    },
    {
     "name": "stdout",
     "output_type": "stream",
     "text": [
      "Processing sound 79:stim17.wav\n",
      "\n",
      "Processing sound 80:stim170.wav\n",
      "\n"
     ]
    },
    {
     "name": "stderr",
     "output_type": "stream",
     "text": [
      "C:\\Users\\Dell\\Desktop\\avian-audition\\analysis\\anesthetized\\soundsig\\sound.py:285: RuntimeWarning: divide by zero encountered in log10\n",
      "  self.spectro = 20*np.log10(np.abs(spec))\n"
     ]
    },
    {
     "name": "stdout",
     "output_type": "stream",
     "text": [
      "Processing sound 81:stim171.wav\n",
      "\n",
      "Processing sound 82:stim172.wav\n",
      "\n"
     ]
    },
    {
     "name": "stderr",
     "output_type": "stream",
     "text": [
      "C:\\Users\\Dell\\AppData\\Roaming\\Python\\Python38\\site-packages\\scipy\\optimize\\minpack.py:475: RuntimeWarning: Number of calls to function has reached maxfev = 2200.\n",
      "  warnings.warn(errors[info][0], RuntimeWarning)\n"
     ]
    },
    {
     "name": "stdout",
     "output_type": "stream",
     "text": [
      "Processing sound 83:stim173.wav\n",
      "\n"
     ]
    },
    {
     "name": "stderr",
     "output_type": "stream",
     "text": [
      "C:\\Users\\Dell\\AppData\\Roaming\\Python\\Python38\\site-packages\\scipy\\optimize\\minpack.py:475: RuntimeWarning: Number of calls to function has reached maxfev = 2200.\n",
      "  warnings.warn(errors[info][0], RuntimeWarning)\n"
     ]
    },
    {
     "name": "stdout",
     "output_type": "stream",
     "text": [
      "Processing sound 84:stim174.wav\n",
      "\n"
     ]
    },
    {
     "name": "stderr",
     "output_type": "stream",
     "text": [
      "C:\\Users\\Dell\\Desktop\\avian-audition\\analysis\\anesthetized\\soundsig\\sound.py:285: RuntimeWarning: divide by zero encountered in log10\n",
      "  self.spectro = 20*np.log10(np.abs(spec))\n"
     ]
    },
    {
     "name": "stdout",
     "output_type": "stream",
     "text": [
      "Processing sound 85:stim175.wav\n",
      "\n"
     ]
    },
    {
     "name": "stderr",
     "output_type": "stream",
     "text": [
      "C:\\Users\\Dell\\Desktop\\avian-audition\\analysis\\anesthetized\\soundsig\\sound.py:285: RuntimeWarning: divide by zero encountered in log10\n",
      "  self.spectro = 20*np.log10(np.abs(spec))\n"
     ]
    },
    {
     "name": "stdout",
     "output_type": "stream",
     "text": [
      "Processing sound 86:stim176.wav\n",
      "\n"
     ]
    },
    {
     "name": "stderr",
     "output_type": "stream",
     "text": [
      "C:\\Users\\Dell\\Desktop\\avian-audition\\analysis\\anesthetized\\soundsig\\sound.py:285: RuntimeWarning: divide by zero encountered in log10\n",
      "  self.spectro = 20*np.log10(np.abs(spec))\n",
      "C:\\Users\\Dell\\AppData\\Roaming\\Python\\Python38\\site-packages\\scipy\\optimize\\minpack.py:475: RuntimeWarning: Number of calls to function has reached maxfev = 2200.\n",
      "  warnings.warn(errors[info][0], RuntimeWarning)\n"
     ]
    },
    {
     "name": "stdout",
     "output_type": "stream",
     "text": [
      "Processing sound 87:stim177.wav\n",
      "\n",
      "Processing sound 88:stim178.wav\n",
      "\n",
      "Processing sound 89:stim179.wav\n",
      "\n",
      "Processing sound 90:stim18.wav\n",
      "\n",
      "Processing sound 91:stim180.wav\n",
      "\n"
     ]
    },
    {
     "name": "stderr",
     "output_type": "stream",
     "text": [
      "C:\\Users\\Dell\\AppData\\Roaming\\Python\\Python38\\site-packages\\scipy\\optimize\\minpack.py:475: RuntimeWarning: Number of calls to function has reached maxfev = 2200.\n",
      "  warnings.warn(errors[info][0], RuntimeWarning)\n"
     ]
    },
    {
     "name": "stdout",
     "output_type": "stream",
     "text": [
      "Processing sound 92:stim181.wav\n",
      "\n",
      "Processing sound 93:stim182.wav\n",
      "\n"
     ]
    },
    {
     "name": "stderr",
     "output_type": "stream",
     "text": [
      "C:\\Users\\Dell\\AppData\\Roaming\\Python\\Python38\\site-packages\\scipy\\optimize\\minpack.py:475: RuntimeWarning: Number of calls to function has reached maxfev = 2200.\n",
      "  warnings.warn(errors[info][0], RuntimeWarning)\n"
     ]
    },
    {
     "name": "stdout",
     "output_type": "stream",
     "text": [
      "Processing sound 94:stim183.wav\n",
      "\n",
      "Processing sound 95:stim184.wav\n",
      "\n",
      "Processing sound 96:stim185.wav\n",
      "\n",
      "Processing sound 97:stim186.wav\n",
      "\n",
      "Processing sound 98:stim187.wav\n",
      "\n",
      "Processing sound 99:stim188.wav\n",
      "\n",
      "Processing sound 100:stim189.wav\n",
      "\n",
      "Processing sound 101:stim19.wav\n",
      "\n",
      "Processing sound 102:stim190.wav\n",
      "\n",
      "Processing sound 103:stim191.wav\n",
      "\n",
      "Processing sound 104:stim192.wav\n",
      "\n",
      "Processing sound 105:stim193.wav\n",
      "\n",
      "Processing sound 106:stim194.wav\n",
      "\n",
      "Processing sound 107:stim195.wav\n",
      "\n",
      "Processing sound 108:stim196.wav\n",
      "\n",
      "Processing sound 109:stim197.wav\n",
      "\n",
      "Processing sound 110:stim198.wav\n",
      "\n",
      "Processing sound 111:stim199.wav\n",
      "\n",
      "Processing sound 112:stim2.wav\n",
      "\n",
      "Processing sound 113:stim20.wav\n",
      "\n",
      "Processing sound 114:stim200.wav\n",
      "\n",
      "Processing sound 115:stim201.wav\n",
      "\n",
      "Processing sound 116:stim202.wav\n",
      "\n",
      "Processing sound 117:stim203.wav\n",
      "\n",
      "Processing sound 118:stim204.wav\n",
      "\n",
      "Processing sound 119:stim205.wav\n",
      "\n",
      "Processing sound 120:stim206.wav\n",
      "\n",
      "Processing sound 121:stim207.wav\n",
      "\n",
      "Processing sound 122:stim208.wav\n",
      "\n",
      "Processing sound 123:stim209.wav\n",
      "\n",
      "Processing sound 124:stim21.wav\n",
      "\n",
      "Processing sound 125:stim210.wav\n",
      "\n",
      "Processing sound 126:stim211.wav\n",
      "\n",
      "Processing sound 127:stim212.wav\n",
      "\n"
     ]
    },
    {
     "name": "stderr",
     "output_type": "stream",
     "text": [
      "C:\\Users\\Dell\\Desktop\\avian-audition\\analysis\\anesthetized\\soundsig\\sound.py:285: RuntimeWarning: divide by zero encountered in log10\n",
      "  self.spectro = 20*np.log10(np.abs(spec))\n"
     ]
    },
    {
     "name": "stdout",
     "output_type": "stream",
     "text": [
      "Processing sound 128:stim213.wav\n",
      "\n"
     ]
    },
    {
     "name": "stderr",
     "output_type": "stream",
     "text": [
      "C:\\Users\\Dell\\Desktop\\avian-audition\\analysis\\anesthetized\\soundsig\\sound.py:285: RuntimeWarning: divide by zero encountered in log10\n",
      "  self.spectro = 20*np.log10(np.abs(spec))\n"
     ]
    },
    {
     "name": "stdout",
     "output_type": "stream",
     "text": [
      "Processing sound 129:stim214.wav\n",
      "\n",
      "Processing sound 130:stim215.wav\n",
      "\n",
      "Processing sound 131:stim216.wav\n",
      "\n",
      "Processing sound 132:stim217.wav\n",
      "\n",
      "Processing sound 133:stim218.wav\n",
      "\n"
     ]
    },
    {
     "name": "stderr",
     "output_type": "stream",
     "text": [
      "C:\\Users\\Dell\\Desktop\\avian-audition\\analysis\\anesthetized\\soundsig\\sound.py:285: RuntimeWarning: divide by zero encountered in log10\n",
      "  self.spectro = 20*np.log10(np.abs(spec))\n"
     ]
    },
    {
     "name": "stdout",
     "output_type": "stream",
     "text": [
      "Processing sound 134:stim219.wav\n",
      "\n"
     ]
    },
    {
     "name": "stderr",
     "output_type": "stream",
     "text": [
      "C:\\Users\\Dell\\Desktop\\avian-audition\\analysis\\anesthetized\\soundsig\\sound.py:285: RuntimeWarning: divide by zero encountered in log10\n",
      "  self.spectro = 20*np.log10(np.abs(spec))\n"
     ]
    },
    {
     "name": "stdout",
     "output_type": "stream",
     "text": [
      "Processing sound 135:stim22.wav\n",
      "\n",
      "Processing sound 136:stim220.wav\n",
      "\n"
     ]
    },
    {
     "name": "stderr",
     "output_type": "stream",
     "text": [
      "C:\\Users\\Dell\\Desktop\\avian-audition\\analysis\\anesthetized\\soundsig\\sound.py:285: RuntimeWarning: divide by zero encountered in log10\n",
      "  self.spectro = 20*np.log10(np.abs(spec))\n"
     ]
    },
    {
     "name": "stdout",
     "output_type": "stream",
     "text": [
      "Processing sound 137:stim221.wav\n",
      "\n"
     ]
    },
    {
     "name": "stderr",
     "output_type": "stream",
     "text": [
      "C:\\Users\\Dell\\Desktop\\avian-audition\\analysis\\anesthetized\\soundsig\\sound.py:285: RuntimeWarning: divide by zero encountered in log10\n",
      "  self.spectro = 20*np.log10(np.abs(spec))\n"
     ]
    },
    {
     "name": "stdout",
     "output_type": "stream",
     "text": [
      "Processing sound 138:stim222.wav\n",
      "\n"
     ]
    },
    {
     "name": "stderr",
     "output_type": "stream",
     "text": [
      "C:\\Users\\Dell\\Desktop\\avian-audition\\analysis\\anesthetized\\soundsig\\sound.py:285: RuntimeWarning: divide by zero encountered in log10\n",
      "  self.spectro = 20*np.log10(np.abs(spec))\n"
     ]
    },
    {
     "name": "stdout",
     "output_type": "stream",
     "text": [
      "Processing sound 139:stim223.wav\n",
      "\n",
      "Processing sound 140:stim224.wav\n",
      "\n",
      "Processing sound 141:stim225.wav\n",
      "\n",
      "Processing sound 142:stim226.wav\n",
      "\n",
      "Processing sound 143:stim227.wav\n",
      "\n",
      "Processing sound 144:stim228.wav\n",
      "\n",
      "Processing sound 145:stim229.wav\n",
      "\n",
      "Processing sound 146:stim23.wav\n",
      "\n",
      "Processing sound 147:stim230.wav\n",
      "\n",
      "Processing sound 148:stim231.wav\n",
      "\n",
      "Processing sound 149:stim232.wav\n",
      "\n",
      "Processing sound 150:stim233.wav\n",
      "\n",
      "Processing sound 151:stim234.wav\n",
      "\n",
      "Processing sound 152:stim235.wav\n",
      "\n",
      "Processing sound 153:stim236.wav\n",
      "\n",
      "Processing sound 154:stim237.wav\n",
      "\n",
      "Processing sound 155:stim238.wav\n",
      "\n",
      "Processing sound 156:stim239.wav\n",
      "\n",
      "Processing sound 157:stim24.wav\n",
      "\n",
      "Processing sound 158:stim240.wav\n",
      "\n",
      "Processing sound 159:stim241.wav\n",
      "\n",
      "Processing sound 160:stim242.wav\n",
      "\n",
      "Processing sound 161:stim243.wav\n",
      "\n",
      "Processing sound 162:stim244.wav\n",
      "\n",
      "Processing sound 163:stim245.wav\n",
      "\n",
      "Processing sound 164:stim246.wav\n",
      "\n",
      "Processing sound 165:stim247.wav\n",
      "\n",
      "Processing sound 166:stim248.wav\n",
      "\n",
      "Processing sound 167:stim249.wav\n",
      "\n",
      "Processing sound 168:stim25.wav\n",
      "\n",
      "Processing sound 169:stim250.wav\n",
      "\n",
      "Processing sound 170:stim251.wav\n",
      "\n",
      "Processing sound 171:stim252.wav\n",
      "\n",
      "Processing sound 172:stim253.wav\n",
      "\n",
      "Processing sound 173:stim254.wav\n",
      "\n",
      "Processing sound 174:stim255.wav\n",
      "\n"
     ]
    },
    {
     "name": "stderr",
     "output_type": "stream",
     "text": [
      "C:\\Users\\Dell\\Desktop\\avian-audition\\analysis\\anesthetized\\soundsig\\sound.py:285: RuntimeWarning: divide by zero encountered in log10\n",
      "  self.spectro = 20*np.log10(np.abs(spec))\n"
     ]
    },
    {
     "name": "stdout",
     "output_type": "stream",
     "text": [
      "Processing sound 175:stim256.wav\n",
      "\n"
     ]
    },
    {
     "name": "stderr",
     "output_type": "stream",
     "text": [
      "C:\\Users\\Dell\\Desktop\\avian-audition\\analysis\\anesthetized\\soundsig\\sound.py:285: RuntimeWarning: divide by zero encountered in log10\n",
      "  self.spectro = 20*np.log10(np.abs(spec))\n"
     ]
    },
    {
     "name": "stdout",
     "output_type": "stream",
     "text": [
      "Processing sound 176:stim257.wav\n",
      "\n"
     ]
    },
    {
     "name": "stderr",
     "output_type": "stream",
     "text": [
      "C:\\Users\\Dell\\Desktop\\avian-audition\\analysis\\anesthetized\\soundsig\\sound.py:285: RuntimeWarning: divide by zero encountered in log10\n",
      "  self.spectro = 20*np.log10(np.abs(spec))\n"
     ]
    },
    {
     "name": "stdout",
     "output_type": "stream",
     "text": [
      "Processing sound 177:stim258.wav\n",
      "\n"
     ]
    },
    {
     "name": "stderr",
     "output_type": "stream",
     "text": [
      "C:\\Users\\Dell\\Desktop\\avian-audition\\analysis\\anesthetized\\soundsig\\sound.py:285: RuntimeWarning: divide by zero encountered in log10\n",
      "  self.spectro = 20*np.log10(np.abs(spec))\n"
     ]
    },
    {
     "name": "stdout",
     "output_type": "stream",
     "text": [
      "Processing sound 178:stim259.wav\n",
      "\n"
     ]
    },
    {
     "name": "stderr",
     "output_type": "stream",
     "text": [
      "C:\\Users\\Dell\\Desktop\\avian-audition\\analysis\\anesthetized\\soundsig\\sound.py:285: RuntimeWarning: divide by zero encountered in log10\n",
      "  self.spectro = 20*np.log10(np.abs(spec))\n"
     ]
    },
    {
     "name": "stdout",
     "output_type": "stream",
     "text": [
      "Processing sound 179:stim26.wav\n",
      "\n",
      "Processing sound 180:stim260.wav\n",
      "\n"
     ]
    },
    {
     "name": "stderr",
     "output_type": "stream",
     "text": [
      "C:\\Users\\Dell\\Desktop\\avian-audition\\analysis\\anesthetized\\soundsig\\sound.py:285: RuntimeWarning: divide by zero encountered in log10\n",
      "  self.spectro = 20*np.log10(np.abs(spec))\n"
     ]
    },
    {
     "name": "stdout",
     "output_type": "stream",
     "text": [
      "Processing sound 181:stim261.wav\n",
      "\n"
     ]
    },
    {
     "name": "stderr",
     "output_type": "stream",
     "text": [
      "C:\\Users\\Dell\\Desktop\\avian-audition\\analysis\\anesthetized\\soundsig\\sound.py:285: RuntimeWarning: divide by zero encountered in log10\n",
      "  self.spectro = 20*np.log10(np.abs(spec))\n"
     ]
    },
    {
     "name": "stdout",
     "output_type": "stream",
     "text": [
      "Processing sound 182:stim262.wav\n",
      "\n"
     ]
    },
    {
     "name": "stderr",
     "output_type": "stream",
     "text": [
      "C:\\Users\\Dell\\Desktop\\avian-audition\\analysis\\anesthetized\\soundsig\\sound.py:285: RuntimeWarning: divide by zero encountered in log10\n",
      "  self.spectro = 20*np.log10(np.abs(spec))\n"
     ]
    },
    {
     "name": "stdout",
     "output_type": "stream",
     "text": [
      "Processing sound 183:stim263.wav\n",
      "\n"
     ]
    },
    {
     "name": "stderr",
     "output_type": "stream",
     "text": [
      "C:\\Users\\Dell\\Desktop\\avian-audition\\analysis\\anesthetized\\soundsig\\sound.py:285: RuntimeWarning: divide by zero encountered in log10\n",
      "  self.spectro = 20*np.log10(np.abs(spec))\n"
     ]
    },
    {
     "name": "stdout",
     "output_type": "stream",
     "text": [
      "Processing sound 184:stim264.wav\n",
      "\n"
     ]
    },
    {
     "name": "stderr",
     "output_type": "stream",
     "text": [
      "C:\\Users\\Dell\\Desktop\\avian-audition\\analysis\\anesthetized\\soundsig\\sound.py:285: RuntimeWarning: divide by zero encountered in log10\n",
      "  self.spectro = 20*np.log10(np.abs(spec))\n"
     ]
    },
    {
     "name": "stdout",
     "output_type": "stream",
     "text": [
      "Processing sound 185:stim265.wav\n",
      "\n",
      "Processing sound 186:stim266.wav\n",
      "\n",
      "Processing sound 187:stim267.wav\n",
      "\n",
      "Processing sound 188:stim268.wav\n",
      "\n",
      "Processing sound 189:stim269.wav\n",
      "\n",
      "Processing sound 190:stim27.wav\n",
      "\n",
      "Processing sound 191:stim270.wav\n",
      "\n",
      "Processing sound 192:stim271.wav\n",
      "\n",
      "Processing sound 193:stim272.wav\n",
      "\n",
      "Processing sound 194:stim273.wav\n",
      "\n",
      "Processing sound 195:stim274.wav\n",
      "\n",
      "Processing sound 196:stim275.wav\n",
      "\n",
      "Processing sound 197:stim276.wav\n",
      "\n",
      "Processing sound 198:stim277.wav\n",
      "\n",
      "Processing sound 199:stim278.wav\n",
      "\n",
      "Processing sound 200:stim279.wav\n",
      "\n",
      "Processing sound 201:stim28.wav\n",
      "\n",
      "Processing sound 202:stim280.wav\n",
      "\n",
      "Processing sound 203:stim281.wav\n",
      "\n",
      "Processing sound 204:stim282.wav\n",
      "\n",
      "Processing sound 205:stim283.wav\n",
      "\n",
      "Processing sound 206:stim284.wav\n",
      "\n",
      "Processing sound 207:stim285.wav\n",
      "\n",
      "Processing sound 208:stim286.wav\n",
      "\n",
      "Processing sound 209:stim287.wav\n",
      "\n",
      "Processing sound 210:stim288.wav\n",
      "\n",
      "Processing sound 211:stim289.wav\n",
      "\n",
      "Processing sound 212:stim29.wav\n",
      "\n",
      "Processing sound 213:stim3.wav\n",
      "\n",
      "Processing sound 214:stim30.wav\n",
      "\n",
      "Processing sound 215:stim31.wav\n",
      "\n",
      "Processing sound 216:stim32.wav\n",
      "\n",
      "Processing sound 217:stim33.wav\n",
      "\n",
      "Processing sound 218:stim34.wav\n",
      "\n",
      "Processing sound 219:stim35.wav\n",
      "\n",
      "Processing sound 220:stim36.wav\n",
      "\n",
      "Processing sound 221:stim37.wav\n",
      "\n",
      "Processing sound 222:stim38.wav\n",
      "\n",
      "Processing sound 223:stim39.wav\n",
      "\n",
      "Processing sound 224:stim4.wav\n",
      "\n",
      "Processing sound 225:stim40.wav\n",
      "\n"
     ]
    },
    {
     "name": "stderr",
     "output_type": "stream",
     "text": [
      "C:\\Users\\Dell\\AppData\\Roaming\\Python\\Python38\\site-packages\\scipy\\optimize\\minpack.py:475: RuntimeWarning: Number of calls to function has reached maxfev = 2200.\n",
      "  warnings.warn(errors[info][0], RuntimeWarning)\n"
     ]
    },
    {
     "name": "stdout",
     "output_type": "stream",
     "text": [
      "Processing sound 226:stim41.wav\n",
      "\n"
     ]
    },
    {
     "name": "stderr",
     "output_type": "stream",
     "text": [
      "C:\\Users\\Dell\\Desktop\\avian-audition\\analysis\\anesthetized\\soundsig\\sound.py:285: RuntimeWarning: divide by zero encountered in log10\n",
      "  self.spectro = 20*np.log10(np.abs(spec))\n",
      "C:\\Users\\Dell\\AppData\\Roaming\\Python\\Python38\\site-packages\\scipy\\optimize\\minpack.py:475: RuntimeWarning: Number of calls to function has reached maxfev = 2200.\n",
      "  warnings.warn(errors[info][0], RuntimeWarning)\n"
     ]
    },
    {
     "name": "stdout",
     "output_type": "stream",
     "text": [
      "Processing sound 227:stim42.wav\n",
      "\n"
     ]
    },
    {
     "name": "stderr",
     "output_type": "stream",
     "text": [
      "C:\\Users\\Dell\\Desktop\\avian-audition\\analysis\\anesthetized\\soundsig\\sound.py:285: RuntimeWarning: divide by zero encountered in log10\n",
      "  self.spectro = 20*np.log10(np.abs(spec))\n"
     ]
    },
    {
     "name": "stdout",
     "output_type": "stream",
     "text": [
      "Processing sound 228:stim43.wav\n",
      "\n"
     ]
    },
    {
     "name": "stderr",
     "output_type": "stream",
     "text": [
      "C:\\Users\\Dell\\Desktop\\avian-audition\\analysis\\anesthetized\\soundsig\\sound.py:285: RuntimeWarning: divide by zero encountered in log10\n",
      "  self.spectro = 20*np.log10(np.abs(spec))\n"
     ]
    },
    {
     "name": "stdout",
     "output_type": "stream",
     "text": [
      "Processing sound 229:stim44.wav\n",
      "\n"
     ]
    },
    {
     "name": "stderr",
     "output_type": "stream",
     "text": [
      "C:\\Users\\Dell\\AppData\\Roaming\\Python\\Python38\\site-packages\\scipy\\optimize\\minpack.py:475: RuntimeWarning: Number of calls to function has reached maxfev = 2200.\n",
      "  warnings.warn(errors[info][0], RuntimeWarning)\n"
     ]
    },
    {
     "name": "stdout",
     "output_type": "stream",
     "text": [
      "Processing sound 230:stim45.wav\n",
      "\n"
     ]
    },
    {
     "name": "stderr",
     "output_type": "stream",
     "text": [
      "C:\\Users\\Dell\\Desktop\\avian-audition\\analysis\\anesthetized\\soundsig\\sound.py:285: RuntimeWarning: divide by zero encountered in log10\n",
      "  self.spectro = 20*np.log10(np.abs(spec))\n"
     ]
    },
    {
     "name": "stdout",
     "output_type": "stream",
     "text": [
      "Processing sound 231:stim46.wav\n",
      "\n"
     ]
    },
    {
     "name": "stderr",
     "output_type": "stream",
     "text": [
      "C:\\Users\\Dell\\Desktop\\avian-audition\\analysis\\anesthetized\\soundsig\\sound.py:285: RuntimeWarning: divide by zero encountered in log10\n",
      "  self.spectro = 20*np.log10(np.abs(spec))\n"
     ]
    },
    {
     "name": "stdout",
     "output_type": "stream",
     "text": [
      "Processing sound 232:stim47.wav\n",
      "\n"
     ]
    },
    {
     "name": "stderr",
     "output_type": "stream",
     "text": [
      "C:\\Users\\Dell\\Desktop\\avian-audition\\analysis\\anesthetized\\soundsig\\sound.py:285: RuntimeWarning: divide by zero encountered in log10\n",
      "  self.spectro = 20*np.log10(np.abs(spec))\n"
     ]
    },
    {
     "name": "stdout",
     "output_type": "stream",
     "text": [
      "Processing sound 233:stim48.wav\n",
      "\n"
     ]
    },
    {
     "name": "stderr",
     "output_type": "stream",
     "text": [
      "C:\\Users\\Dell\\AppData\\Roaming\\Python\\Python38\\site-packages\\scipy\\optimize\\minpack.py:475: RuntimeWarning: Number of calls to function has reached maxfev = 2200.\n",
      "  warnings.warn(errors[info][0], RuntimeWarning)\n"
     ]
    },
    {
     "name": "stdout",
     "output_type": "stream",
     "text": [
      "Processing sound 234:stim49.wav\n",
      "\n"
     ]
    },
    {
     "name": "stderr",
     "output_type": "stream",
     "text": [
      "C:\\Users\\Dell\\AppData\\Roaming\\Python\\Python38\\site-packages\\scipy\\optimize\\minpack.py:475: RuntimeWarning: Number of calls to function has reached maxfev = 2200.\n",
      "  warnings.warn(errors[info][0], RuntimeWarning)\n"
     ]
    },
    {
     "name": "stdout",
     "output_type": "stream",
     "text": [
      "Processing sound 235:stim5.wav\n",
      "\n",
      "Processing sound 236:stim50.wav\n",
      "\n"
     ]
    },
    {
     "name": "stderr",
     "output_type": "stream",
     "text": [
      "C:\\Users\\Dell\\AppData\\Roaming\\Python\\Python38\\site-packages\\scipy\\optimize\\minpack.py:475: RuntimeWarning: Number of calls to function has reached maxfev = 2200.\n",
      "  warnings.warn(errors[info][0], RuntimeWarning)\n"
     ]
    },
    {
     "name": "stdout",
     "output_type": "stream",
     "text": [
      "Processing sound 237:stim51.wav\n",
      "\n"
     ]
    },
    {
     "name": "stderr",
     "output_type": "stream",
     "text": [
      "C:\\Users\\Dell\\Desktop\\avian-audition\\analysis\\anesthetized\\soundsig\\sound.py:285: RuntimeWarning: divide by zero encountered in log10\n",
      "  self.spectro = 20*np.log10(np.abs(spec))\n"
     ]
    },
    {
     "name": "stdout",
     "output_type": "stream",
     "text": [
      "Processing sound 238:stim52.wav\n",
      "\n"
     ]
    },
    {
     "name": "stderr",
     "output_type": "stream",
     "text": [
      "C:\\Users\\Dell\\Desktop\\avian-audition\\analysis\\anesthetized\\soundsig\\sound.py:285: RuntimeWarning: divide by zero encountered in log10\n",
      "  self.spectro = 20*np.log10(np.abs(spec))\n"
     ]
    },
    {
     "name": "stdout",
     "output_type": "stream",
     "text": [
      "Processing sound 239:stim53.wav\n",
      "\n"
     ]
    },
    {
     "name": "stderr",
     "output_type": "stream",
     "text": [
      "C:\\Users\\Dell\\Desktop\\avian-audition\\analysis\\anesthetized\\soundsig\\sound.py:285: RuntimeWarning: divide by zero encountered in log10\n",
      "  self.spectro = 20*np.log10(np.abs(spec))\n"
     ]
    },
    {
     "name": "stdout",
     "output_type": "stream",
     "text": [
      "Processing sound 240:stim54.wav\n",
      "\n"
     ]
    },
    {
     "name": "stderr",
     "output_type": "stream",
     "text": [
      "C:\\Users\\Dell\\Desktop\\avian-audition\\analysis\\anesthetized\\soundsig\\sound.py:285: RuntimeWarning: divide by zero encountered in log10\n",
      "  self.spectro = 20*np.log10(np.abs(spec))\n",
      "C:\\Users\\Dell\\AppData\\Roaming\\Python\\Python38\\site-packages\\scipy\\optimize\\minpack.py:475: RuntimeWarning: Number of calls to function has reached maxfev = 2200.\n",
      "  warnings.warn(errors[info][0], RuntimeWarning)\n"
     ]
    },
    {
     "name": "stdout",
     "output_type": "stream",
     "text": [
      "Processing sound 241:stim55.wav\n",
      "\n"
     ]
    },
    {
     "name": "stderr",
     "output_type": "stream",
     "text": [
      "C:\\Users\\Dell\\Desktop\\avian-audition\\analysis\\anesthetized\\soundsig\\sound.py:285: RuntimeWarning: divide by zero encountered in log10\n",
      "  self.spectro = 20*np.log10(np.abs(spec))\n"
     ]
    },
    {
     "name": "stdout",
     "output_type": "stream",
     "text": [
      "Processing sound 242:stim56.wav\n",
      "\n",
      "Processing sound 243:stim57.wav\n",
      "\n"
     ]
    },
    {
     "name": "stderr",
     "output_type": "stream",
     "text": [
      "C:\\Users\\Dell\\AppData\\Roaming\\Python\\Python38\\site-packages\\scipy\\optimize\\minpack.py:475: RuntimeWarning: Number of calls to function has reached maxfev = 2200.\n",
      "  warnings.warn(errors[info][0], RuntimeWarning)\n"
     ]
    },
    {
     "name": "stdout",
     "output_type": "stream",
     "text": [
      "Processing sound 244:stim58.wav\n",
      "\n",
      "Processing sound 245:stim59.wav\n",
      "\n"
     ]
    },
    {
     "name": "stderr",
     "output_type": "stream",
     "text": [
      "C:\\Users\\Dell\\Desktop\\avian-audition\\analysis\\anesthetized\\soundsig\\sound.py:285: RuntimeWarning: divide by zero encountered in log10\n",
      "  self.spectro = 20*np.log10(np.abs(spec))\n",
      "C:\\Users\\Dell\\AppData\\Roaming\\Python\\Python38\\site-packages\\scipy\\optimize\\minpack.py:475: RuntimeWarning: Number of calls to function has reached maxfev = 2200.\n",
      "  warnings.warn(errors[info][0], RuntimeWarning)\n"
     ]
    },
    {
     "name": "stdout",
     "output_type": "stream",
     "text": [
      "Processing sound 246:stim6.wav\n",
      "\n",
      "Processing sound 247:stim60.wav\n",
      "\n"
     ]
    },
    {
     "name": "stderr",
     "output_type": "stream",
     "text": [
      "C:\\Users\\Dell\\Desktop\\avian-audition\\analysis\\anesthetized\\soundsig\\sound.py:285: RuntimeWarning: divide by zero encountered in log10\n",
      "  self.spectro = 20*np.log10(np.abs(spec))\n"
     ]
    },
    {
     "name": "stdout",
     "output_type": "stream",
     "text": [
      "Processing sound 248:stim61.wav\n",
      "\n"
     ]
    },
    {
     "name": "stderr",
     "output_type": "stream",
     "text": [
      "C:\\Users\\Dell\\Desktop\\avian-audition\\analysis\\anesthetized\\soundsig\\sound.py:285: RuntimeWarning: divide by zero encountered in log10\n",
      "  self.spectro = 20*np.log10(np.abs(spec))\n"
     ]
    },
    {
     "name": "stdout",
     "output_type": "stream",
     "text": [
      "Processing sound 249:stim62.wav\n",
      "\n",
      "Processing sound 250:stim63.wav\n",
      "\n"
     ]
    },
    {
     "name": "stderr",
     "output_type": "stream",
     "text": [
      "C:\\Users\\Dell\\Desktop\\avian-audition\\analysis\\anesthetized\\soundsig\\sound.py:285: RuntimeWarning: divide by zero encountered in log10\n",
      "  self.spectro = 20*np.log10(np.abs(spec))\n"
     ]
    },
    {
     "name": "stdout",
     "output_type": "stream",
     "text": [
      "Processing sound 251:stim64.wav\n",
      "\n"
     ]
    },
    {
     "name": "stderr",
     "output_type": "stream",
     "text": [
      "C:\\Users\\Dell\\Desktop\\avian-audition\\analysis\\anesthetized\\soundsig\\sound.py:285: RuntimeWarning: divide by zero encountered in log10\n",
      "  self.spectro = 20*np.log10(np.abs(spec))\n",
      "C:\\Users\\Dell\\AppData\\Roaming\\Python\\Python38\\site-packages\\scipy\\optimize\\minpack.py:475: RuntimeWarning: Number of calls to function has reached maxfev = 2200.\n",
      "  warnings.warn(errors[info][0], RuntimeWarning)\n"
     ]
    },
    {
     "name": "stdout",
     "output_type": "stream",
     "text": [
      "Processing sound 252:stim65.wav\n",
      "\n"
     ]
    },
    {
     "name": "stderr",
     "output_type": "stream",
     "text": [
      "C:\\Users\\Dell\\Desktop\\avian-audition\\analysis\\anesthetized\\soundsig\\sound.py:285: RuntimeWarning: divide by zero encountered in log10\n",
      "  self.spectro = 20*np.log10(np.abs(spec))\n"
     ]
    },
    {
     "name": "stdout",
     "output_type": "stream",
     "text": [
      "Processing sound 253:stim66.wav\n",
      "\n",
      "Processing sound 254:stim67.wav\n",
      "\n",
      "Processing sound 255:stim68.wav\n",
      "\n",
      "Processing sound 256:stim69.wav\n",
      "\n",
      "Processing sound 257:stim7.wav\n",
      "\n",
      "Processing sound 258:stim70.wav\n",
      "\n",
      "Processing sound 259:stim71.wav\n",
      "\n",
      "Processing sound 260:stim72.wav\n",
      "\n",
      "Processing sound 261:stim73.wav\n",
      "\n",
      "Processing sound 262:stim74.wav\n",
      "\n",
      "Processing sound 263:stim75.wav\n",
      "\n",
      "Processing sound 264:stim76.wav\n",
      "\n",
      "Processing sound 265:stim77.wav\n",
      "\n",
      "Processing sound 266:stim78.wav\n",
      "\n",
      "Processing sound 267:stim79.wav\n",
      "\n"
     ]
    },
    {
     "name": "stderr",
     "output_type": "stream",
     "text": [
      "C:\\Users\\Dell\\AppData\\Roaming\\Python\\Python38\\site-packages\\scipy\\optimize\\minpack.py:475: RuntimeWarning: Number of calls to function has reached maxfev = 2200.\n",
      "  warnings.warn(errors[info][0], RuntimeWarning)\n"
     ]
    },
    {
     "name": "stdout",
     "output_type": "stream",
     "text": [
      "Processing sound 268:stim8.wav\n",
      "\n",
      "Processing sound 269:stim80.wav\n",
      "\n",
      "Processing sound 270:stim81.wav\n",
      "\n",
      "Processing sound 271:stim82.wav\n",
      "\n"
     ]
    },
    {
     "name": "stderr",
     "output_type": "stream",
     "text": [
      "C:\\Users\\Dell\\AppData\\Roaming\\Python\\Python38\\site-packages\\scipy\\optimize\\minpack.py:475: RuntimeWarning: Number of calls to function has reached maxfev = 2200.\n",
      "  warnings.warn(errors[info][0], RuntimeWarning)\n"
     ]
    },
    {
     "name": "stdout",
     "output_type": "stream",
     "text": [
      "Processing sound 272:stim83.wav\n",
      "\n",
      "Processing sound 273:stim84.wav\n",
      "\n",
      "Processing sound 274:stim85.wav\n",
      "\n"
     ]
    },
    {
     "name": "stderr",
     "output_type": "stream",
     "text": [
      "C:\\Users\\Dell\\AppData\\Roaming\\Python\\Python38\\site-packages\\scipy\\optimize\\minpack.py:475: RuntimeWarning: Number of calls to function has reached maxfev = 2200.\n",
      "  warnings.warn(errors[info][0], RuntimeWarning)\n"
     ]
    },
    {
     "name": "stdout",
     "output_type": "stream",
     "text": [
      "Processing sound 275:stim86.wav\n",
      "\n"
     ]
    },
    {
     "name": "stderr",
     "output_type": "stream",
     "text": [
      "C:\\Users\\Dell\\AppData\\Roaming\\Python\\Python38\\site-packages\\scipy\\optimize\\minpack.py:475: RuntimeWarning: Number of calls to function has reached maxfev = 2200.\n",
      "  warnings.warn(errors[info][0], RuntimeWarning)\n"
     ]
    },
    {
     "name": "stdout",
     "output_type": "stream",
     "text": [
      "Processing sound 276:stim87.wav\n",
      "\n"
     ]
    },
    {
     "name": "stderr",
     "output_type": "stream",
     "text": [
      "C:\\Users\\Dell\\AppData\\Roaming\\Python\\Python38\\site-packages\\scipy\\optimize\\minpack.py:475: RuntimeWarning: Number of calls to function has reached maxfev = 2200.\n",
      "  warnings.warn(errors[info][0], RuntimeWarning)\n"
     ]
    },
    {
     "name": "stdout",
     "output_type": "stream",
     "text": [
      "Processing sound 277:stim88.wav\n",
      "\n"
     ]
    },
    {
     "name": "stderr",
     "output_type": "stream",
     "text": [
      "C:\\Users\\Dell\\AppData\\Roaming\\Python\\Python38\\site-packages\\scipy\\optimize\\minpack.py:475: RuntimeWarning: Number of calls to function has reached maxfev = 2200.\n",
      "  warnings.warn(errors[info][0], RuntimeWarning)\n"
     ]
    },
    {
     "name": "stdout",
     "output_type": "stream",
     "text": [
      "Processing sound 278:stim89.wav\n",
      "\n",
      "Processing sound 279:stim9.wav\n",
      "\n",
      "Processing sound 280:stim90.wav\n",
      "\n"
     ]
    },
    {
     "name": "stderr",
     "output_type": "stream",
     "text": [
      "C:\\Users\\Dell\\AppData\\Roaming\\Python\\Python38\\site-packages\\scipy\\optimize\\minpack.py:475: RuntimeWarning: Number of calls to function has reached maxfev = 2200.\n",
      "  warnings.warn(errors[info][0], RuntimeWarning)\n"
     ]
    },
    {
     "name": "stdout",
     "output_type": "stream",
     "text": [
      "Processing sound 281:stim91.wav\n",
      "\n",
      "Processing sound 282:stim92.wav\n",
      "\n"
     ]
    },
    {
     "name": "stderr",
     "output_type": "stream",
     "text": [
      "C:\\Users\\Dell\\AppData\\Roaming\\Python\\Python38\\site-packages\\scipy\\optimize\\minpack.py:475: RuntimeWarning: Number of calls to function has reached maxfev = 2200.\n",
      "  warnings.warn(errors[info][0], RuntimeWarning)\n"
     ]
    },
    {
     "name": "stdout",
     "output_type": "stream",
     "text": [
      "Processing sound 283:stim93.wav\n",
      "\n",
      "Processing sound 284:stim94.wav\n",
      "\n",
      "Processing sound 285:stim95.wav\n",
      "\n",
      "Processing sound 286:stim96.wav\n",
      "\n"
     ]
    },
    {
     "name": "stderr",
     "output_type": "stream",
     "text": [
      "C:\\Users\\Dell\\AppData\\Roaming\\Python\\Python38\\site-packages\\scipy\\optimize\\minpack.py:475: RuntimeWarning: Number of calls to function has reached maxfev = 2200.\n",
      "  warnings.warn(errors[info][0], RuntimeWarning)\n"
     ]
    },
    {
     "name": "stdout",
     "output_type": "stream",
     "text": [
      "Processing sound 287:stim97.wav\n",
      "\n"
     ]
    },
    {
     "name": "stderr",
     "output_type": "stream",
     "text": [
      "C:\\Users\\Dell\\Desktop\\avian-audition\\analysis\\anesthetized\\soundsig\\sound.py:285: RuntimeWarning: divide by zero encountered in log10\n",
      "  self.spectro = 20*np.log10(np.abs(spec))\n"
     ]
    },
    {
     "name": "stdout",
     "output_type": "stream",
     "text": [
      "Processing sound 288:stim98.wav\n",
      "\n"
     ]
    },
    {
     "name": "stderr",
     "output_type": "stream",
     "text": [
      "C:\\Users\\Dell\\Desktop\\avian-audition\\analysis\\anesthetized\\soundsig\\sound.py:285: RuntimeWarning: divide by zero encountered in log10\n",
      "  self.spectro = 20*np.log10(np.abs(spec))\n"
     ]
    },
    {
     "name": "stdout",
     "output_type": "stream",
     "text": [
      "Processing sound 289:stim99.wav\n",
      "\n"
     ]
    }
   ],
   "source": [
    "os.chdir(wave_root)\n",
    "\n",
    "# Plot flag to decide whether or not to plot output\n",
    "plotMe = False\n",
    "normalize = False\n",
    "\n",
    "# Find all the wave files \n",
    "isound = 0   \n",
    "for fname in os.listdir(wave_root):\n",
    "    if fname.endswith('.wav'):\n",
    "        isound += 1\n",
    "        \n",
    "        # Read the sound file\n",
    "        print ('Processing sound %d:%s\\n' % (isound, fname))\n",
    "        \n",
    "        # Mono == True forces the sound stored to be a single channel as bioSound does not deal with stereo.\n",
    "        soundIn = WavFile(file_name=fname, mono=True) \n",
    "        filename, file_extension = os.path.splitext(fname)        \n",
    "        \n",
    "        # Here we parse the filename to get the birdname and the call type. \n",
    "        # You will have to write custom code to extract your own identifiers.\n",
    "        stim_number = filename[filename.find('stim')+4:]\n",
    "        \n",
    "        birdname = subject\n",
    "        calltype = df[(df['subject']==subject)&(df['stim_number']==int(stim_number))]['vocid'].unique()\n",
    "        if len(calltype) == 0:\n",
    "            continue\n",
    "        assert len(calltype) == 1\n",
    "        calltype = calltype[0]\n",
    "        \n",
    "        # Normalize if wanted\n",
    "        if normalize :\n",
    "            maxAmp = np.abs(soundIn.data).max() \n",
    "        else :\n",
    "            maxAmp = 1.0\n",
    "    \n",
    "    # Create BioSound Object\n",
    "        myBioSound = BioSound(soundWave=soundIn.data.astype(float)/maxAmp, fs=float(soundIn.sample_rate), emitter=birdname, calltype = calltype)\n",
    "             \n",
    "    # Calculate the spectrogram and the rms\n",
    "        myBioSound.spectroCalc(spec_sample_rate=1000, freq_spacing = 50, min_freq=0, max_freq=10000)\n",
    "        myBioSound.rms = myBioSound.sound.std() \n",
    "       \n",
    "    # Calculate amplitude enveloppe\n",
    "        myBioSound.ampenv(cutoff_freq = 20, amp_sample_rate = 1000)\n",
    "       \n",
    "    # Calculate the power spectrum\n",
    "        myBioSound.spectrum(f_high=10000)\n",
    "    \n",
    "    # Calculate fundamental and related values.  These are the default values.\n",
    "    # For the estimation of the fundamental, four methods are available: \n",
    "    # 'AC' - Peak of the auto-correlation function\n",
    "    # 'ACA' - Peak of envelope of auto-correlation function \n",
    "    # 'Cep' - First peak in cepstrum \n",
    "    # 'Stack' - Fitting of harmonic stacks (default - works well for zebra finches)\n",
    "    \n",
    "        myBioSound.fundest(maxFund = 1500, minFund = 300, lowFc = 200, highFc = 6000, \n",
    "                           minSaliency = 0.5, debugFig = 0, \n",
    "                           minFormantFreq = 500, maxFormantBW = 500, windowFormant = 0.1,\n",
    "                           method='Stack')\n",
    "      \n",
    "    # Calculate the MPS\n",
    "        myBioSound.mpsCalc(window=0.1, Norm = True)\n",
    "                \n",
    "        if plotMe and isound <= 10: \n",
    "            print('++++++++++++++++++++++++++++++++++++++++++++++++++++++++++++++++++++++++')\n",
    "            print('                Bird %s    Call Type %s' % (myBioSound.emitter, myBioSound.type))\n",
    "            myBioSound.plot(DBNOISE=50, f_low=250, f_high=10000)  \n",
    "            print('++++++++++++++++++++++++++++++++++++++++++++++++++++++++++++++++++++++++')\n",
    "\n",
    "    # Save the results\n",
    "        fh5name = 'h5files/%s.h5' % (filename)\n",
    "        myBioSound.saveh5(fh5name)\n",
    "        \n",
    "os.chdir(base_path)\n",
    "print('Done')"
   ]
  },
  {
   "cell_type": "code",
   "execution_count": 28,
   "id": "e9eff24e-6e30-4cb7-ab0b-7dbdb34346ef",
   "metadata": {},
   "outputs": [
    {
     "name": "stdout",
     "output_type": "stream",
     "text": [
      "Done\n"
     ]
    }
   ],
   "source": [
    "print('Done')"
   ]
  },
  {
   "cell_type": "code",
   "execution_count": null,
   "id": "32cb3364-cb13-4d35-85b2-b3eca55de61c",
   "metadata": {},
   "outputs": [],
   "source": []
  }
 ],
 "metadata": {
  "kernelspec": {
   "display_name": "Python 3",
   "language": "python",
   "name": "python3"
  },
  "language_info": {
   "codemirror_mode": {
    "name": "ipython",
    "version": 3
   },
   "file_extension": ".py",
   "mimetype": "text/x-python",
   "name": "python",
   "nbconvert_exporter": "python",
   "pygments_lexer": "ipython3",
   "version": "3.8.8"
  }
 },
 "nbformat": 4,
 "nbformat_minor": 5
}
