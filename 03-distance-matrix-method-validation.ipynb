{
 "cells": [
  {
   "cell_type": "markdown",
   "id": "3876a035-6929-4d55-8682-5e6a84739d2d",
   "metadata": {},
   "source": [
    "# Method Validation"
   ]
  },
  {
   "cell_type": "code",
   "execution_count": 80,
   "id": "853f948f-af30-4695-b531-444251e1f154",
   "metadata": {},
   "outputs": [],
   "source": [
    "import numpy as np\n",
    "import pandas as pd\n",
    "import matplotlib.pyplot as plt\n",
    "import seaborn as sns\n",
    "\n",
    "from scipy.stats import poisson\n",
    "from scipy import signal, stats\n",
    "from scipy.spatial.distance import cosine, euclidean, directed_hausdorff\n",
    "\n",
    "from sklearn.decomposition import PCA\n",
    "from sklearn.preprocessing import MinMaxScaler, StandardScaler\n",
    "\n",
    "from scipy.io import wavfile\n",
    "from soundsig.sound import BioSound \n",
    "from soundsig.sound import WavFile\n",
    "\n",
    "import os\n",
    "import h5py\n",
    "from tqdm import tqdm\n",
    "\n",
    "import warnings\n",
    "warnings.filterwarnings(\"ignore\")"
   ]
  },
  {
   "cell_type": "code",
   "execution_count": 2,
   "id": "b33716f4-7c57-4223-87ce-6c3c16249fda",
   "metadata": {},
   "outputs": [
    {
     "data": {
      "text/plain": [
       "'..\\\\..\\\\data\\\\anesthetized'"
      ]
     },
     "execution_count": 2,
     "metadata": {},
     "output_type": "execute_result"
    }
   ],
   "source": [
    "data_root = os.path.join('..', '..', 'data', 'anesthetized')\n",
    "data_root"
   ]
  },
  {
   "cell_type": "code",
   "execution_count": 3,
   "id": "5193e350-144f-4905-9009-ad0916d5ac0f",
   "metadata": {},
   "outputs": [
    {
     "data": {
      "text/html": [
       "<div>\n",
       "<style scoped>\n",
       "    .dataframe tbody tr th:only-of-type {\n",
       "        vertical-align: middle;\n",
       "    }\n",
       "\n",
       "    .dataframe tbody tr th {\n",
       "        vertical-align: top;\n",
       "    }\n",
       "\n",
       "    .dataframe thead th {\n",
       "        text-align: right;\n",
       "    }\n",
       "</style>\n",
       "<table border=\"1\" class=\"dataframe\">\n",
       "  <thead>\n",
       "    <tr style=\"text-align: right;\">\n",
       "      <th></th>\n",
       "      <th>subject</th>\n",
       "      <th>site</th>\n",
       "      <th>single_unit</th>\n",
       "      <th>sortType</th>\n",
       "      <th>stim_number</th>\n",
       "      <th>original_wavfile</th>\n",
       "      <th>callerAge</th>\n",
       "      <th>callid</th>\n",
       "      <th>stim_duration</th>\n",
       "      <th>stim_source</th>\n",
       "      <th>stim_source_sex</th>\n",
       "      <th>stim_type</th>\n",
       "      <th>brain_region</th>\n",
       "      <th>hemisphere</th>\n",
       "      <th>vocid</th>\n",
       "      <th>auditory_cortex</th>\n",
       "    </tr>\n",
       "  </thead>\n",
       "  <tbody>\n",
       "    <tr>\n",
       "      <th>37852</th>\n",
       "      <td>GreBlu9508M</td>\n",
       "      <td>Site4</td>\n",
       "      <td>Site4_L1500R1900_e2_s0_ss1</td>\n",
       "      <td>single</td>\n",
       "      <td>272</td>\n",
       "      <td>WhiLbl0010_MAS_Ne_10-4-9.wav</td>\n",
       "      <td>A</td>\n",
       "      <td>Ne</td>\n",
       "      <td>2.5</td>\n",
       "      <td>unfamiliar</td>\n",
       "      <td>m</td>\n",
       "      <td>call</td>\n",
       "      <td>CMM</td>\n",
       "      <td>L</td>\n",
       "      <td>Ne</td>\n",
       "      <td>A2</td>\n",
       "    </tr>\n",
       "  </tbody>\n",
       "</table>\n",
       "</div>"
      ],
      "text/plain": [
       "           subject   site                 single_unit sortType  stim_number  \\\n",
       "37852  GreBlu9508M  Site4  Site4_L1500R1900_e2_s0_ss1   single          272   \n",
       "\n",
       "                   original_wavfile callerAge callid  stim_duration  \\\n",
       "37852  WhiLbl0010_MAS_Ne_10-4-9.wav         A     Ne            2.5   \n",
       "\n",
       "      stim_source stim_source_sex stim_type brain_region hemisphere vocid  \\\n",
       "37852  unfamiliar               m      call          CMM          L    Ne   \n",
       "\n",
       "      auditory_cortex  \n",
       "37852              A2  "
      ]
     },
     "execution_count": 3,
     "metadata": {},
     "output_type": "execute_result"
    }
   ],
   "source": [
    "df = pd.read_csv('aa-4.csv')\n",
    "df.sample(n=1)"
   ]
  },
  {
   "cell_type": "markdown",
   "id": "439fe319-b2eb-49ae-a82f-8ab9380bb6db",
   "metadata": {},
   "source": [
    "## Utility Functions"
   ]
  },
  {
   "cell_type": "markdown",
   "id": "44d7e499-c872-4a6c-900b-40c60f63ceeb",
   "metadata": {},
   "source": [
    "### Get Biological Neural Responses for Comparison"
   ]
  },
  {
   "cell_type": "code",
   "execution_count": 4,
   "id": "3e4e7ded-cd87-4d72-b7eb-ffb32f24760d",
   "metadata": {},
   "outputs": [
    {
     "data": {
      "text/plain": [
       "(9, 23)"
      ]
     },
     "execution_count": 4,
     "metadata": {},
     "output_type": "execute_result"
    }
   ],
   "source": [
    "# returns a matrix of shape (n_trials, n_neurons).\n",
    "def getPopulationResponse(bird, stim_number, hemisphere='L', site='Site2'):\n",
    "    resp_df = df[(df['subject']==bird) & (df['stim_number']==stim_number) & (df['hemisphere']==hemisphere) & (df['site']==site)]\n",
    "    \n",
    "    # load data\n",
    "    cells = resp_df['single_unit'].unique()\n",
    "    population_response = []\n",
    "    \n",
    "    # cell == neuron\n",
    "    for cell in cells:\n",
    "        # load cell\n",
    "        source_path = os.path.join(data_root, bird, cell+'.h5')\n",
    "        neuron_data = h5py.File(source_path)\n",
    "        main_key = [k for k in neuron_data.keys() if k.__contains__('Call')][0]\n",
    "        \n",
    "        # load response\n",
    "        cell_response = []\n",
    "        trialIDs = neuron_data[main_key][str(stim_number)].keys()\n",
    "        for trialID in trialIDs:\n",
    "            trial_response = neuron_data[main_key][str(stim_number)][trialID]['spike_times'][:]\n",
    "            cell_response.append(trial_response)\n",
    "        \n",
    "        population_response.append(cell_response)\n",
    "    population_response = np.array(population_response)\n",
    "    return np.swapaxes(population_response, 0, 1)    # since neuron is in the outer loop, original shape is (n_neurons, n_trials)\n",
    "\n",
    "response = getPopulationResponse('GreBlu9508M', stim_number=101)\n",
    "response.shape"
   ]
  },
  {
   "cell_type": "code",
   "execution_count": 5,
   "id": "81d7cf30-8eff-49c9-b071-e5a99673e4f9",
   "metadata": {},
   "outputs": [
    {
     "data": {
      "text/plain": [
       "(9, 23, 250)"
      ]
     },
     "execution_count": 5,
     "metadata": {},
     "output_type": "execute_result"
    }
   ],
   "source": [
    "# returns a matrix of shape (n_trials, n_neurons, n_timesteps)\n",
    "def times2trains(population_response, start=0, end=450):\n",
    "    trial_count = population_response.shape[0]\n",
    "    neuron_count = population_response.shape[1]\n",
    "    \n",
    "    spike_trains = np.zeros((trial_count, neuron_count, 450))\n",
    "    for i, trial in enumerate(population_response):\n",
    "        for j, neuron in enumerate(trial):\n",
    "            for k, time in enumerate(neuron):\n",
    "                if time >= -999:    # NaNs are stored as -999 in the data\n",
    "                    time = np.clip(time, -1, 3.49)\n",
    "                    spike_trains[i, j, 100+int(np.round(time*100))] += 1\n",
    "    return spike_trains[:, :, start:end]\n",
    "\n",
    "spike_trains = times2trains(response, start=100, end=350)\n",
    "spike_trains.shape"
   ]
  },
  {
   "cell_type": "code",
   "execution_count": 253,
   "id": "1f906d60-22e1-4274-8806-4e631f1bb0fe",
   "metadata": {},
   "outputs": [
    {
     "data": {
      "text/plain": [
       "Text(0.5, 1.0, 'Spike train from a real neuron')"
      ]
     },
     "execution_count": 253,
     "metadata": {},
     "output_type": "execute_result"
    },
    {
     "data": {
      "image/png": "[encoded data removed]",
      "text/plain": [
       "<Figure size 432x288 with 1 Axes>"
      ]
     },
     "metadata": {
      "needs_background": "light"
     },
     "output_type": "display_data"
    }
   ],
   "source": [
    "plt.vlines(np.arange(100), 0, spike_trains[0][14][:100])\n",
    "plt.title('Spike train from a real neuron')"
   ]
  },
  {
   "cell_type": "markdown",
   "id": "82bed133-b13b-492d-86c0-e128df109db9",
   "metadata": {},
   "source": [
    "### Extract Acoustic Features"
   ]
  },
  {
   "cell_type": "code",
   "execution_count": 18,
   "id": "4898fdff-a054-4610-91a7-83faf7902de2",
   "metadata": {},
   "outputs": [],
   "source": [
    "def get_features(myBioSound):\n",
    "    feature_vector = np.array([\n",
    "                              # Pitch features\n",
    "                              myBioSound.fund, myBioSound.meansal, myBioSound.maxfund, \n",
    "                              myBioSound.minfund, myBioSound.cvfund, \n",
    "\n",
    "                              # Shape of spectral envelope\n",
    "                              myBioSound.meanspect, myBioSound.stdspect,\n",
    "                              myBioSound.skewspect, myBioSound.kurtosisspect, myBioSound.entropyspect,\n",
    "                              myBioSound.q1, myBioSound.q2, myBioSound.q3,\n",
    "\n",
    "                              # Shape and magnitude of amplitude envelope\n",
    "                              myBioSound.meantime, myBioSound.stdtime,\n",
    "                              myBioSound.skewtime, myBioSound.kurtosistime, myBioSound.entropytime,\n",
    "                              myBioSound.rms, myBioSound.maxAmp])\n",
    "    feature_vector = np.reshape(feature_vector, (1, 20))\n",
    "    return feature_vector"
   ]
  },
  {
   "cell_type": "markdown",
   "id": "aad1e6c4-59ce-4e0a-b605-eee2795068dc",
   "metadata": {},
   "source": [
    "### Generate Synthetic Dataset"
   ]
  },
  {
   "cell_type": "code",
   "execution_count": 23,
   "id": "4887dc81-4368-408e-9f25-7d3a52539ecf",
   "metadata": {},
   "outputs": [],
   "source": [
    "def get_synthetic_dataset(bird, hemisphere='L', auditory_cortex='A2', n_timesteps=None):\n",
    "    resp_df = df[(df['subject']==bird) & (df['hemisphere']==hemisphere) & (df['auditory_cortex']==auditory_cortex)]\n",
    "\n",
    "    # load data\n",
    "    cells = resp_df['single_unit'].unique()\n",
    "    callids = resp_df['callid'].unique()\n",
    "    X_features, X_response, y = np.empty((0, 1, 20)), np.empty((0, 1, 20)), np.empty((0))\n",
    "    \n",
    "    for callid in tqdm(callids):\n",
    "        stimuli = resp_df[resp_df['callid']==callid]['stim_number'].unique()\n",
    "        for stimulus in stimuli[:3]:\n",
    "            filepath = os.path.join(data_root, bird, 'wavfiles', 'stim'+str(stimulus)+'.wav')\n",
    "            \n",
    "            soundIn = WavFile(file_name=filepath, mono=True)\n",
    "\n",
    "            # Create BioSound Object\n",
    "            myBioSound = BioSound(soundWave=soundIn.data.astype(float), fs=soundIn.sample_rate)\n",
    "\n",
    "            # Calculate the spectrogram and the rms\n",
    "            myBioSound.spectroCalc(spec_sample_rate=1000, freq_spacing = 50, min_freq=0, max_freq=10000)\n",
    "            myBioSound.rms = myBioSound.sound.std() \n",
    "\n",
    "            # Calculate amplitude enveloppe\n",
    "            myBioSound.ampenv(cutoff_freq = 20, amp_sample_rate = 1000)\n",
    "\n",
    "            # Calculate the power spectrum\n",
    "            myBioSound.spectrum(f_high=2000)\n",
    "\n",
    "            # Calculate fundamental and related values.  These are the default values.\n",
    "            # For the estimation of the fundamental, four methods are available: \n",
    "            # 'AC' - Peak of the auto-correlation function\n",
    "            # 'ACA' - Peak of envelope of auto-correlation function \n",
    "            # 'Cep' - First peak in cepstrum \n",
    "            # 'Stack' - Fitting of harmonic stacks (default - works well for zebra finches)\n",
    "\n",
    "            myBioSound.fundest(maxFund = 1500, minFund = 300, lowFc = 200, highFc = 2000, \n",
    "                               minSaliency = 0.5, debugFig = 0, \n",
    "                               minFormantFreq = 500, maxFormantBW = 500, windowFormant = 0.1,\n",
    "                               method='Stack')\n",
    "\n",
    "            # Calculate the MPS\n",
    "            myBioSound.mpsCalc(window=0.1, Norm = True)\n",
    "            \n",
    "            feature_vector = get_features(myBioSound)\n",
    "            feature_vector = np.expand_dims(feature_vector, axis=0)\n",
    "            X_features = np.append(X_features, feature_vector, axis=0)\n",
    "            y = np.append(y, callid)\n",
    "    \n",
    "    \n",
    "    scaler = MinMaxScaler(feature_range=(0.005, 0.500))\n",
    "    X_features_scaled = scaler.fit_transform(X_features[:, 0, :])\n",
    "    for feature_vector in X_features_scaled:\n",
    "        neural_response = []\n",
    "        for i in range(feature_vector.shape[-1]):\n",
    "            mu = np.maximum(feature_vector[i] + np.random.default_rng().normal(scale=feature_vector[i]*0.50), 0)\n",
    "            r = poisson.rvs(mu, size=100)\n",
    "            spike_count = np.sum(r)\n",
    "            neural_response.append(spike_count)\n",
    "        neural_response = np.array(neural_response)\n",
    "        neural_response = np.reshape(neural_response, (1, 1, 20))\n",
    "        X_response = np.append(X_response, neural_response, axis=0)\n",
    "    \n",
    "    return X_features, X_response, y"
   ]
  },
  {
   "cell_type": "code",
   "execution_count": 232,
   "id": "34f46659-7fdf-460e-8722-5245bdad266b",
   "metadata": {},
   "outputs": [],
   "source": [
    "# use this block to recalculate X_reponse if you want to change noise level\n",
    "X_response = np.empty((0, 1, 20))\n",
    "X_trains = np.empty((0, 100, 20))\n",
    "scaler = MinMaxScaler(feature_range=(0.005, 0.500))\n",
    "X_features_scaled = scaler.fit_transform(X_features[:, 0, :])\n",
    "for feature_vector in X_features_scaled:\n",
    "    neural_response, spike_train = [], []\n",
    "    for i in range(feature_vector.shape[-1]):\n",
    "        mu = np.maximum(feature_vector[i] + np.random.default_rng().normal(scale=feature_vector[i]*0.50), 0)\n",
    "        r = poisson.rvs(mu, size=100)\n",
    "        spike_count = np.sum(r)\n",
    "        \n",
    "        neural_response.append(spike_count)\n",
    "        spike_train.append(r)\n",
    "        \n",
    "    neural_response = np.array(neural_response)\n",
    "    neural_response = np.reshape(neural_response, (1, 1, 20))\n",
    "    spike_train = np.array(spike_train)\n",
    "    spike_train = np.reshape(spike_train, (1, 100, 20))\n",
    "    \n",
    "    X_response = np.append(X_response, neural_response, axis=0)\n",
    "    X_trains = np.append(X_trains, spike_train, axis=0)"
   ]
  },
  {
   "cell_type": "markdown",
   "id": "ea655df8-9cbf-4271-9495-555aba18396e",
   "metadata": {},
   "source": [
    "### Distance Matrix"
   ]
  },
  {
   "cell_type": "code",
   "execution_count": 114,
   "id": "528a97d8-e3c4-4fa6-bf9b-57164ed98b5c",
   "metadata": {},
   "outputs": [],
   "source": [
    "def get_distance_matrix(X, y):\n",
    "    X = np.squeeze(X)\n",
    "    unique_categories = np.unique(y)\n",
    "    num_categories = len(unique_categories)\n",
    "    dist_matrix = np.zeros((num_categories, num_categories))\n",
    "\n",
    "    sample_labels = []\n",
    "    category_indices = {}  # To keep track of the category indices and sample counts.\n",
    "    \n",
    "    # pick first category\n",
    "    for i, cat_1 in enumerate(unique_categories):\n",
    "        X_1 = X[y == cat_1]\n",
    "        # pick second category\n",
    "        for j, cat_2 in enumerate(unique_categories):\n",
    "            X_2 = X[y == cat_2]\n",
    "\n",
    "            dist_matrix[i, j] = directed_hausdorff(X_1, X_2)[0]\n",
    "    return dist_matrix"
   ]
  },
  {
   "cell_type": "markdown",
   "id": "016c71c8-bd50-4555-81b0-e26f05b58c3d",
   "metadata": {},
   "source": [
    "### Mantel Test"
   ]
  },
  {
   "cell_type": "code",
   "execution_count": 25,
   "id": "2d8dcb23-65ab-498f-a363-fd1d46dce6b4",
   "metadata": {},
   "outputs": [],
   "source": [
    "import numpy as np\n",
    "import pandas as pd\n",
    "import matplotlib.pyplot as plt\n",
    "from scipy import stats\n",
    "from random import sample\n",
    "\n",
    "## permutation the index of a matrix; m1 is a data frame\n",
    "def perm_rowscols(m1, n):\n",
    "    m1 = pd.DataFrame(np.array(m1))\n",
    "    s = sample(range(n), n)\n",
    "    return m1.iloc[s,s]\n",
    "\n",
    "def mantel_r(m1, m2):\n",
    "    m1 = np.array(m1)\n",
    "    m2 = np.array(m2)\n",
    "    \n",
    "    m1 = m1[np.where(~np.eye(m1.shape[0], dtype=bool))].flatten()\n",
    "    m2 = m2[np.where(~np.eye(m2.shape[0], dtype=bool))].flatten()\n",
    "    r = stats.pearsonr(m1, m2)[0]\n",
    "    return r\n",
    "\n",
    "## the mantel test of two matrices, m1 and m2 are two data frames\n",
    "def mantel_test(m1, m2, nperm=100, alternative = \"two.sided\"):\n",
    "    m1 = pd.DataFrame(np.array(m1))\n",
    "    m2 = pd.DataFrame(np.array(m2))\n",
    "    mantel_output = {\"r.stat\": -1, \"p\": -1, \"alternative\": alternative}\n",
    "    #check whether the number of rows and columns are same between m1 and m2\n",
    "    if ( (m1.shape[0] == m2.shape[0]) and ((m1.shape[1] == m2.shape[1])) ):\n",
    "        n = m2.shape[0]\n",
    "        realr = mantel_r(m1, m2)\n",
    "\n",
    "        nullstats = []\n",
    "        for ii in range(nperm):\n",
    "            m2perm = perm_rowscols(m2, n)\n",
    "            permr = mantel_r(m1, m2perm)\n",
    "            nullstats.append(permr)\n",
    "            \n",
    "        lessNum = [num for num in nullstats if num <= realr]\n",
    "        greaterNum = [num for num in nullstats if num >= realr]\n",
    "        if (alternative == \"less\"):\n",
    "            pval = len(lessNum)\n",
    "        elif (alternative == \"greater\"):\n",
    "            pval = len(greaterNum)\n",
    "        elif (alternative == \"two.sided\"):\n",
    "            pval = 2*min([len(lessNum), len(greaterNum)])\n",
    "        else:\n",
    "            pval = -1*nperm\n",
    "            print(\"Please set the alernative as 'less', 'greater', or 'two.sided'\\n.\")\n",
    "        # 'realr' is included in 'nullstats'\n",
    "        pval = (pval + 1)/(nperm + 1)\n",
    "        if ( (alternative == \"two.sided\") and (pval >1) ):\n",
    "            pval = 1\n",
    "        mantel_output[\"r.stat\"] = realr\n",
    "        mantel_output[\"p\"] = pval\n",
    "\n",
    "    else:\n",
    "        print(\"The dimensions of two matrices are not equal.\\n\")\n",
    "    return mantel_output, nullstats"
   ]
  },
  {
   "cell_type": "markdown",
   "id": "4d5fff10-06dc-4c0c-9c40-f6e1f8af1936",
   "metadata": {},
   "source": [
    "### Mantel Test Plotting Function"
   ]
  },
  {
   "cell_type": "code",
   "execution_count": 41,
   "id": "aef663f8-c5d9-4dcc-915f-f0083386596e",
   "metadata": {},
   "outputs": [],
   "source": [
    "import numpy as np\n",
    "from scipy import stats\n",
    "\n",
    "def confidence_interval(result, alpha=0.05):\n",
    "    \"\"\"\n",
    "    Return the confidence interval in a normal distribution(characterized by\n",
    "    its given mean and its given standard deviation) for rejecting the null\n",
    "    hypothesis with some given significance level and some given tail\n",
    "    method.\n",
    "\n",
    "    Parameters\n",
    "    ----------\n",
    "    result : float\n",
    "        MantelResult object\n",
    "    alpha : float (between 0 and 1), optional\n",
    "        The probability of rejecting the null hypothesis when it is true\n",
    "        (default: 0.05).\n",
    "\n",
    "    Returns\n",
    "    -------\n",
    "    lower_bound : float\n",
    "        Lower bound of the confidence interval.\n",
    "    upper_bound : float\n",
    "        Upper bound of the confidence interval.\n",
    "    \"\"\"\n",
    "    if not (0 < alpha < 1):\n",
    "        raise ValueError(\"The alpha level must be in the interval (0, 1)\")\n",
    "    if result.tail == \"upper\":\n",
    "        lower_bound = stats.norm.ppf(1e-10, result.mean, result.std)\n",
    "        upper_bound = stats.norm.ppf(1 - alpha, result.mean, result.std)\n",
    "    elif result.tail == \"lower\":\n",
    "        lower_bound = stats.norm.ppf(alpha, result.mean, result.std)\n",
    "        upper_bound = stats.norm.ppf(1 - 1e-10, result.mean, result.std)\n",
    "    elif result.tail == \"two-tail\":\n",
    "        lower_bound = stats.norm.ppf(alpha / 2, result.mean, result.std)\n",
    "        upper_bound = stats.norm.ppf(1 - alpha / 2, result.mean, result.std)\n",
    "    return lower_bound, upper_bound\n",
    "\n",
    "def plot(\n",
    "    result,\n",
    "    axis=None,\n",
    "    alpha=0.05,\n",
    "    hist_color=\"lightgray\",\n",
    "    gaussian_color=\"black\",\n",
    "    acceptance_color=\"black\",\n",
    "    rejection_color=\"black\",\n",
    "):\n",
    "    \"\"\"\n",
    "    Plot a histogram of the sample correlations from a MantelResult object on\n",
    "    a Matplotlib axis. If no axis is provided, a new plot is created and\n",
    "    returned. The theoretical normal distribution (and confidence interval)\n",
    "    is also shown, along with the veridical correlation.\n",
    "\n",
    "    Parameters\n",
    "    ----------\n",
    "    result : MantelResult\n",
    "        The reuslt object output from mantel.test()\n",
    "    axis : matplotlib.axes.Axes\n",
    "        The matplotlib figure to draw on.\n",
    "    alpha : float\n",
    "        Significance level for rejecting the null hypothesis (default: 5%)\n",
    "    hist_color: str\n",
    "        Color used for the histogram bars (default: 'lightgray').\n",
    "    gaussian_color: str\n",
    "        Color used for the normal distribution curve and the confidence\n",
    "        interval limits (default: 'black').\n",
    "    acceptance_color: str\n",
    "        Color used for drawing the vertical line and the label of the\n",
    "        veridical correlation if the null hypothesis is rejected according to\n",
    "        the significance level value (default: 'black').\n",
    "    rejection_color: str\n",
    "        Color used for drawing the vertical line and the label of the\n",
    "        veridical correlation if the null hypothesis cannot be rejected\n",
    "        according to the significance level value (default: 'black').\n",
    "\n",
    "    Returns\n",
    "    -------\n",
    "    Matplotlib Figure and Axis objects\n",
    "    \"\"\"\n",
    "    if plt is None:\n",
    "        raise ImportError(\"Matplotlib is required for plotting\")\n",
    "    if axis is None:\n",
    "        fig, axis = plt.subplots()\n",
    "    elif isinstance(axis, Axes):\n",
    "        fig = axis.get_figure()\n",
    "    else:\n",
    "        raise TypeError(\"axis should be a Matplotlib Axis object\")\n",
    "\n",
    "    lower = -1.05\n",
    "    upper = 1.05\n",
    "\n",
    "    n_bins = 100 if result.perms >= 1000 else 20\n",
    "    axis.hist(\n",
    "        result.correlations,\n",
    "        bins=n_bins,\n",
    "        range=(lower, upper),\n",
    "        density=True,\n",
    "        histtype=\"stepfilled\",\n",
    "        color=hist_color,\n",
    "    )\n",
    "\n",
    "    x = np.linspace(lower, upper, 200)\n",
    "    y = stats.norm.pdf(x, result.mean, result.std)\n",
    "    axis.plot(x, y, color=gaussian_color)\n",
    "\n",
    "    min_corr, max_corr = confidence_interval(result, alpha)\n",
    "    axis.vlines(\n",
    "        x=[min_corr, max_corr],\n",
    "        ymin=0,\n",
    "        ymax=[\n",
    "            stats.norm.pdf(min_corr, result.mean, result.std),\n",
    "            stats.norm.pdf(max_corr, result.mean, result.std),\n",
    "        ],\n",
    "        linestyle=\"-\",\n",
    "        color=gaussian_color,\n",
    "    )\n",
    "\n",
    "    threshold_color = (\n",
    "        rejection_color if min_corr <= result.r <= max_corr else acceptance_color\n",
    "    )\n",
    "    axis.axvline(x=result.r, linestyle=\":\", color=threshold_color)\n",
    "    #axis.annotate(\"{:.2f}\".format(result.r), xy=(result.r, 0.9), color=threshold_color)\n",
    "\n",
    "    axis.set_xlim(lower, upper)\n",
    "    axis.set_title('Mantel Test', fontsize=24)\n",
    "    axis.set_xlabel(\"Correlation coefficient\", fontsize=20)\n",
    "    axis.set_ylabel(\"Probability Density\", fontsize=20)\n",
    "    #axis.set_yticks([])\n",
    "    #labels = axis.get_xticklabels()\n",
    "    #axis.set_xticklabels(labels, fontsize=10)\n",
    "    axis.tick_params(axis='x', labelsize=14)\n",
    "    axis.tick_params(axis='y', labelsize=14)\n",
    "    return fig, axis"
   ]
  },
  {
   "cell_type": "markdown",
   "id": "28dfdbb4-d4a2-4d8f-8dd9-eaa28ddaac13",
   "metadata": {},
   "source": [
    "## Analysis"
   ]
  },
  {
   "cell_type": "code",
   "execution_count": 26,
   "id": "6f9cc1c6-ff6f-464a-865e-b6bcc7cc70e6",
   "metadata": {},
   "outputs": [],
   "source": [
    "%%capture\n",
    "X_features, X_response, y = get_synthetic_dataset('WhiWhi4522M')"
   ]
  },
  {
   "cell_type": "code",
   "execution_count": 229,
   "id": "030e98ba-e849-404e-b0cf-4c04f6ca26dc",
   "metadata": {},
   "outputs": [
    {
     "data": {
      "text/plain": [
       "(24, 1, 20)"
      ]
     },
     "execution_count": 229,
     "metadata": {},
     "output_type": "execute_result"
    }
   ],
   "source": [
    "X_features.shape"
   ]
  },
  {
   "cell_type": "code",
   "execution_count": 228,
   "id": "c9378664-c281-4a4d-85ab-49b2223f0049",
   "metadata": {},
   "outputs": [
    {
     "data": {
      "text/plain": [
       "(24, 1, 20)"
      ]
     },
     "execution_count": 228,
     "metadata": {},
     "output_type": "execute_result"
    }
   ],
   "source": [
    "X_response.shape"
   ]
  },
  {
   "cell_type": "code",
   "execution_count": 212,
   "id": "61302b59-e703-456b-95c8-db8dac4e1815",
   "metadata": {},
   "outputs": [
    {
     "data": {
      "text/plain": [
       "(24, 1, 20)"
      ]
     },
     "execution_count": 212,
     "metadata": {},
     "output_type": "execute_result"
    }
   ],
   "source": [
    "scaler = MinMaxScaler()\n",
    "X_features_scaled = np.expand_dims(scaler.fit_transform(X_features[:, 0, :]), axis=1)\n",
    "X_features_scaled.shape"
   ]
  },
  {
   "cell_type": "code",
   "execution_count": 227,
   "id": "8064c00c-bbba-4ef7-a5eb-12b546c57701",
   "metadata": {},
   "outputs": [
    {
     "data": {
      "text/plain": [
       "<matplotlib.colorbar.Colorbar at 0x1f9f37189a0>"
      ]
     },
     "execution_count": 227,
     "metadata": {},
     "output_type": "execute_result"
    },
    {
     "data": {
      "image/png": "[encoded data removed]",
      "text/plain": [
       "<Figure size 1440x432 with 4 Axes>"
      ]
     },
     "metadata": {
      "needs_background": "light"
     },
     "output_type": "display_data"
    }
   ],
   "source": [
    "fig, axes = plt.subplots(1, 2, figsize=(20, 6))\n",
    "#fig.tight_layout() # Or equivalently,  \"plt.tight_layout()\"\n",
    "plt.subplots_adjust(left=None, bottom=None, right=None, top=None, wspace=0.5, hspace=0.5)\n",
    "\n",
    "axes[0].title.set_text('Feature vector')\n",
    "features_plot = axes[0].imshow(X_features_scaled[2, :, :])\n",
    "plt.colorbar(features_plot, ax=axes[0])\n",
    "\n",
    "axes[1].title.set_text('Synthetic neural population response')\n",
    "response_plot_1 = axes[1].imshow(X_response[2, :, :])\n",
    "plt.colorbar(response_plot_1, ax=axes[1])"
   ]
  },
  {
   "cell_type": "code",
   "execution_count": 241,
   "id": "85c8ad3d-743b-49e9-a621-e871f0474733",
   "metadata": {},
   "outputs": [],
   "source": [
    "X_trains = np.swapaxes(X_trains, 1, 2)"
   ]
  },
  {
   "cell_type": "code",
   "execution_count": 242,
   "id": "54e302c4-fd2f-44db-a1b5-12a6889551ca",
   "metadata": {},
   "outputs": [
    {
     "data": {
      "text/plain": [
       "Text(0.5, 1.0, 'Spike Raster Plot')"
      ]
     },
     "execution_count": 242,
     "metadata": {},
     "output_type": "execute_result"
    },
    {
     "data": {
      "image/png": "[encoded data removed]",
      "text/plain": [
       "<Figure size 432x288 with 1 Axes>"
      ]
     },
     "metadata": {
      "needs_background": "light"
     },
     "output_type": "display_data"
    }
   ],
   "source": [
    "plt.eventplot([np.append(np.nonzero(X_trains[10][0])[0], 20), np.append(np.nonzero(X_trains[2][0])[0], 20), np.append(np.nonzero(X_trains[0][0])[0], 20)], color='k')\n",
    "\n",
    "plt.xlabel('Time', fontsize=20)\n",
    "plt.tick_params(left = False, right = False, labelleft = False)\n",
    "plt.ylabel('Neurons', fontsize=20)\n",
    "plt.title('Spike Raster Plot', fontsize=24)"
   ]
  },
  {
   "cell_type": "code",
   "execution_count": 197,
   "id": "d71e9cd1-e233-47f2-bb4b-f4dddc834aa5",
   "metadata": {},
   "outputs": [],
   "source": [
    "features_distance_matrix = get_distance_matrix(X_features_scaled, y)"
   ]
  },
  {
   "cell_type": "code",
   "execution_count": 198,
   "id": "63e1c57a-ae91-4244-bfcc-e9fc4e9681e5",
   "metadata": {},
   "outputs": [
    {
     "data": {
      "image/png": "[encoded data removed]",
      "text/plain": [
       "<Figure size 432x288 with 2 Axes>"
      ]
     },
     "metadata": {
      "needs_background": "light"
     },
     "output_type": "display_data"
    }
   ],
   "source": [
    "# Plot the distances as a heatmap\n",
    "fig, ax = plt.subplots()\n",
    "heatmap = ax.imshow(features_distance_matrix, cmap='viridis')\n",
    "\n",
    "# Customize the plot\n",
    "categories = np.unique(y)\n",
    "ax.set_xticks(np.arange(8))\n",
    "ax.set_yticks(np.arange(8))\n",
    "ax.set_xticklabels(categories, fontsize=14)\n",
    "ax.set_yticklabels(categories, fontsize=14)\n",
    "plt.xlabel('Category', fontsize=16)\n",
    "plt.ylabel('Category', fontsize=16)\n",
    "plt.title('Distances matrix in acoustic space', fontsize=16)\n",
    "cbar = plt.colorbar(heatmap, ax=ax)\n",
    "cbar.ax.tick_params(labelsize=14)\n",
    "\n",
    "# Show the plot\n",
    "plt.show()"
   ]
  },
  {
   "cell_type": "code",
   "execution_count": 199,
   "id": "75bc98fb-f403-442a-8e5c-d9934b19f474",
   "metadata": {},
   "outputs": [],
   "source": [
    "neural_distance_matrix = get_distance_matrix(X_response, y)"
   ]
  },
  {
   "cell_type": "code",
   "execution_count": 200,
   "id": "b814653a-9294-4bf5-87aa-f80bf4547364",
   "metadata": {},
   "outputs": [
    {
     "data": {
      "image/png": "[encoded data removed]",
      "text/plain": [
       "<Figure size 432x288 with 2 Axes>"
      ]
     },
     "metadata": {
      "needs_background": "light"
     },
     "output_type": "display_data"
    }
   ],
   "source": [
    "# Plot the distances as a heatmap\n",
    "fig, ax = plt.subplots()\n",
    "heatmap = ax.imshow(neural_distance_matrix, cmap='viridis')\n",
    "\n",
    "# Customize the plot\n",
    "ax.set_xticks(np.arange(8))\n",
    "ax.set_yticks(np.arange(8))\n",
    "ax.set_xticklabels(categories, fontsize=14)\n",
    "ax.set_yticklabels(categories, fontsize=14)\n",
    "plt.xlabel('Category', fontsize=16)\n",
    "plt.ylabel('Category', fontsize=16)\n",
    "plt.title('Distances matrix in neural space', fontsize=16)\n",
    "cbar = plt.colorbar(heatmap, ax=ax)\n",
    "cbar.ax.tick_params(labelsize=14)\n",
    "# Show the plot\n",
    "plt.show()"
   ]
  },
  {
   "cell_type": "code",
   "execution_count": 201,
   "id": "d0c53aa7-5971-48f1-a74e-20c1cc6b9437",
   "metadata": {},
   "outputs": [
    {
     "data": {
      "text/plain": [
       "{'r.stat': 0.7003130139627465,\n",
       " 'p': 0.000999000999000999,\n",
       " 'alternative': 'two.sided'}"
      ]
     },
     "execution_count": 201,
     "metadata": {},
     "output_type": "execute_result"
    }
   ],
   "source": [
    "output, corrs = mantel_test(pd.DataFrame(features_distance_matrix), pd.DataFrame(neural_distance_matrix), nperm=1000)\n",
    "output"
   ]
  },
  {
   "cell_type": "code",
   "execution_count": 202,
   "id": "e2f57dcf-171b-43b5-8d5d-64effcadcc27",
   "metadata": {},
   "outputs": [],
   "source": [
    "result = type('obj', (object,), {'correlations': corrs, 'perms': len(corrs), 'tail': 'upper', 'mean': np.mean(corrs), 'std': np.std(corrs), 'r': output['r.stat']})"
   ]
  },
  {
   "cell_type": "code",
   "execution_count": 203,
   "id": "3679b516-57da-4bd9-9bca-fc056cc0b452",
   "metadata": {},
   "outputs": [
    {
     "data": {
      "text/plain": [
       "(<Figure size 432x288 with 1 Axes>,\n",
       " <AxesSubplot:title={'center':'Mantel Test'}, xlabel='Correlation coefficient', ylabel='Probability Density'>)"
      ]
     },
     "execution_count": 203,
     "metadata": {},
     "output_type": "execute_result"
    },
    {
     "data": {
      "image/png": "[encoded data removed]",
      "text/plain": [
       "<Figure size 432x288 with 1 Axes>"
      ]
     },
     "metadata": {
      "needs_background": "light"
     },
     "output_type": "display_data"
    }
   ],
   "source": [
    "plot(result)\n",
    "#plt.title('Mantel Test Result: Synthetic Data')"
   ]
  },
  {
   "cell_type": "code",
   "execution_count": null,
   "id": "d235abaf-a987-4c83-b15b-a5848e56270e",
   "metadata": {},
   "outputs": [],
   "source": []
  }
 ],
 "metadata": {
  "kernelspec": {
   "display_name": "Python 3",
   "language": "python",
   "name": "python3"
  },
  "language_info": {
   "codemirror_mode": {
    "name": "ipython",
    "version": 3
   },
   "file_extension": ".py",
   "mimetype": "text/x-python",
   "name": "python",
   "nbconvert_exporter": "python",
   "pygments_lexer": "ipython3",
   "version": "3.8.8"
  }
 },
 "nbformat": 4,
 "nbformat_minor": 5
}
