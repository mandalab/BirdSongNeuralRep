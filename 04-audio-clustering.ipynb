{
 "cells": [
  {
   "cell_type": "markdown",
   "id": "d47f9ce4-675d-4188-9c64-c6f7893c8784",
   "metadata": {},
   "source": [
    "# Audio Clustering"
   ]
  },
  {
   "cell_type": "markdown",
   "id": "59d907e2-3c09-49c0-b3cb-17df8502d259",
   "metadata": {},
   "source": [
    "```\n",
    "Here, we will cluster the wavefiles based on their acoustic similarity. For this, we will use MFCC features.\n",
    "```"
   ]
  },
  {
   "cell_type": "code",
   "execution_count": 1,
   "id": "9837785a-ff79-4c92-9d8a-2fb42bdbcdf5",
   "metadata": {},
   "outputs": [],
   "source": [
    "import numpy as np\n",
    "import pandas as pd\n",
    "from sklearn.cluster import AgglomerativeClustering\n",
    "import librosa\n",
    "import os"
   ]
  },
  {
   "cell_type": "code",
   "execution_count": 2,
   "id": "40cc8b4c-6c21-4aa3-8add-3b87c8ff9dd9",
   "metadata": {},
   "outputs": [
    {
     "data": {
      "text/html": [
       "<div>\n",
       "<style scoped>\n",
       "    .dataframe tbody tr th:only-of-type {\n",
       "        vertical-align: middle;\n",
       "    }\n",
       "\n",
       "    .dataframe tbody tr th {\n",
       "        vertical-align: top;\n",
       "    }\n",
       "\n",
       "    .dataframe thead th {\n",
       "        text-align: right;\n",
       "    }\n",
       "</style>\n",
       "<table border=\"1\" class=\"dataframe\">\n",
       "  <thead>\n",
       "    <tr style=\"text-align: right;\">\n",
       "      <th></th>\n",
       "      <th>subject</th>\n",
       "      <th>site</th>\n",
       "      <th>single_unit</th>\n",
       "      <th>sortType</th>\n",
       "      <th>stim_number</th>\n",
       "      <th>original_wavfile</th>\n",
       "      <th>callerAge</th>\n",
       "      <th>callid</th>\n",
       "      <th>stim_duration</th>\n",
       "      <th>stim_source</th>\n",
       "      <th>stim_source_sex</th>\n",
       "      <th>stim_type</th>\n",
       "      <th>brain_region</th>\n",
       "      <th>hemisphere</th>\n",
       "      <th>vocid</th>\n",
       "      <th>auditory_cortex</th>\n",
       "    </tr>\n",
       "  </thead>\n",
       "  <tbody>\n",
       "    <tr>\n",
       "      <th>0</th>\n",
       "      <td>BlaBro09xxF</td>\n",
       "      <td>Site1</td>\n",
       "      <td>Site1_L1500R1500_e10_s0_ss1</td>\n",
       "      <td>single</td>\n",
       "      <td>100</td>\n",
       "      <td>WhiWhi1415_FAF_Ne_3-8-9.wav</td>\n",
       "      <td>A</td>\n",
       "      <td>Ne</td>\n",
       "      <td>2.5</td>\n",
       "      <td>familiar</td>\n",
       "      <td>f</td>\n",
       "      <td>call</td>\n",
       "      <td>NCM</td>\n",
       "      <td>L</td>\n",
       "      <td>Ne</td>\n",
       "      <td>A2</td>\n",
       "    </tr>\n",
       "    <tr>\n",
       "      <th>1</th>\n",
       "      <td>BlaBro09xxF</td>\n",
       "      <td>Site1</td>\n",
       "      <td>Site1_L1500R1500_e10_s0_ss1</td>\n",
       "      <td>single</td>\n",
       "      <td>101</td>\n",
       "      <td>WhiWhi1415_FAF_Ne_6-4-5.wav</td>\n",
       "      <td>A</td>\n",
       "      <td>Ne</td>\n",
       "      <td>2.5</td>\n",
       "      <td>familiar</td>\n",
       "      <td>f</td>\n",
       "      <td>call</td>\n",
       "      <td>NCM</td>\n",
       "      <td>L</td>\n",
       "      <td>Ne</td>\n",
       "      <td>A2</td>\n",
       "    </tr>\n",
       "    <tr>\n",
       "      <th>2</th>\n",
       "      <td>BlaBro09xxF</td>\n",
       "      <td>Site1</td>\n",
       "      <td>Site1_L1500R1500_e10_s0_ss1</td>\n",
       "      <td>single</td>\n",
       "      <td>102</td>\n",
       "      <td>WhiWhi1415_FAF_Ne_7-2-10.wav</td>\n",
       "      <td>A</td>\n",
       "      <td>Ne</td>\n",
       "      <td>2.5</td>\n",
       "      <td>familiar</td>\n",
       "      <td>f</td>\n",
       "      <td>call</td>\n",
       "      <td>NCM</td>\n",
       "      <td>L</td>\n",
       "      <td>Ne</td>\n",
       "      <td>A2</td>\n",
       "    </tr>\n",
       "    <tr>\n",
       "      <th>3</th>\n",
       "      <td>BlaBro09xxF</td>\n",
       "      <td>Site1</td>\n",
       "      <td>Site1_L1500R1500_e10_s0_ss1</td>\n",
       "      <td>single</td>\n",
       "      <td>103</td>\n",
       "      <td>WhiWhi1415_FAF_Te_10-9-3.wav</td>\n",
       "      <td>A</td>\n",
       "      <td>Te</td>\n",
       "      <td>2.5</td>\n",
       "      <td>familiar</td>\n",
       "      <td>f</td>\n",
       "      <td>call</td>\n",
       "      <td>NCM</td>\n",
       "      <td>L</td>\n",
       "      <td>Te</td>\n",
       "      <td>A2</td>\n",
       "    </tr>\n",
       "    <tr>\n",
       "      <th>4</th>\n",
       "      <td>BlaBro09xxF</td>\n",
       "      <td>Site1</td>\n",
       "      <td>Site1_L1500R1500_e10_s0_ss1</td>\n",
       "      <td>single</td>\n",
       "      <td>104</td>\n",
       "      <td>WhiWhi1415_FAF_Te_4-6-2.wav</td>\n",
       "      <td>A</td>\n",
       "      <td>Te</td>\n",
       "      <td>2.5</td>\n",
       "      <td>familiar</td>\n",
       "      <td>f</td>\n",
       "      <td>call</td>\n",
       "      <td>NCM</td>\n",
       "      <td>L</td>\n",
       "      <td>Te</td>\n",
       "      <td>A2</td>\n",
       "    </tr>\n",
       "  </tbody>\n",
       "</table>\n",
       "</div>"
      ],
      "text/plain": [
       "       subject   site                  single_unit sortType  stim_number  \\\n",
       "0  BlaBro09xxF  Site1  Site1_L1500R1500_e10_s0_ss1   single          100   \n",
       "1  BlaBro09xxF  Site1  Site1_L1500R1500_e10_s0_ss1   single          101   \n",
       "2  BlaBro09xxF  Site1  Site1_L1500R1500_e10_s0_ss1   single          102   \n",
       "3  BlaBro09xxF  Site1  Site1_L1500R1500_e10_s0_ss1   single          103   \n",
       "4  BlaBro09xxF  Site1  Site1_L1500R1500_e10_s0_ss1   single          104   \n",
       "\n",
       "               original_wavfile callerAge callid  stim_duration stim_source  \\\n",
       "0   WhiWhi1415_FAF_Ne_3-8-9.wav         A     Ne            2.5    familiar   \n",
       "1   WhiWhi1415_FAF_Ne_6-4-5.wav         A     Ne            2.5    familiar   \n",
       "2  WhiWhi1415_FAF_Ne_7-2-10.wav         A     Ne            2.5    familiar   \n",
       "3  WhiWhi1415_FAF_Te_10-9-3.wav         A     Te            2.5    familiar   \n",
       "4   WhiWhi1415_FAF_Te_4-6-2.wav         A     Te            2.5    familiar   \n",
       "\n",
       "  stim_source_sex stim_type brain_region hemisphere vocid auditory_cortex  \n",
       "0               f      call          NCM          L    Ne              A2  \n",
       "1               f      call          NCM          L    Ne              A2  \n",
       "2               f      call          NCM          L    Ne              A2  \n",
       "3               f      call          NCM          L    Te              A2  \n",
       "4               f      call          NCM          L    Te              A2  "
      ]
     },
     "execution_count": 2,
     "metadata": {},
     "output_type": "execute_result"
    }
   ],
   "source": [
    "data_root = os.path.join('..', '..', 'data', 'anesthetized')\n",
    "aa_4 = pd.read_csv('aa-4.csv')\n",
    "aa_4.head()"
   ]
  },
  {
   "cell_type": "code",
   "execution_count": 8,
   "id": "27489343-1526-4c11-8212-10e5a384dc1e",
   "metadata": {},
   "outputs": [
    {
     "data": {
      "text/plain": [
       "{'a': 1, '2': 2}"
      ]
     },
     "execution_count": 8,
     "metadata": {},
     "output_type": "execute_result"
    }
   ],
   "source": [
    "d = {'a': 1}\n",
    "d['2'] = 2\n",
    "d"
   ]
  },
  {
   "cell_type": "code",
   "execution_count": 13,
   "id": "01278b54-2dff-4aad-acf7-03e5f8edffaf",
   "metadata": {},
   "outputs": [],
   "source": [
    "def agglomerative_clustering(audio_folder, valid_filenames, n_clusters=10):\n",
    "    subject = audio_folder[-20:-9]\n",
    "    subject_data = []\n",
    "    \n",
    "    # Define the feature extraction function\n",
    "    def extract_features(file_path):\n",
    "        # Load the audio file\n",
    "        y, sr = librosa.load(file_path, sr=None)\n",
    "\n",
    "        # Extract the features\n",
    "        features = []\n",
    "        mfccs = librosa.feature.mfcc(y=y, sr=sr, n_mfcc=20)\n",
    "        features.extend(np.mean(mfccs, axis=1))\n",
    "        spectral_centroids = librosa.feature.spectral_centroid(y=y, sr=sr)\n",
    "        features.extend(np.mean(spectral_centroids, axis=1))\n",
    "        spectral_rolloff = librosa.feature.spectral_rolloff(y=y, sr=sr)\n",
    "        features.extend(np.mean(spectral_rolloff, axis=1))\n",
    "\n",
    "        return features\n",
    "\n",
    "    # Create an empty list to store the features\n",
    "    features_list = []\n",
    "\n",
    "    # Loop over all the files in the folder and extract the features\n",
    "    for file_name in valid_filenames:\n",
    "        if file_name.endswith('.wav'):\n",
    "            file_path = os.path.join(audio_folder, file_name)\n",
    "            features = extract_features(file_path)\n",
    "            features_list.append(features)\n",
    "\n",
    "    # Convert the features list to a numpy array\n",
    "    X = np.array(features_list)\n",
    "\n",
    "    # Create an instance of the AgglomerativeClustering class\n",
    "    agg_clustering = AgglomerativeClustering(n_clusters=n_clusters)\n",
    "\n",
    "    # Fit the data to the model\n",
    "    agg_clustering.fit(X)\n",
    "\n",
    "    # Get the labels of the clusters\n",
    "    labels = agg_clustering.labels_\n",
    "\n",
    "    # Print the labels for each file\n",
    "    for i, file_name in enumerate(valid_filenames):\n",
    "        if file_name.endswith('.wav'):\n",
    "            #print(file_name, ': Cluster', labels[i])\n",
    "            file_data = {}\n",
    "            file_data['subject'] = subject\n",
    "            file_data['stim_number'] = file_name\n",
    "            file_data['cluster'] = labels[i]\n",
    "            \n",
    "            subject_data.append(file_data)\n",
    "    return subject_data"
   ]
  },
  {
   "cell_type": "code",
   "execution_count": 14,
   "id": "a72bef72-fde1-48d4-932c-cc29ab312c79",
   "metadata": {},
   "outputs": [
    {
     "name": "stdout",
     "output_type": "stream",
     "text": [
      "BlaBro09xxF\n",
      "GreBlu9508M\n",
      "LblBlu2028M\n",
      "WhiBlu5396M\n",
      "WhiWhi4522M\n"
     ]
    },
    {
     "name": "stderr",
     "output_type": "stream",
     "text": [
      "C:\\Users\\Dell\\anaconda3\\lib\\site-packages\\librosa\\core\\spectrum.py:256: UserWarning: n_fft=2048 is too large for input signal of length=2015\n",
      "  warnings.warn(\n"
     ]
    },
    {
     "name": "stdout",
     "output_type": "stream",
     "text": [
      "YelBlu6903F\n",
      "All done!\n"
     ]
    }
   ],
   "source": [
    "folder_paths = [os.path.join(data_root, folder, 'wavfiles') for folder in os.listdir(data_root) if os.path.isdir(os.path.join(data_root, folder))]\n",
    "\n",
    "data = []\n",
    "for folder_path in folder_paths:\n",
    "    subject = folder_path[-20:-9]\n",
    "    df = aa_4[aa_4['subject'] == subject]\n",
    "    valid_filenames = ['stim' + str(s) + '.wav' for s in df['stim_number'].unique()]\n",
    "    \n",
    "    print(subject)\n",
    "    if subject.startswith('WhiBlu'):\n",
    "        continue\n",
    "    subject_data = agglomerative_clustering(folder_path, valid_filenames, n_clusters=10)\n",
    "    data.extend(subject_data)\n",
    "print('All done!')"
   ]
  },
  {
   "cell_type": "code",
   "execution_count": 22,
   "id": "6d8174ca-c77a-4742-9703-c3525909fc88",
   "metadata": {},
   "outputs": [
    {
     "data": {
      "text/html": [
       "<div>\n",
       "<style scoped>\n",
       "    .dataframe tbody tr th:only-of-type {\n",
       "        vertical-align: middle;\n",
       "    }\n",
       "\n",
       "    .dataframe tbody tr th {\n",
       "        vertical-align: top;\n",
       "    }\n",
       "\n",
       "    .dataframe thead th {\n",
       "        text-align: right;\n",
       "    }\n",
       "</style>\n",
       "<table border=\"1\" class=\"dataframe\">\n",
       "  <thead>\n",
       "    <tr style=\"text-align: right;\">\n",
       "      <th></th>\n",
       "      <th>subject</th>\n",
       "      <th>stim_number</th>\n",
       "      <th>cluster</th>\n",
       "    </tr>\n",
       "  </thead>\n",
       "  <tbody>\n",
       "    <tr>\n",
       "      <th>256</th>\n",
       "      <td>LblBlu2028M</td>\n",
       "      <td>stim198.wav</td>\n",
       "      <td>5</td>\n",
       "    </tr>\n",
       "    <tr>\n",
       "      <th>515</th>\n",
       "      <td>YelBlu6903F</td>\n",
       "      <td>stim149.wav</td>\n",
       "      <td>9</td>\n",
       "    </tr>\n",
       "    <tr>\n",
       "      <th>74</th>\n",
       "      <td>BlaBro09xxF</td>\n",
       "      <td>stim44.wav</td>\n",
       "      <td>1</td>\n",
       "    </tr>\n",
       "    <tr>\n",
       "      <th>463</th>\n",
       "      <td>WhiWhi4522M</td>\n",
       "      <td>stim85.wav</td>\n",
       "      <td>3</td>\n",
       "    </tr>\n",
       "    <tr>\n",
       "      <th>220</th>\n",
       "      <td>GreBlu9508M</td>\n",
       "      <td>stim80.wav</td>\n",
       "      <td>1</td>\n",
       "    </tr>\n",
       "  </tbody>\n",
       "</table>\n",
       "</div>"
      ],
      "text/plain": [
       "         subject  stim_number  cluster\n",
       "256  LblBlu2028M  stim198.wav        5\n",
       "515  YelBlu6903F  stim149.wav        9\n",
       "74   BlaBro09xxF   stim44.wav        1\n",
       "463  WhiWhi4522M   stim85.wav        3\n",
       "220  GreBlu9508M   stim80.wav        1"
      ]
     },
     "execution_count": 22,
     "metadata": {},
     "output_type": "execute_result"
    }
   ],
   "source": [
    "cluster_df = pd.DataFrame(data)\n",
    "cluster_df.sample(n=5)"
   ]
  },
  {
   "cell_type": "code",
   "execution_count": 31,
   "id": "7e19bc36-5877-4d09-8499-2bffb98aad0a",
   "metadata": {},
   "outputs": [],
   "source": [
    "stim_numbers = [int(s[4:s.find('.')]) for s in cluster_df['stim_number']]\n",
    "cluster_df['stim_number'] = stim_numbers"
   ]
  },
  {
   "cell_type": "code",
   "execution_count": 32,
   "id": "b95bddef-aba5-4cc8-9cdd-2a6449493c5e",
   "metadata": {},
   "outputs": [],
   "source": [
    "cluster_df.to_csv('cluster_df.csv', index=False)"
   ]
  },
  {
   "cell_type": "code",
   "execution_count": null,
   "id": "c7ed6597-507a-42c2-a30e-2ad0ee3975ff",
   "metadata": {},
   "outputs": [],
   "source": []
  }
 ],
 "metadata": {
  "kernelspec": {
   "display_name": "Python 3",
   "language": "python",
   "name": "python3"
  },
  "language_info": {
   "codemirror_mode": {
    "name": "ipython",
    "version": 3
   },
   "file_extension": ".py",
   "mimetype": "text/x-python",
   "name": "python",
   "nbconvert_exporter": "python",
   "pygments_lexer": "ipython3",
   "version": "3.8.8"
  }
 },
 "nbformat": 4,
 "nbformat_minor": 5
}
