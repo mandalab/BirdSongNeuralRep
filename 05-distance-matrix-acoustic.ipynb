{
 "cells": [
  {
   "cell_type": "markdown",
   "id": "1f498250-5fe3-4260-903a-125cbcee3f33",
   "metadata": {},
   "source": [
    "# Geometry of Acoustic Space"
   ]
  },
  {
   "cell_type": "markdown",
   "id": "e4c80acb-a395-405e-a3e3-6ce300f3ab73",
   "metadata": {},
   "source": [
    "## Load Packages"
   ]
  },
  {
   "cell_type": "code",
   "execution_count": 1,
   "id": "3537b4f4-1f08-439c-b948-71a149cb3142",
   "metadata": {},
   "outputs": [
    {
     "name": "stderr",
     "output_type": "stream",
     "text": [
      "<frozen importlib._bootstrap>:219: RuntimeWarning: scipy._lib.messagestream.MessageStream size changed, may indicate binary incompatibility. Expected 56 from C header, got 64 from PyObject\n",
      "C:\\Users\\Dell\\anaconda3\\lib\\site-packages\\pydub\\utils.py:170: RuntimeWarning: Couldn't find ffmpeg or avconv - defaulting to ffmpeg, but may not work\n",
      "  warn(\"Couldn't find ffmpeg or avconv - defaulting to ffmpeg, but may not work\", RuntimeWarning)\n"
     ]
    }
   ],
   "source": [
    "import numpy as np\n",
    "import pandas as pd\n",
    "import matplotlib.pyplot as plt\n",
    "import seaborn as sns\n",
    "\n",
    "from pyAudioAnalysis import audioBasicIO\n",
    "from pyAudioAnalysis import ShortTermFeatures\n",
    "from pyAudioAnalysis import MidTermFeatures\n",
    "from soundsig.sound import BioSound \n",
    "from soundsig.sound import WavFile\n",
    "\n",
    "import matplotlib.pyplot as plt\n",
    "from scipy.io import wavfile\n",
    "from spafe.features.lfcc import lfcc\n",
    "from scipy.spatial import distance\n",
    "from sklearn.decomposition import PCA\n",
    "from sklearn.preprocessing import normalize\n",
    "from sklearn.preprocessing import MinMaxScaler\n",
    "\n",
    "import os\n",
    "import sys\n",
    "import h5py\n",
    "import warnings\n",
    "warnings.filterwarnings(\"ignore\")"
   ]
  },
  {
   "cell_type": "markdown",
   "id": "0728a0e3-d22f-4410-aaf0-57f75a97a8cc",
   "metadata": {},
   "source": [
    "## Load Data"
   ]
  },
  {
   "cell_type": "code",
   "execution_count": 2,
   "id": "dfd2634a-4638-4029-8109-b3f6602af31d",
   "metadata": {},
   "outputs": [
    {
     "data": {
      "text/plain": [
       "'..\\\\..\\\\data\\\\anesthetized'"
      ]
     },
     "execution_count": 2,
     "metadata": {},
     "output_type": "execute_result"
    }
   ],
   "source": [
    "data_root = os.path.join('..', '..', 'data', 'anesthetized')\n",
    "data_root"
   ]
  },
  {
   "cell_type": "code",
   "execution_count": 3,
   "id": "dd566d79-c374-4819-b3bf-6b658b4a66d1",
   "metadata": {},
   "outputs": [
    {
     "data": {
      "text/html": [
       "<div>\n",
       "<style scoped>\n",
       "    .dataframe tbody tr th:only-of-type {\n",
       "        vertical-align: middle;\n",
       "    }\n",
       "\n",
       "    .dataframe tbody tr th {\n",
       "        vertical-align: top;\n",
       "    }\n",
       "\n",
       "    .dataframe thead th {\n",
       "        text-align: right;\n",
       "    }\n",
       "</style>\n",
       "<table border=\"1\" class=\"dataframe\">\n",
       "  <thead>\n",
       "    <tr style=\"text-align: right;\">\n",
       "      <th></th>\n",
       "      <th>subject</th>\n",
       "      <th>site</th>\n",
       "      <th>single_unit</th>\n",
       "      <th>sortType</th>\n",
       "      <th>stim_number</th>\n",
       "      <th>original_wavfile</th>\n",
       "      <th>callerAge</th>\n",
       "      <th>callid</th>\n",
       "      <th>stim_duration</th>\n",
       "      <th>stim_source</th>\n",
       "      <th>stim_source_sex</th>\n",
       "      <th>stim_type</th>\n",
       "      <th>brain_region</th>\n",
       "      <th>hemisphere</th>\n",
       "      <th>vocid</th>\n",
       "      <th>auditory_cortex</th>\n",
       "    </tr>\n",
       "  </thead>\n",
       "  <tbody>\n",
       "    <tr>\n",
       "      <th>26059</th>\n",
       "      <td>GreBlu9508M</td>\n",
       "      <td>Site2</td>\n",
       "      <td>Site2_L1100R1450_e31_s0_ss1</td>\n",
       "      <td>single</td>\n",
       "      <td>119</td>\n",
       "      <td>BlaLbl8026_FAS_Ne_3-10-6.wav</td>\n",
       "      <td>A</td>\n",
       "      <td>Ne</td>\n",
       "      <td>2.500000</td>\n",
       "      <td>unfamiliar</td>\n",
       "      <td>f</td>\n",
       "      <td>call</td>\n",
       "      <td>NCM</td>\n",
       "      <td>R</td>\n",
       "      <td>Ne</td>\n",
       "      <td>A2</td>\n",
       "    </tr>\n",
       "    <tr>\n",
       "      <th>97164</th>\n",
       "      <td>YelBlu6903F</td>\n",
       "      <td>Site4</td>\n",
       "      <td>Site4_L1500R1500_e17_s0_ss3</td>\n",
       "      <td>single</td>\n",
       "      <td>47</td>\n",
       "      <td>BlaBla0506_MAF_Ne_9-5-4.wav</td>\n",
       "      <td>A</td>\n",
       "      <td>Ne</td>\n",
       "      <td>2.500000</td>\n",
       "      <td>familiar</td>\n",
       "      <td>m</td>\n",
       "      <td>call</td>\n",
       "      <td>NCM</td>\n",
       "      <td>R</td>\n",
       "      <td>Ne</td>\n",
       "      <td>A2</td>\n",
       "    </tr>\n",
       "    <tr>\n",
       "      <th>19454</th>\n",
       "      <td>GreBlu9508M</td>\n",
       "      <td>Site1</td>\n",
       "      <td>Site1_L750R1100_e28_s0_ss1</td>\n",
       "      <td>single</td>\n",
       "      <td>114</td>\n",
       "      <td>BlaLbl8026_FAS_DC_9-5-3.wav</td>\n",
       "      <td>A</td>\n",
       "      <td>DC</td>\n",
       "      <td>2.500000</td>\n",
       "      <td>unfamiliar</td>\n",
       "      <td>f</td>\n",
       "      <td>call</td>\n",
       "      <td>CML</td>\n",
       "      <td>R</td>\n",
       "      <td>DC</td>\n",
       "      <td>A1</td>\n",
       "    </tr>\n",
       "    <tr>\n",
       "      <th>25336</th>\n",
       "      <td>GreBlu9508M</td>\n",
       "      <td>Site2</td>\n",
       "      <td>Site2_L1100R1450_e28_s0_ss1</td>\n",
       "      <td>single</td>\n",
       "      <td>116</td>\n",
       "      <td>BlaLbl8026_FAS_Di_2.wav</td>\n",
       "      <td>A</td>\n",
       "      <td>Di</td>\n",
       "      <td>0.417220</td>\n",
       "      <td>unfamiliar</td>\n",
       "      <td>f</td>\n",
       "      <td>call</td>\n",
       "      <td>L1-CML</td>\n",
       "      <td>R</td>\n",
       "      <td>Di</td>\n",
       "      <td>A1</td>\n",
       "    </tr>\n",
       "    <tr>\n",
       "      <th>8269</th>\n",
       "      <td>BlaBro09xxF</td>\n",
       "      <td>Site2</td>\n",
       "      <td>Site2_L2000R1600_e32_s1_ss2</td>\n",
       "      <td>single</td>\n",
       "      <td>89</td>\n",
       "      <td>STRFxx0000__So_3.wav</td>\n",
       "      <td>NaN</td>\n",
       "      <td>NaN</td>\n",
       "      <td>1.722045</td>\n",
       "      <td>unfamiliar</td>\n",
       "      <td>m</td>\n",
       "      <td>song</td>\n",
       "      <td>NCM</td>\n",
       "      <td>R</td>\n",
       "      <td>song</td>\n",
       "      <td>A2</td>\n",
       "    </tr>\n",
       "  </tbody>\n",
       "</table>\n",
       "</div>"
      ],
      "text/plain": [
       "           subject   site                  single_unit sortType  stim_number  \\\n",
       "26059  GreBlu9508M  Site2  Site2_L1100R1450_e31_s0_ss1   single          119   \n",
       "97164  YelBlu6903F  Site4  Site4_L1500R1500_e17_s0_ss3   single           47   \n",
       "19454  GreBlu9508M  Site1   Site1_L750R1100_e28_s0_ss1   single          114   \n",
       "25336  GreBlu9508M  Site2  Site2_L1100R1450_e28_s0_ss1   single          116   \n",
       "8269   BlaBro09xxF  Site2  Site2_L2000R1600_e32_s1_ss2   single           89   \n",
       "\n",
       "                   original_wavfile callerAge callid  stim_duration  \\\n",
       "26059  BlaLbl8026_FAS_Ne_3-10-6.wav         A     Ne       2.500000   \n",
       "97164   BlaBla0506_MAF_Ne_9-5-4.wav         A     Ne       2.500000   \n",
       "19454   BlaLbl8026_FAS_DC_9-5-3.wav         A     DC       2.500000   \n",
       "25336       BlaLbl8026_FAS_Di_2.wav         A     Di       0.417220   \n",
       "8269           STRFxx0000__So_3.wav       NaN    NaN       1.722045   \n",
       "\n",
       "      stim_source stim_source_sex stim_type brain_region hemisphere vocid  \\\n",
       "26059  unfamiliar               f      call          NCM          R    Ne   \n",
       "97164    familiar               m      call          NCM          R    Ne   \n",
       "19454  unfamiliar               f      call          CML          R    DC   \n",
       "25336  unfamiliar               f      call       L1-CML          R    Di   \n",
       "8269   unfamiliar               m      song          NCM          R  song   \n",
       "\n",
       "      auditory_cortex  \n",
       "26059              A2  \n",
       "97164              A2  \n",
       "19454              A1  \n",
       "25336              A1  \n",
       "8269               A2  "
      ]
     },
     "execution_count": 3,
     "metadata": {},
     "output_type": "execute_result"
    }
   ],
   "source": [
    "df = pd.read_csv('aa-4.csv')\n",
    "df.sample(n=5)"
   ]
  },
  {
   "cell_type": "markdown",
   "id": "004ca0fb-1812-4df7-aba7-5bfe259e4830",
   "metadata": {},
   "source": [
    "## Analysis"
   ]
  },
  {
   "cell_type": "code",
   "execution_count": 4,
   "id": "91570b15-1143-42c4-a202-d0e673788433",
   "metadata": {},
   "outputs": [],
   "source": [
    "subjects = df['subject'].unique()"
   ]
  },
  {
   "cell_type": "code",
   "execution_count": 13,
   "id": "bcc36c8b-20e1-4eb8-98e6-7930b1f61a4b",
   "metadata": {},
   "outputs": [],
   "source": [
    "def get_features(myBioSound):\n",
    "    feature_vector = np.array([\n",
    "                              # Pitch features\n",
    "                              myBioSound.fund, myBioSound.meansal,\n",
    "                              myBioSound.maxfund, myBioSound.minfund, myBioSound.cvfund,\n",
    "\n",
    "                              # Shape of spectral envelope\n",
    "                              myBioSound.meanspect, myBioSound.stdspect,\n",
    "                              myBioSound.skewspect, myBioSound.kurtosisspect, myBioSound.entropyspect,\n",
    "                              myBioSound.q1, myBioSound.q2, myBioSound.q3,\n",
    "\n",
    "                              # Shape and magnitude of amplitude envelope\n",
    "                              myBioSound.meantime, myBioSound.stdtime,\n",
    "                              myBioSound.skewtime, myBioSound.kurtosistime, myBioSound.entropytime,\n",
    "                              myBioSound.rms, myBioSound.maxAmp])\n",
    "    feature_vector = np.reshape(feature_vector, (1, 20))\n",
    "    return feature_vector"
   ]
  },
  {
   "cell_type": "code",
   "execution_count": 44,
   "id": "c174c97f-843b-4022-b2f0-56b228d1d05f",
   "metadata": {},
   "outputs": [
    {
     "name": "stdout",
     "output_type": "stream",
     "text": [
      "here\n",
      "here\n"
     ]
    }
   ],
   "source": [
    "X, y = np.empty((0, 20)), np.array([])\n",
    "for subject in subjects:\n",
    "    h5files = os.listdir(os.path.join(data_root, subject, 'wavfiles', 'h5files'))\n",
    "    h5files = [os.path.join(data_root, subject, 'wavfiles', 'h5files', f) for f in h5files]\n",
    "\n",
    "    for h5file in h5files:\n",
    "        myBioSound = BioSound()\n",
    "        try:\n",
    "            myBioSound.readh5(h5file)\n",
    "        except:\n",
    "            print('file not found')\n",
    "            continue\n",
    "        if myBioSound.type.tobytes().decode() == 'Wh':\n",
    "            print('Wh')\n",
    "            continue\n",
    "        feature_vector = get_features(myBioSound)\n",
    "        if feature_vector.dtype == np.dtype('O'):\n",
    "            print('here')\n",
    "            continue\n",
    "\n",
    "        X = np.append(X, feature_vector, axis=0)\n",
    "        y = np.append(y, myBioSound.type.tobytes().decode())"
   ]
  },
  {
   "cell_type": "markdown",
   "id": "6a16915c-d1b0-41a6-8d1c-b73e75fd6778",
   "metadata": {},
   "source": [
    "### PCA on Feature Vectors"
   ]
  },
  {
   "cell_type": "code",
   "execution_count": 45,
   "id": "0a06345a-ee3e-41ab-b1ee-c5782638fecb",
   "metadata": {},
   "outputs": [],
   "source": [
    "pca = PCA(n_components=2)\n",
    "scaler = MinMaxScaler()"
   ]
  },
  {
   "cell_type": "code",
   "execution_count": 58,
   "id": "0a4d91b2-c49c-4d36-9405-cfe68a1a9731",
   "metadata": {},
   "outputs": [],
   "source": [
    "X_norm = normalize(X, axis=0)    # axis=0 to normalize features\n",
    "#X_norm = scaler.fit_transform(X)\n",
    "X_comp = pca.fit_transform(X_norm)"
   ]
  },
  {
   "cell_type": "code",
   "execution_count": 47,
   "id": "52ffdafa-7f88-49c5-818b-4fa00f791c55",
   "metadata": {},
   "outputs": [
    {
     "data": {
      "text/plain": [
       "(183,)"
      ]
     },
     "execution_count": 47,
     "metadata": {},
     "output_type": "execute_result"
    }
   ],
   "source": [
    "y.shape"
   ]
  },
  {
   "cell_type": "code",
   "execution_count": 59,
   "id": "ef84ac02-f3c3-4d3c-9b27-fb70e08d16ca",
   "metadata": {},
   "outputs": [
    {
     "data": {
      "text/plain": [
       "<AxesSubplot:>"
      ]
     },
     "execution_count": 59,
     "metadata": {},
     "output_type": "execute_result"
    },
    {
     "data": {
      "image/png": "[encoded data removed]",
      "text/plain": [
       "<Figure size 432x288 with 1 Axes>"
      ]
     },
     "metadata": {
      "needs_background": "light"
     },
     "output_type": "display_data"
    }
   ],
   "source": [
    "sns.scatterplot(x=X_comp[:, 0], y=X_comp[:, 1], hue=y)"
   ]
  },
  {
   "cell_type": "code",
   "execution_count": 49,
   "id": "d23cfa5a-b068-41ad-840d-df33a5da2b58",
   "metadata": {},
   "outputs": [
    {
     "data": {
      "text/plain": [
       "Te    36\n",
       "DC    32\n",
       "Ne    28\n",
       "Be    22\n",
       "Ag    22\n",
       "Th    16\n",
       "LT    14\n",
       "Di    13\n",
       "dtype: int64"
      ]
     },
     "execution_count": 49,
     "metadata": {},
     "output_type": "execute_result"
    }
   ],
   "source": [
    "pd.Series(y).value_counts()"
   ]
  },
  {
   "cell_type": "code",
   "execution_count": 50,
   "id": "c5e37ad5-7360-4731-be51-8307be67e442",
   "metadata": {},
   "outputs": [
    {
     "data": {
      "text/plain": [
       "(183, 20)"
      ]
     },
     "execution_count": 50,
     "metadata": {},
     "output_type": "execute_result"
    }
   ],
   "source": [
    "X.shape"
   ]
  },
  {
   "cell_type": "code",
   "execution_count": 51,
   "id": "0d29784b-edae-4e1c-9af8-1f9a37731fd2",
   "metadata": {},
   "outputs": [
    {
     "data": {
      "text/plain": [
       "(183,)"
      ]
     },
     "execution_count": 51,
     "metadata": {},
     "output_type": "execute_result"
    }
   ],
   "source": [
    "y.shape"
   ]
  },
  {
   "cell_type": "code",
   "execution_count": 52,
   "id": "f367e1a1-e46a-4772-b3c7-8892e08664ab",
   "metadata": {},
   "outputs": [],
   "source": [
    "from sklearn.preprocessing import MinMaxScaler\n",
    "scaler = MinMaxScaler()"
   ]
  },
  {
   "cell_type": "code",
   "execution_count": 53,
   "id": "d9538772-0eb7-4f7d-a5b5-d7e911f76d9c",
   "metadata": {},
   "outputs": [],
   "source": [
    "X_transformed = scaler.fit_transform(X)"
   ]
  },
  {
   "cell_type": "markdown",
   "id": "9fe1f5b2-1554-4eeb-8ff2-0bec443346a5",
   "metadata": {},
   "source": [
    "## Distance Matrix"
   ]
  },
  {
   "cell_type": "code",
   "execution_count": 54,
   "id": "ff23b538-b2c4-44b2-b263-0a527b01dbc7",
   "metadata": {},
   "outputs": [],
   "source": [
    "def get_category_dist_matrix(X, y):\n",
    "    unique_categories = np.unique(y)\n",
    "    num_categories = len(unique_categories)\n",
    "    dist_matrix = np.zeros((num_categories, num_categories))\n",
    "\n",
    "    sample_labels = []\n",
    "    category_indices = {}  # To keep track of the category indices and sample counts.\n",
    "    \n",
    "    # pick first category\n",
    "    for i, cat_1 in enumerate(unique_categories):\n",
    "        X_1 = X[y == cat_1]\n",
    "        # pick second category\n",
    "        for j, cat_2 in enumerate(unique_categories):\n",
    "            X_2 = X[y == cat_2]\n",
    "            dist_matrix[i, j] = distance.directed_hausdorff(X_1, X_2)[0]\n",
    "        \n",
    "\n",
    "    return dist_matrix"
   ]
  },
  {
   "cell_type": "code",
   "execution_count": 55,
   "id": "d3f027f5-30a4-46dd-a9ff-d277a105ccf2",
   "metadata": {},
   "outputs": [],
   "source": [
    "dist_matrix = get_category_dist_matrix(X_transformed, y)"
   ]
  },
  {
   "cell_type": "code",
   "execution_count": 56,
   "id": "dfd2ccea-4a44-42a9-87ac-f4b54d01b186",
   "metadata": {},
   "outputs": [
    {
     "data": {
      "image/png": "[encoded data removed]",
      "text/plain": [
       "<Figure size 432x288 with 2 Axes>"
      ]
     },
     "metadata": {
      "needs_background": "light"
     },
     "output_type": "display_data"
    }
   ],
   "source": [
    "import numpy as np\n",
    "import matplotlib.pyplot as plt\n",
    "from scipy.spatial.distance import cdist\n",
    "\n",
    "# Plot the distances as a heatmap\n",
    "fig, ax = plt.subplots()\n",
    "heatmap = ax.imshow(dist_matrix, cmap='viridis')\n",
    "\n",
    "# Customize the plot\n",
    "cats = np.unique(y)\n",
    "ax.set_xticks(np.arange(len(cats)))\n",
    "ax.set_yticks(np.arange(len(cats)))\n",
    "ax.set_xticklabels(cats)\n",
    "ax.set_yticklabels(cats)\n",
    "plt.xlabel('Category')\n",
    "plt.ylabel('Category')\n",
    "plt.title('Distances between Categories in the Acoustic Space')\n",
    "plt.colorbar(heatmap, ax=ax)\n",
    "\n",
    "# Show the plot\n",
    "plt.show()\n"
   ]
  },
  {
   "cell_type": "code",
   "execution_count": 57,
   "id": "71852c39-2e52-4861-ba6b-70e762eac43c",
   "metadata": {},
   "outputs": [],
   "source": [
    "with open('acoustic_representation.npy', 'wb') as f:\n",
    "    np.save(f, dist_matrix)"
   ]
  },
  {
   "cell_type": "code",
   "execution_count": null,
   "id": "ca273921-8637-41e2-a724-5bb9e83d5217",
   "metadata": {},
   "outputs": [],
   "source": []
  }
 ],
 "metadata": {
  "kernelspec": {
   "display_name": "Python 3",
   "language": "python",
   "name": "python3"
  },
  "language_info": {
   "codemirror_mode": {
    "name": "ipython",
    "version": 3
   },
   "file_extension": ".py",
   "mimetype": "text/x-python",
   "name": "python",
   "nbconvert_exporter": "python",
   "pygments_lexer": "ipython3",
   "version": "3.8.8"
  }
 },
 "nbformat": 4,
 "nbformat_minor": 5
}
