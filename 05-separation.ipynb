{
 "cells": [
  {
   "cell_type": "markdown",
   "id": "954e19da-1017-48e2-a51a-4ccba88e16d7",
   "metadata": {},
   "source": [
    "# Separation of Semantic Categories in A1 vs A2"
   ]
  },
  {
   "cell_type": "code",
   "execution_count": 1,
   "id": "a18ebc05-1742-41e2-89fc-aca7c4be20e5",
   "metadata": {},
   "outputs": [
    {
     "name": "stderr",
     "output_type": "stream",
     "text": [
      "<frozen importlib._bootstrap>:219: RuntimeWarning: scipy._lib.messagestream.MessageStream size changed, may indicate binary incompatibility. Expected 56 from C header, got 64 from PyObject\n"
     ]
    }
   ],
   "source": [
    "import numpy as np\n",
    "import pandas as pd\n",
    "import matplotlib.pyplot as plt\n",
    "import seaborn as sns\n",
    "\n",
    "import matplotlib.pyplot as plt\n",
    "from scipy import signal\n",
    "from scipy.io import wavfile\n",
    "from scipy import stats\n",
    "from spafe.features.lfcc import lfcc\n",
    "from scipy.spatial import distance\n",
    "from sklearn.decomposition import PCA\n",
    "from sklearn.discriminant_analysis import LinearDiscriminantAnalysis\n",
    "from sklearn.preprocessing import normalize\n",
    "from sklearn.preprocessing import MinMaxScaler\n",
    "from sklearn.model_selection import cross_val_score\n",
    "from frechetdist import frdist\n",
    "import mantel\n",
    "\n",
    "import os\n",
    "import sys\n",
    "import h5py\n",
    "import warnings\n",
    "warnings.filterwarnings(\"ignore\")"
   ]
  },
  {
   "cell_type": "code",
   "execution_count": 2,
   "id": "10a70365-18ac-41c4-801f-87510470a053",
   "metadata": {},
   "outputs": [
    {
     "data": {
      "text/plain": [
       "'..\\\\..\\\\data\\\\anesthetized'"
      ]
     },
     "execution_count": 2,
     "metadata": {},
     "output_type": "execute_result"
    }
   ],
   "source": [
    "data_root = os.path.join('..', '..', 'data', 'anesthetized')\n",
    "data_root"
   ]
  },
  {
   "cell_type": "code",
   "execution_count": 3,
   "id": "3f610243-1406-48b6-a7db-10fa8c44136c",
   "metadata": {},
   "outputs": [
    {
     "data": {
      "text/html": [
       "<div>\n",
       "<style scoped>\n",
       "    .dataframe tbody tr th:only-of-type {\n",
       "        vertical-align: middle;\n",
       "    }\n",
       "\n",
       "    .dataframe tbody tr th {\n",
       "        vertical-align: top;\n",
       "    }\n",
       "\n",
       "    .dataframe thead th {\n",
       "        text-align: right;\n",
       "    }\n",
       "</style>\n",
       "<table border=\"1\" class=\"dataframe\">\n",
       "  <thead>\n",
       "    <tr style=\"text-align: right;\">\n",
       "      <th></th>\n",
       "      <th>subject</th>\n",
       "      <th>site</th>\n",
       "      <th>single_unit</th>\n",
       "      <th>sortType</th>\n",
       "      <th>stim_number</th>\n",
       "      <th>original_wavfile</th>\n",
       "      <th>callerAge</th>\n",
       "      <th>callid</th>\n",
       "      <th>stim_duration</th>\n",
       "      <th>stim_source</th>\n",
       "      <th>stim_source_sex</th>\n",
       "      <th>stim_type</th>\n",
       "      <th>brain_region</th>\n",
       "      <th>hemisphere</th>\n",
       "      <th>vocid</th>\n",
       "      <th>auditory_cortex</th>\n",
       "    </tr>\n",
       "  </thead>\n",
       "  <tbody>\n",
       "    <tr>\n",
       "      <th>38</th>\n",
       "      <td>BlaBro09xxF</td>\n",
       "      <td>Site1</td>\n",
       "      <td>Site1_L1500R1500_e10_s0_ss1</td>\n",
       "      <td>single</td>\n",
       "      <td>232</td>\n",
       "      <td>WhiBlu4917_FAF_Th_10-4-8.wav</td>\n",
       "      <td>A</td>\n",
       "      <td>Th</td>\n",
       "      <td>2.500000</td>\n",
       "      <td>familiar</td>\n",
       "      <td>f</td>\n",
       "      <td>call</td>\n",
       "      <td>NCM</td>\n",
       "      <td>L</td>\n",
       "      <td>Th</td>\n",
       "      <td>A2</td>\n",
       "    </tr>\n",
       "    <tr>\n",
       "      <th>20449</th>\n",
       "      <td>GreBlu9508M</td>\n",
       "      <td>Site1</td>\n",
       "      <td>Site1_L750R1100_e31_s0_ss3</td>\n",
       "      <td>single</td>\n",
       "      <td>269</td>\n",
       "      <td>WhiLbl0010_MAS_Di_1.wav</td>\n",
       "      <td>A</td>\n",
       "      <td>Di</td>\n",
       "      <td>0.248505</td>\n",
       "      <td>unfamiliar</td>\n",
       "      <td>m</td>\n",
       "      <td>call</td>\n",
       "      <td>NCM</td>\n",
       "      <td>R</td>\n",
       "      <td>Di</td>\n",
       "      <td>A2</td>\n",
       "    </tr>\n",
       "    <tr>\n",
       "      <th>44078</th>\n",
       "      <td>GreBlu9508M</td>\n",
       "      <td>Site5</td>\n",
       "      <td>Site5_L1800R2100_e29_s0_ss2</td>\n",
       "      <td>single</td>\n",
       "      <td>258</td>\n",
       "      <td>WhiGra0114_FAF_Te_2-8-10.wav</td>\n",
       "      <td>A</td>\n",
       "      <td>Te</td>\n",
       "      <td>2.500000</td>\n",
       "      <td>familiar</td>\n",
       "      <td>f</td>\n",
       "      <td>call</td>\n",
       "      <td>L3</td>\n",
       "      <td>R</td>\n",
       "      <td>Te</td>\n",
       "      <td>A1</td>\n",
       "    </tr>\n",
       "    <tr>\n",
       "      <th>7887</th>\n",
       "      <td>BlaBro09xxF</td>\n",
       "      <td>Site2</td>\n",
       "      <td>Site2_L2000R1600_e30_s1_ss2</td>\n",
       "      <td>single</td>\n",
       "      <td>57</td>\n",
       "      <td>LblBlu1630_FCS_LT_4-10-9.wav</td>\n",
       "      <td>C</td>\n",
       "      <td>LT</td>\n",
       "      <td>2.500000</td>\n",
       "      <td>unfamiliar</td>\n",
       "      <td>f</td>\n",
       "      <td>call</td>\n",
       "      <td>L2B</td>\n",
       "      <td>R</td>\n",
       "      <td>LT</td>\n",
       "      <td>A1</td>\n",
       "    </tr>\n",
       "    <tr>\n",
       "      <th>39804</th>\n",
       "      <td>GreBlu9508M</td>\n",
       "      <td>Site4</td>\n",
       "      <td>Site4_L1500R1900_e8_s0_ss1</td>\n",
       "      <td>single</td>\n",
       "      <td>54</td>\n",
       "      <td>BlaBla0506_MAF_Th_4-5-2.wav</td>\n",
       "      <td>A</td>\n",
       "      <td>Th</td>\n",
       "      <td>2.500000</td>\n",
       "      <td>familiar</td>\n",
       "      <td>m</td>\n",
       "      <td>call</td>\n",
       "      <td>NCM</td>\n",
       "      <td>L</td>\n",
       "      <td>Th</td>\n",
       "      <td>A2</td>\n",
       "    </tr>\n",
       "  </tbody>\n",
       "</table>\n",
       "</div>"
      ],
      "text/plain": [
       "           subject   site                  single_unit sortType  stim_number  \\\n",
       "38     BlaBro09xxF  Site1  Site1_L1500R1500_e10_s0_ss1   single          232   \n",
       "20449  GreBlu9508M  Site1   Site1_L750R1100_e31_s0_ss3   single          269   \n",
       "44078  GreBlu9508M  Site5  Site5_L1800R2100_e29_s0_ss2   single          258   \n",
       "7887   BlaBro09xxF  Site2  Site2_L2000R1600_e30_s1_ss2   single           57   \n",
       "39804  GreBlu9508M  Site4   Site4_L1500R1900_e8_s0_ss1   single           54   \n",
       "\n",
       "                   original_wavfile callerAge callid  stim_duration  \\\n",
       "38     WhiBlu4917_FAF_Th_10-4-8.wav         A     Th       2.500000   \n",
       "20449       WhiLbl0010_MAS_Di_1.wav         A     Di       0.248505   \n",
       "44078  WhiGra0114_FAF_Te_2-8-10.wav         A     Te       2.500000   \n",
       "7887   LblBlu1630_FCS_LT_4-10-9.wav         C     LT       2.500000   \n",
       "39804   BlaBla0506_MAF_Th_4-5-2.wav         A     Th       2.500000   \n",
       "\n",
       "      stim_source stim_source_sex stim_type brain_region hemisphere vocid  \\\n",
       "38       familiar               f      call          NCM          L    Th   \n",
       "20449  unfamiliar               m      call          NCM          R    Di   \n",
       "44078    familiar               f      call           L3          R    Te   \n",
       "7887   unfamiliar               f      call          L2B          R    LT   \n",
       "39804    familiar               m      call          NCM          L    Th   \n",
       "\n",
       "      auditory_cortex  \n",
       "38                 A2  \n",
       "20449              A2  \n",
       "44078              A1  \n",
       "7887               A1  \n",
       "39804              A2  "
      ]
     },
     "execution_count": 3,
     "metadata": {},
     "output_type": "execute_result"
    }
   ],
   "source": [
    "df = pd.read_csv('aa-4.csv')\n",
    "df.sample(n=5)"
   ]
  },
  {
   "cell_type": "code",
   "execution_count": 4,
   "id": "3cc5b7a7-7672-4712-839a-a9794b8ad9cf",
   "metadata": {},
   "outputs": [
    {
     "data": {
      "text/plain": [
       "array([ 5.3       ,  4.8       ,  6.2       ,  7.9       ,  6.6       ,\n",
       "        3.8       ,  9.7       ,  9.1       ,  4.8       , 17.9       ,\n",
       "       11.1       ,  2.        ,  5.3       ,  1.9       ,  6.6       ,\n",
       "        1.9       ,  9.9       ,  6.1       ,  0.7       , 27.4       ,\n",
       "       32.6       , 55.        , 23.2       , 42.3       , 61.6       ,\n",
       "       54.8       ,  0.2       ,  5.4       ,  2.1       ,  2.8       ,\n",
       "        0.3       ,  7.6       , 11.9       , 14.6       ,  0.        ,\n",
       "        8.18181818, 14.09090909, 36.        , 44.63636364, 16.27272727,\n",
       "       53.81818182, 29.09090909, 15.45454545, 18.63636364, 18.36363636,\n",
       "       21.5       , 29.7       , 26.4       ,  7.7       , 19.        ,\n",
       "        5.2       ,  3.7       ,  4.6       , 33.4       , 27.3       ,\n",
       "        6.2       , 18.4       ])"
      ]
     },
     "execution_count": 4,
     "metadata": {},
     "output_type": "execute_result"
    }
   ],
   "source": [
    "# returns a matrix of shape (n_trials, n_neurons)\n",
    "# this is the SPIKE COUNT implementation\n",
    "def getPopulationResponse(bird, stim_number, hemisphere='L', auditory_cortex='A1', end_time=1):\n",
    "    resp_df = df[(df['subject']==bird) & (df['stim_number']==stim_number) & (df['hemisphere']==hemisphere) & (df['auditory_cortex']==auditory_cortex)]\n",
    "    \n",
    "    # load data\n",
    "    cells = resp_df['single_unit'].unique()\n",
    "    population_response = []\n",
    "    \n",
    "    # cell == neuron\n",
    "    for cell in cells:\n",
    "        # load cell\n",
    "        source_path = os.path.join(data_root, bird, cell+'.h5')\n",
    "        neuron_data = h5py.File(source_path)\n",
    "        main_key = [k for k in neuron_data.keys() if k.__contains__('Call')][0]\n",
    "        # load response\n",
    "        cell_response = []\n",
    "        try:\n",
    "            trialIDs = neuron_data[main_key][str(stim_number)].keys()\n",
    "        except:\n",
    "            continue\n",
    "        for i, trialID in enumerate(trialIDs):\n",
    "            trial_response = neuron_data[main_key][str(stim_number)][trialID]['spike_times'][:].flatten()\n",
    "            cell_response.append(((trial_response >= 0) & (trial_response <= end_time)).sum())\n",
    "        \n",
    "        cell_response = np.mean(cell_response)\n",
    "        population_response.append(cell_response)\n",
    "    population_response = np.array(population_response)\n",
    "    return population_response\n",
    "\n",
    "response = getPopulationResponse('GreBlu9508M', stim_number=102, end_time=1)\n",
    "response"
   ]
  },
  {
   "cell_type": "code",
   "execution_count": 5,
   "id": "8af379c6-8ff7-4064-9296-19df910b5721",
   "metadata": {},
   "outputs": [],
   "source": [
    "# returns a matrix X of shape (n_vocids, n_neurons)\n",
    "def getSpikeCountsForStimuli(bird, hemisphere='L', auditory_cortex='A2'):\n",
    "    resp_df = df[(df['subject']==bird) & (df['hemisphere']==hemisphere) & (df['auditory_cortex']==auditory_cortex)]\n",
    "    vocids = resp_df['vocid'].unique()\n",
    "    \n",
    "    X, y = [], []\n",
    "    for vocid in vocids:\n",
    "        stimuli = resp_df[resp_df['vocid']==vocid]['stim_number'].unique()\n",
    "        for stimulus in stimuli:\n",
    "            stimulus_response = getPopulationResponse(bird, stimulus, hemisphere, auditory_cortex, end_time=1)\n",
    "            X.append(stimulus_response)\n",
    "            y.append(vocid+'_'+str(stimulus))\n",
    "    return np.array(X), np.array(y)"
   ]
  },
  {
   "cell_type": "code",
   "execution_count": 6,
   "id": "e7c60338-b370-4a21-bcf6-2409b0e5b3da",
   "metadata": {},
   "outputs": [
    {
     "data": {
      "text/plain": [
       "\"for bird in df['subject'].unique():\\n    for hemisphere in ['L', 'R']:\\n        for auditory_cortex in ['A1', 'A2']:\\n            spike_counts, labels = getSpikeCountsForStimuli(bird, hemisphere, auditory_cortex)\\n            with open('spike_counts/'+bird+'_'+hemisphere+'_'+auditory_cortex+'_X.npy', 'wb') as f:\\n                np.save(f, spike_counts)\\n            with open('spike_counts/'+bird+'_'+hemisphere+'_'+auditory_cortex+'_y.npy', 'wb') as g:\\n                np.save(g, labels)\""
      ]
     },
     "execution_count": 6,
     "metadata": {},
     "output_type": "execute_result"
    }
   ],
   "source": [
    "# uncomment to calculate spike counts for every bird for every stimulus\n",
    "'''for bird in df['subject'].unique():\n",
    "    for hemisphere in ['L', 'R']:\n",
    "        for auditory_cortex in ['A1', 'A2']:\n",
    "            spike_counts, labels = getSpikeCountsForStimuli(bird, hemisphere, auditory_cortex)\n",
    "            with open('spike_counts/'+bird+'_'+hemisphere+'_'+auditory_cortex+'_X.npy', 'wb') as f:\n",
    "                np.save(f, spike_counts)\n",
    "            with open('spike_counts/'+bird+'_'+hemisphere+'_'+auditory_cortex+'_y.npy', 'wb') as g:\n",
    "                np.save(g, labels)'''"
   ]
  },
  {
   "cell_type": "code",
   "execution_count": 7,
   "id": "3a4a78ef-965f-4d84-ba25-cf1001d4ee9c",
   "metadata": {},
   "outputs": [],
   "source": [
    "X = np.load('spike_counts/WhiWhi4522M_L_A1_X.npy')\n",
    "y = np.load('spike_counts/WhiWhi4522M_L_A1_y.npy')"
   ]
  },
  {
   "cell_type": "code",
   "execution_count": 8,
   "id": "3e8ef2ba-b5c9-488e-9324-73f31a4abc56",
   "metadata": {},
   "outputs": [
    {
     "data": {
      "text/plain": [
       "(121, 9)"
      ]
     },
     "execution_count": 8,
     "metadata": {},
     "output_type": "execute_result"
    }
   ],
   "source": [
    "X.shape"
   ]
  },
  {
   "cell_type": "code",
   "execution_count": 9,
   "id": "aaecbfd4-c1d9-4ab6-b2a6-78c59523907c",
   "metadata": {},
   "outputs": [
    {
     "data": {
      "text/plain": [
       "Text(0.5, 1.0, 'Spike-count vector')"
      ]
     },
     "execution_count": 9,
     "metadata": {},
     "output_type": "execute_result"
    },
    {
     "data": {
      "image/png": "[encoded data removed]",
      "text/plain": [
       "<Figure size 432x288 with 2 Axes>"
      ]
     },
     "metadata": {
      "needs_background": "light"
     },
     "output_type": "display_data"
    }
   ],
   "source": [
    "plt.imshow([(X[0])])\n",
    "plt.colorbar()\n",
    "plt.title('Spike-count vector')"
   ]
  },
  {
   "cell_type": "code",
   "execution_count": 10,
   "id": "a76e6f0b-803b-4f90-bcd6-29759ef91906",
   "metadata": {},
   "outputs": [],
   "source": [
    "def get_category_dist_matrix(X, y):\n",
    "    X = normalize(X, axis=0)\n",
    "    y = np.array([label[:label.find('_')] for label in y])\n",
    "    unique_categories = np.unique(y)\n",
    "    num_categories = len(unique_categories)\n",
    "    dist_matrix = np.zeros((num_categories, num_categories))\n",
    "    error_matrix = np.zeros((num_categories, num_categories))\n",
    "\n",
    "    sample_labels = []\n",
    "    category_indices = {}  # To keep track of the category indices and sample counts.\n",
    "    \n",
    "    # pick first category\n",
    "    for i, cat_1 in enumerate(unique_categories):\n",
    "        X_1 = X[y == cat_1]\n",
    "        # pick second category\n",
    "        for j, cat_2 in enumerate(unique_categories):\n",
    "            X_2 = X[y == cat_2]\n",
    "            \n",
    "            distances = []\n",
    "            # loop through X_1\n",
    "            for sample_1 in X_1:\n",
    "                # loop through X_2\n",
    "                for sample_2 in X_2:\n",
    "                    d = distance.cosine(sample_1, sample_2)\n",
    "                    distances.append(d)\n",
    "                    \n",
    "            dist_matrix[i, j] = np.mean(distances)\n",
    "            error_matrix[i, j] = np.std(distances)\n",
    "\n",
    "    return dist_matrix, error_matrix"
   ]
  },
  {
   "cell_type": "code",
   "execution_count": 11,
   "id": "ebf723b5-f771-41c0-89c7-8dd438faa798",
   "metadata": {},
   "outputs": [
    {
     "name": "stdout",
     "output_type": "stream",
     "text": [
      "{'subject': 'BlaBro09xxF', 'hemisphere': 'L', 'a1_neurons': 8, 'a2_neurons': 43, 'neuron_count': 8}\n",
      "Processing A1\n",
      "Processing A2\n",
      "{'subject': 'BlaBro09xxF', 'hemisphere': 'R', 'a1_neurons': 60, 'a2_neurons': 20, 'neuron_count': 20}\n",
      "Processing A1\n",
      "Processing A2\n",
      "{'subject': 'GreBlu9508M', 'hemisphere': 'L', 'a1_neurons': 57, 'a2_neurons': 58, 'neuron_count': 57}\n",
      "Processing A1\n",
      "Processing A2\n",
      "{'subject': 'GreBlu9508M', 'hemisphere': 'R', 'a1_neurons': 76, 'a2_neurons': 74, 'neuron_count': 74}\n",
      "Processing A1\n",
      "Processing A2\n",
      "{'subject': 'LblBlu2028M', 'hemisphere': 'R', 'a1_neurons': 4, 'a2_neurons': 25, 'neuron_count': 4}\n",
      "Processing A1\n",
      "Processing A2\n",
      "{'subject': 'LblBlu2028M', 'hemisphere': 'L', 'a1_neurons': 0, 'a2_neurons': 5, 'neuron_count': 0}\n",
      "{'subject': 'WhiWhi4522M', 'hemisphere': 'L', 'a1_neurons': 9, 'a2_neurons': 64, 'neuron_count': 9}\n",
      "Processing A1\n",
      "Processing A2\n",
      "{'subject': 'WhiWhi4522M', 'hemisphere': 'R', 'a1_neurons': 58, 'a2_neurons': 54, 'neuron_count': 54}\n",
      "Processing A1\n",
      "Processing A2\n",
      "{'subject': 'YelBlu6903F', 'hemisphere': 'L', 'a1_neurons': 40, 'a2_neurons': 84, 'neuron_count': 40}\n",
      "Processing A1\n",
      "Processing A2\n",
      "{'subject': 'YelBlu6903F', 'hemisphere': 'R', 'a1_neurons': 36, 'a2_neurons': 81, 'neuron_count': 36}\n",
      "Processing A1\n",
      "Processing A2\n"
     ]
    }
   ],
   "source": [
    "subject_table = df[['subject', 'hemisphere']].drop_duplicates()\n",
    "subject_table = subject_table.reset_index()  # make sure indexes pair with number of rows\n",
    "\n",
    "a1_dist_matrices, a1_err_matrices, a1_X, a1_y = [], [], [], []\n",
    "a2_dist_matrices, a2_err_matrices, a2_X, a2_y = [], [], [], []\n",
    "for i, row in subject_table.iterrows():\n",
    "    a1_neurons = len(df[(df['subject']==row['subject'])&(df['hemisphere']==row['hemisphere'])&(df['auditory_cortex']=='A1')]['single_unit'].unique())\n",
    "    a2_neurons = len(df[(df['subject']==row['subject'])&(df['hemisphere']==row['hemisphere'])&(df['auditory_cortex']=='A2')]['single_unit'].unique())\n",
    "    neuron_count = a1_neurons if a1_neurons < a2_neurons else a2_neurons\n",
    "    a1_dims, a2_dims = [], []\n",
    "    data_dict = {\n",
    "        'subject': row['subject'],\n",
    "        'hemisphere': row['hemisphere'],\n",
    "        'a1_neurons': a1_neurons,\n",
    "        'a2_neurons': a2_neurons,\n",
    "        'neuron_count': neuron_count\n",
    "    }\n",
    "    print(data_dict)\n",
    "    \n",
    "    if neuron_count == 0:\n",
    "        continue\n",
    "        \n",
    "    print('Processing A1')\n",
    "    X = np.load('spike_counts/' + row['subject'] + '_' + row['hemisphere'] + '_' + 'A1' + '_' + 'X.npy')\n",
    "    y = np.load('spike_counts/' + row['subject'] + '_' + row['hemisphere'] + '_' + 'A1' + '_' + 'y.npy')\n",
    "    cats = np.array([label[:label.find('_')] for label in y])\n",
    "    X = X[np.isin(cats, ['Ag', 'Be', 'DC', 'Di', 'LT', 'Ne', 'Te', 'Th'])]\n",
    "    y = y[np.isin(cats, ['Ag', 'Be', 'DC', 'Di', 'LT', 'Ne', 'Te', 'Th'])]\n",
    "    \n",
    "    a1_X.append(X)\n",
    "    a1_y.append(y)\n",
    "    \n",
    "    a1_dist_matrix, a1_err_matrix = get_category_dist_matrix(X, y)\n",
    "    a1_dist_matrices.append(a1_dist_matrix)\n",
    "    a1_err_matrices.append(a1_err_matrix)\n",
    "    \n",
    "    print('Processing A2')\n",
    "    X = np.load('spike_counts/' + row['subject'] + '_' + row['hemisphere'] + '_' + 'A2' + '_' + 'X.npy')\n",
    "    y = np.load('spike_counts/' + row['subject'] + '_' + row['hemisphere'] + '_' + 'A2' + '_' + 'y.npy')\n",
    "    cats = np.array([label[:label.find('_')] for label in y])\n",
    "    X = X[np.isin(cats, ['Ag', 'Be', 'DC', 'Di', 'LT', 'Ne', 'Te', 'Th'])]\n",
    "    y = y[np.isin(cats, ['Ag', 'Be', 'DC', 'Di', 'LT', 'Ne', 'Te', 'Th'])]\n",
    "    \n",
    "    a2_X.append(X)\n",
    "    a2_y.append(y)\n",
    "    \n",
    "    a2_dist_matrix, a2_err_matrix = get_category_dist_matrix(X, y)\n",
    "    a2_dist_matrices.append(a2_dist_matrix)\n",
    "    a2_err_matrices.append(a2_err_matrix)"
   ]
  },
  {
   "cell_type": "code",
   "execution_count": 12,
   "id": "2bfc1a42-6fb8-4f9f-896a-a97f21e0a601",
   "metadata": {},
   "outputs": [
    {
     "data": {
      "text/plain": [
       "(8, 8)"
      ]
     },
     "execution_count": 12,
     "metadata": {},
     "output_type": "execute_result"
    }
   ],
   "source": [
    "np.mean(np.array(a1_dist_matrices), axis=0).shape"
   ]
  },
  {
   "cell_type": "code",
   "execution_count": 13,
   "id": "e0e5bda6-7cb7-4365-ae95-f32d226ba0c2",
   "metadata": {},
   "outputs": [],
   "source": [
    "for i in range(len(a1_y)):\n",
    "    a1_y[i] = [label[:label.find('_')] for label in a1_y[i]]"
   ]
  },
  {
   "cell_type": "code",
   "execution_count": 14,
   "id": "2a4a03d8-8b39-4bae-baad-781fa69df6ec",
   "metadata": {},
   "outputs": [],
   "source": [
    "for i in range(len(a2_y)):\n",
    "    a2_y[i] = [label[:label.find('_')] for label in a2_y[i]]"
   ]
  },
  {
   "cell_type": "code",
   "execution_count": 15,
   "id": "f3372d9b-ba9f-4e28-8187-3cf3ffa06e26",
   "metadata": {},
   "outputs": [],
   "source": [
    "a1_y = np.array(a1_y)"
   ]
  },
  {
   "cell_type": "code",
   "execution_count": 19,
   "id": "cfc1d1a5-10b3-4012-8aa0-0e18e963ba7a",
   "metadata": {},
   "outputs": [
    {
     "data": {
      "image/png": "[encoded data removed]",
      "text/plain": [
       "<Figure size 432x288 with 1 Axes>"
      ]
     },
     "metadata": {},
     "output_type": "display_data"
    }
   ],
   "source": [
    "index = 5\n",
    "lda = LinearDiscriminantAnalysis()\n",
    "X = a1_X[index][:]\n",
    "labels = a1_y[index][:]\n",
    "\n",
    "a1_y[index] = np.array(a1_y[index])\n",
    "scaler = MinMaxScaler()\n",
    "\n",
    "X_scaled = normalize(X, axis=0)\n",
    "A1_lda = lda.fit_transform(X_scaled, labels)\n",
    "#print(\"explained variance:\", pca.explained_variance_ratio_[:2])\n",
    "#print(\"cross val score:\", cross_val_score(lda, X_scaled, labels, cv=5))\n",
    "\n",
    "plot = sns.scatterplot(x=A1_lda[:, 0], y=A1_lda[:, 1], hue=labels)\n",
    "plot.set(xlabel='LD1', ylabel='LD2')\n",
    "plot.set(xticklabels=[], yticklabels=[])\n",
    "plot.tick_params(bottom=False, left=False)\n",
    "\n",
    "sns.set(font_scale=1.5)\n",
    "plt.title('Calls in A1')\n",
    "sns.set_style(\"whitegrid\", {'axes.grid' : False})\n",
    "#sns.set_style(\"ticks\")\n",
    "plt.legend(bbox_to_anchor=(1.02, 1), loc='upper left', borderaxespad=0)\n",
    "plt.show()"
   ]
  },
  {
   "cell_type": "code",
   "execution_count": 21,
   "id": "3a24871c-8f62-4464-9ab4-2b535b23fc94",
   "metadata": {},
   "outputs": [
    {
     "data": {
      "text/plain": [
       "Text(0.5, 1.0, 'Calls in A2')"
      ]
     },
     "execution_count": 21,
     "metadata": {},
     "output_type": "execute_result"
    },
    {
     "data": {
      "image/png": "[encoded data removed]",
      "text/plain": [
       "<Figure size 432x288 with 1 Axes>"
      ]
     },
     "metadata": {},
     "output_type": "display_data"
    }
   ],
   "source": [
    "lda = LinearDiscriminantAnalysis()\n",
    "X = a2_X[index][:]\n",
    "labels = a2_y[index][:]\n",
    "\n",
    "a2_y[index] = np.array(a2_y[index])\n",
    "scaler = MinMaxScaler()\n",
    "\n",
    "X_scaled = normalize(X, axis=0)\n",
    "A2_lda = lda.fit_transform(X_scaled, labels)\n",
    "#print(\"explained variance:\", pca.explained_variance_ratio_[:2])\n",
    "#print(\"cross val score:\", cross_val_score(lda, X_scaled, labels, cv=5))\n",
    "\n",
    "plot = sns.scatterplot(x=A2_lda[:, 0], y=A2_lda[:, 1], hue=labels)\n",
    "plot.set(xlabel='LD1', ylabel='LD2')\n",
    "plot.set(xticklabels=[], yticklabels=[])\n",
    "plot.tick_params(bottom=False, left=False)\n",
    "\n",
    "plt.legend(bbox_to_anchor=(1.02, 1), loc='upper left', borderaxespad=0)\n",
    "plt.title('Calls in A2')"
   ]
  },
  {
   "cell_type": "code",
   "execution_count": 22,
   "id": "70fd2a59-57cf-45ff-9cc1-af665cb51bab",
   "metadata": {},
   "outputs": [
    {
     "name": "stdout",
     "output_type": "stream",
     "text": [
      "['Ag' 'Be' 'DC' 'Di' 'LT' 'Ne' 'Te' 'Th']\n"
     ]
    },
    {
     "data": {
      "image/png": "[encoded data removed]",
      "text/plain": [
       "<Figure size 432x432 with 2 Axes>"
      ]
     },
     "metadata": {},
     "output_type": "display_data"
    }
   ],
   "source": [
    "# Increase the size of the plot\n",
    "plt.figure(figsize=(6, 6))\n",
    "\n",
    "# Plot the distance matrix\n",
    "plt.imshow(np.mean(np.array(a1_dist_matrices), axis=0), cmap='viridis')\n",
    "\n",
    "# Set ticks and labels\n",
    "cats = np.unique(np.array([label[:label.find('_')] for label in y]))\n",
    "print(cats)\n",
    "cats = cats[cats != 'song']\n",
    "plt.xticks(np.arange(len(cats)), cats, rotation=90, fontsize=8)\n",
    "plt.yticks(np.arange(len(cats)), cats, fontsize=8)\n",
    "\n",
    "# Add colorbar\n",
    "plt.colorbar(label='Distance')\n",
    "plt.title('Averaged pairwise distance between categories in A1')\n",
    "\n",
    "# Show the plot\n",
    "plt.show()"
   ]
  },
  {
   "cell_type": "code",
   "execution_count": 23,
   "id": "3ef8b3fc-fd61-43a5-bdd4-fdb55597ba01",
   "metadata": {},
   "outputs": [],
   "source": [
    "cats = np.unique(cats)\n",
    "sep_a1, sep_a2 = [], []\n",
    "for hemisphere in range(9):\n",
    "    \n",
    "    within_cat, across_cat = [], []\n",
    "    A1 = np.array(a1_dist_matrices[hemisphere])\n",
    "    A1_err = np.array(a1_err_matrices[hemisphere])\n",
    "    \n",
    "    for i, cat in enumerate(cats):\n",
    "        within_cat.append(A1[i, i])\n",
    "        across_cat.append(((np.sum(A1[i, :]) - A1[i, i])) / 7)\n",
    "        within_err = A1_err[i, i]\n",
    "\n",
    "    sep_a1.append((np.array(across_cat) - np.array(within_cat)) / np.array(within_err))\n",
    "    \n",
    "    \n",
    "    within_cat, across_cat = [], []\n",
    "    A2 = np.array(a2_dist_matrices[hemisphere])\n",
    "    A2_err = np.array(a2_err_matrices[hemisphere])\n",
    "    for i, cat in enumerate(cats):\n",
    "        within_cat.append(A2[i, i])\n",
    "        across_cat.append(((np.sum(A2[i, :]) - A2[i, i])) / 7)\n",
    "        within_err = A2_err[i, i]\n",
    "        \n",
    "    sep_a2.append((np.array(across_cat) - np.array(within_cat)) / np.array(within_err))\n",
    "    #print(\"sep_a1:\", sep_a1[hemisphere])\n",
    "    #print(\"sep_a2:\", sep_a2[hemisphere])\n",
    "    #print(stats.wilcoxon(sep_a1[hemisphere], sep_a2[hemisphere], alternative='less'))\n",
    "    #print()"
   ]
  },
  {
   "cell_type": "code",
   "execution_count": 24,
   "id": "269037f2-2e4d-4aa3-9735-5059c95dd0cb",
   "metadata": {},
   "outputs": [
    {
     "data": {
      "text/plain": [
       "[array([0.4628568 , 0.29248422, 0.84924786, 0.40516269, 0.7007798 ,\n",
       "        0.43929642, 0.63172779, 0.78162264]),\n",
       " array([0.5552022 , 0.46777067, 0.04602686, 0.64508733, 0.52128813,\n",
       "        0.25328502, 0.28684821, 0.31285668]),\n",
       " array([0.70995623, 0.70149462, 0.69512366, 0.75988671, 0.71422635,\n",
       "        0.28129819, 0.4622177 , 0.68193556]),\n",
       " array([-0.01048078,  0.27549907,  0.87370148,  0.48185169,  0.4288339 ,\n",
       "         0.43172607,  0.37825459,  0.16642295]),\n",
       " array([ 0.10503559,  0.23407333,  0.19131608,  0.3877641 ,  0.1418132 ,\n",
       "         0.0388662 ,  0.14139402, -0.04562842]),\n",
       " array([0.44326746, 0.47284624, 0.62819084, 1.07213229, 2.21651934,\n",
       "        1.34713881, 1.107929  , 1.2510424 ]),\n",
       " array([0.98683791, 1.2049228 , 1.04354348, 0.98094232, 1.59205234,\n",
       "        1.22852265, 1.11622055, 1.75168104]),\n",
       " array([0.59710893, 1.39786144, 3.46482752, 1.44585042, 1.53690369,\n",
       "        1.24963176, 1.44630089, 1.20345933]),\n",
       " array([0.24851407, 0.1142583 , 0.52682651, 0.45735471, 0.31254983,\n",
       "        0.33298931, 0.40950959, 0.09788104])]"
      ]
     },
     "execution_count": 24,
     "metadata": {},
     "output_type": "execute_result"
    }
   ],
   "source": [
    "sep_a1"
   ]
  },
  {
   "cell_type": "code",
   "execution_count": 25,
   "id": "ea351f6f-34ea-4393-a98e-58eaa89a0034",
   "metadata": {},
   "outputs": [
    {
     "data": {
      "text/plain": [
       "[array([0.42255121, 0.34084338, 0.32444658, 0.24670029, 0.2379388 ,\n",
       "        0.35224922, 0.10537536, 0.11778178]),\n",
       " array([1.79544608, 0.38188874, 2.20012218, 1.49798063, 0.96446169,\n",
       "        1.0267193 , 1.36075423, 1.72052927]),\n",
       " array([1.43334603, 1.22975192, 1.14336865, 0.9703616 , 1.46272166,\n",
       "        1.79404917, 0.84721654, 1.45157069]),\n",
       " array([1.32346668, 1.23722492, 1.52357128, 0.82415837, 0.96285596,\n",
       "        1.00126798, 0.71954944, 1.43407986]),\n",
       " array([1.04666605, 0.94524619, 1.11118049, 1.23984388, 2.20467598,\n",
       "        0.61358366, 1.28477757, 1.35169476]),\n",
       " array([0.8563923 , 0.82361226, 0.89014419, 1.07664576, 0.89861578,\n",
       "        1.28796387, 1.39362566, 1.56417766]),\n",
       " array([2.13955684, 0.85826823, 2.03955166, 2.15232744, 3.44370753,\n",
       "        1.4383211 , 2.60530203, 2.73033887]),\n",
       " array([0.50652907, 0.48186282, 0.89511655, 0.80119741, 0.74359026,\n",
       "        0.44611543, 0.62981087, 0.37064697]),\n",
       " array([0.58901533, 0.54375183, 0.9634779 , 0.98644169, 0.94493963,\n",
       "        0.68793014, 0.84489828, 1.03602463])]"
      ]
     },
     "execution_count": 25,
     "metadata": {},
     "output_type": "execute_result"
    }
   ],
   "source": [
    "sep_a2"
   ]
  },
  {
   "cell_type": "code",
   "execution_count": 26,
   "id": "dbe94f59-0352-4dfe-8b88-43a03659298b",
   "metadata": {},
   "outputs": [],
   "source": [
    "sep_a1 = np.array(sep_a1)\n",
    "sep_a2 = np.array(sep_a2)"
   ]
  },
  {
   "cell_type": "code",
   "execution_count": 54,
   "id": "6d2cf727-8699-4a94-8db0-c1f1c15cc8f4",
   "metadata": {},
   "outputs": [
    {
     "data": {
      "text/plain": [
       "WilcoxonResult(statistic=36.0, pvalue=0.00390625)"
      ]
     },
     "execution_count": 54,
     "metadata": {},
     "output_type": "execute_result"
    }
   ],
   "source": [
    "stats.wilcoxon(np.mean(sep_a2, axis=0), np.mean(sep_a1, axis=0), alternative='greater')"
   ]
  },
  {
   "cell_type": "markdown",
   "id": "03d82630-a1b8-4faa-949e-9452d614b987",
   "metadata": {},
   "source": [
    "### Plotting"
   ]
  },
  {
   "cell_type": "code",
   "execution_count": 58,
   "id": "a5458890-f6eb-4396-8753-2a5e35ded3ea",
   "metadata": {},
   "outputs": [
    {
     "data": {
      "text/plain": [
       "Text(0.5, 1.0, 'Separation of Calls in A1 vs A2')"
      ]
     },
     "execution_count": 58,
     "metadata": {},
     "output_type": "execute_result"
    },
    {
     "data": {
      "image/png": "[encoded data removed]",
      "text/plain": [
       "<Figure size 432x288 with 1 Axes>"
      ]
     },
     "metadata": {},
     "output_type": "display_data"
    }
   ],
   "source": [
    "# create dataframe\n",
    "index = np.unique(labels)\n",
    "df = pd.DataFrame({'A1': np.mean(sep_a1, axis=0), 'A2': np.mean(sep_a2, axis=0)}, index=index)\n",
    "\n",
    "# plot\n",
    "ax = df.plot.bar()\n",
    "\n",
    "X, W, H = [], [], []\n",
    "for p in ax.patches:\n",
    "    X.append(p.get_x() + p.get_width()/2)  # get the bottom left x corner of the bar\n",
    "    W.append(p.get_width())  # get width of bar\n",
    "    H.append(p.get_height())  # get height of bar\n",
    "    \n",
    "errors = [item for pair in zip(np.std(sep_a1, axis=0), np.std(sep_a2, axis=0)) for item in pair]\n",
    "plt.errorbar(X, H, yerr=errors, fmt='o', color='k')\n",
    "plt.xlabel('Call-Type')\n",
    "plt.ylabel('Separation (a.u.)')\n",
    "plt.title('Separation of Calls in A1 vs A2')"
   ]
  },
  {
   "cell_type": "code",
   "execution_count": null,
   "id": "cf58c0f2-3f10-4c48-b012-beb0334327e7",
   "metadata": {},
   "outputs": [],
   "source": []
  }
 ],
 "metadata": {
  "kernelspec": {
   "display_name": "Python 3",
   "language": "python",
   "name": "python3"
  },
  "language_info": {
   "codemirror_mode": {
    "name": "ipython",
    "version": 3
   },
   "file_extension": ".py",
   "mimetype": "text/x-python",
   "name": "python",
   "nbconvert_exporter": "python",
   "pygments_lexer": "ipython3",
   "version": "3.8.8"
  }
 },
 "nbformat": 4,
 "nbformat_minor": 5
}
