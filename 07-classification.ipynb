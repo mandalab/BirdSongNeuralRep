{
 "cells": [
  {
   "cell_type": "markdown",
   "id": "57ccc7b0-53cd-4002-8203-1c1bc706bdbf",
   "metadata": {},
   "source": [
    "# Bird Call Classification"
   ]
  },
  {
   "cell_type": "markdown",
   "id": "a8b29bd9-3401-4154-9ff0-4d1b186bb2b6",
   "metadata": {},
   "source": [
    "## Import Packages"
   ]
  },
  {
   "cell_type": "code",
   "execution_count": 1,
   "id": "0c1d6ee1-83cf-4667-b081-51c1ed8a6224",
   "metadata": {},
   "outputs": [
    {
     "name": "stderr",
     "output_type": "stream",
     "text": [
      "<frozen importlib._bootstrap>:219: RuntimeWarning: scipy._lib.messagestream.MessageStream size changed, may indicate binary incompatibility. Expected 56 from C header, got 64 from PyObject\n"
     ]
    }
   ],
   "source": [
    "import numpy as np\n",
    "import pandas as pd\n",
    "import matplotlib.pyplot as plt\n",
    "from scipy import signal, stats\n",
    "\n",
    "from sklearn.decomposition import PCA\n",
    "from sklearn.discriminant_analysis import LinearDiscriminantAnalysis\n",
    "from sklearn.preprocessing import normalize\n",
    "from sklearn.model_selection import train_test_split, cross_val_score\n",
    "from sklearn.pipeline import Pipeline\n",
    "\n",
    "from tslearn.svm import TimeSeriesSVC\n",
    "\n",
    "import os\n",
    "import sys\n",
    "import h5py\n",
    "import warnings\n",
    "warnings.filterwarnings(\"ignore\")"
   ]
  },
  {
   "cell_type": "markdown",
   "id": "94dfe511-29ac-47d5-abb1-1216930d3198",
   "metadata": {},
   "source": [
    "## Load Data"
   ]
  },
  {
   "cell_type": "code",
   "execution_count": 2,
   "id": "35fe3a04-a5f9-4126-a6f4-523afbae0dfb",
   "metadata": {},
   "outputs": [
    {
     "data": {
      "text/plain": [
       "'..\\\\..\\\\data\\\\anesthetized'"
      ]
     },
     "execution_count": 2,
     "metadata": {},
     "output_type": "execute_result"
    }
   ],
   "source": [
    "data_root = os.path.join('..', '..', 'data', 'anesthetized')\n",
    "data_root"
   ]
  },
  {
   "cell_type": "code",
   "execution_count": 3,
   "id": "ddc20e8e-446f-4eaf-8e40-51eec94ed9be",
   "metadata": {},
   "outputs": [
    {
     "data": {
      "text/html": [
       "<div>\n",
       "<style scoped>\n",
       "    .dataframe tbody tr th:only-of-type {\n",
       "        vertical-align: middle;\n",
       "    }\n",
       "\n",
       "    .dataframe tbody tr th {\n",
       "        vertical-align: top;\n",
       "    }\n",
       "\n",
       "    .dataframe thead th {\n",
       "        text-align: right;\n",
       "    }\n",
       "</style>\n",
       "<table border=\"1\" class=\"dataframe\">\n",
       "  <thead>\n",
       "    <tr style=\"text-align: right;\">\n",
       "      <th></th>\n",
       "      <th>subject</th>\n",
       "      <th>site</th>\n",
       "      <th>single_unit</th>\n",
       "      <th>sortType</th>\n",
       "      <th>stim_number</th>\n",
       "      <th>original_wavfile</th>\n",
       "      <th>callerAge</th>\n",
       "      <th>callid</th>\n",
       "      <th>stim_duration</th>\n",
       "      <th>stim_source</th>\n",
       "      <th>stim_source_sex</th>\n",
       "      <th>stim_type</th>\n",
       "      <th>brain_region</th>\n",
       "      <th>hemisphere</th>\n",
       "      <th>vocid</th>\n",
       "      <th>auditory_cortex</th>\n",
       "    </tr>\n",
       "  </thead>\n",
       "  <tbody>\n",
       "    <tr>\n",
       "      <th>773</th>\n",
       "      <td>BlaBro09xxF</td>\n",
       "      <td>Site1</td>\n",
       "      <td>Site1_L1500R1500_e15_s0_ss1</td>\n",
       "      <td>single</td>\n",
       "      <td>275</td>\n",
       "      <td>WhiLbl0010_MAS_So_1.wav</td>\n",
       "      <td>NaN</td>\n",
       "      <td>NaN</td>\n",
       "      <td>2.647866</td>\n",
       "      <td>unfamiliar</td>\n",
       "      <td>m</td>\n",
       "      <td>song</td>\n",
       "      <td>L1</td>\n",
       "      <td>L</td>\n",
       "      <td>song</td>\n",
       "      <td>A1</td>\n",
       "    </tr>\n",
       "    <tr>\n",
       "      <th>71787</th>\n",
       "      <td>WhiWhi4522M</td>\n",
       "      <td>Site4</td>\n",
       "      <td>Site4_L2100R2050_e29_s0_ss1</td>\n",
       "      <td>single</td>\n",
       "      <td>51</td>\n",
       "      <td>BlaBla0506_MAF_Te_5-6-10.wav</td>\n",
       "      <td>A</td>\n",
       "      <td>Te</td>\n",
       "      <td>2.500000</td>\n",
       "      <td>familiar</td>\n",
       "      <td>m</td>\n",
       "      <td>call</td>\n",
       "      <td>L2A</td>\n",
       "      <td>R</td>\n",
       "      <td>Te</td>\n",
       "      <td>A1</td>\n",
       "    </tr>\n",
       "    <tr>\n",
       "      <th>61922</th>\n",
       "      <td>WhiWhi4522M</td>\n",
       "      <td>Site3</td>\n",
       "      <td>Site3_L1900R1800_e16_s0_ss2</td>\n",
       "      <td>single</td>\n",
       "      <td>133</td>\n",
       "      <td>BluRas07dd_FAS_Te_2-7-9.wav</td>\n",
       "      <td>A</td>\n",
       "      <td>Te</td>\n",
       "      <td>2.500000</td>\n",
       "      <td>unfamiliar</td>\n",
       "      <td>f</td>\n",
       "      <td>call</td>\n",
       "      <td>L2A</td>\n",
       "      <td>L</td>\n",
       "      <td>Te</td>\n",
       "      <td>A1</td>\n",
       "    </tr>\n",
       "    <tr>\n",
       "      <th>79825</th>\n",
       "      <td>YelBlu6903F</td>\n",
       "      <td>Site2</td>\n",
       "      <td>Site2_L1000R900_e10_s0_ss2</td>\n",
       "      <td>single</td>\n",
       "      <td>92</td>\n",
       "      <td>STRFxx0000__So_4.wav</td>\n",
       "      <td>NaN</td>\n",
       "      <td>NaN</td>\n",
       "      <td>2.003031</td>\n",
       "      <td>unfamiliar</td>\n",
       "      <td>m</td>\n",
       "      <td>song</td>\n",
       "      <td>NCM</td>\n",
       "      <td>L</td>\n",
       "      <td>song</td>\n",
       "      <td>A2</td>\n",
       "    </tr>\n",
       "    <tr>\n",
       "      <th>84692</th>\n",
       "      <td>YelBlu6903F</td>\n",
       "      <td>Site2</td>\n",
       "      <td>Site2_L1000R900_e28_s0_ss2</td>\n",
       "      <td>single</td>\n",
       "      <td>80</td>\n",
       "      <td>STRFxx0000__So_11.wav</td>\n",
       "      <td>NaN</td>\n",
       "      <td>NaN</td>\n",
       "      <td>2.090030</td>\n",
       "      <td>unfamiliar</td>\n",
       "      <td>m</td>\n",
       "      <td>song</td>\n",
       "      <td>L2B</td>\n",
       "      <td>R</td>\n",
       "      <td>song</td>\n",
       "      <td>A1</td>\n",
       "    </tr>\n",
       "  </tbody>\n",
       "</table>\n",
       "</div>"
      ],
      "text/plain": [
       "           subject   site                  single_unit sortType  stim_number  \\\n",
       "773    BlaBro09xxF  Site1  Site1_L1500R1500_e15_s0_ss1   single          275   \n",
       "71787  WhiWhi4522M  Site4  Site4_L2100R2050_e29_s0_ss1   single           51   \n",
       "61922  WhiWhi4522M  Site3  Site3_L1900R1800_e16_s0_ss2   single          133   \n",
       "79825  YelBlu6903F  Site2   Site2_L1000R900_e10_s0_ss2   single           92   \n",
       "84692  YelBlu6903F  Site2   Site2_L1000R900_e28_s0_ss2   single           80   \n",
       "\n",
       "                   original_wavfile callerAge callid  stim_duration  \\\n",
       "773         WhiLbl0010_MAS_So_1.wav       NaN    NaN       2.647866   \n",
       "71787  BlaBla0506_MAF_Te_5-6-10.wav         A     Te       2.500000   \n",
       "61922   BluRas07dd_FAS_Te_2-7-9.wav         A     Te       2.500000   \n",
       "79825          STRFxx0000__So_4.wav       NaN    NaN       2.003031   \n",
       "84692         STRFxx0000__So_11.wav       NaN    NaN       2.090030   \n",
       "\n",
       "      stim_source stim_source_sex stim_type brain_region hemisphere vocid  \\\n",
       "773    unfamiliar               m      song           L1          L  song   \n",
       "71787    familiar               m      call          L2A          R    Te   \n",
       "61922  unfamiliar               f      call          L2A          L    Te   \n",
       "79825  unfamiliar               m      song          NCM          L  song   \n",
       "84692  unfamiliar               m      song          L2B          R  song   \n",
       "\n",
       "      auditory_cortex  \n",
       "773                A1  \n",
       "71787              A1  \n",
       "61922              A1  \n",
       "79825              A2  \n",
       "84692              A1  "
      ]
     },
     "execution_count": 3,
     "metadata": {},
     "output_type": "execute_result"
    }
   ],
   "source": [
    "df = pd.read_csv('aa-4.csv')\n",
    "df.sample(n=5)"
   ]
  },
  {
   "cell_type": "code",
   "execution_count": 4,
   "id": "6b490d6f-a677-4b4a-9b46-5bb3239d0d39",
   "metadata": {},
   "outputs": [
    {
     "data": {
      "text/plain": [
       "subject             0.000000\n",
       "site                0.000000\n",
       "single_unit         0.000000\n",
       "sortType            0.000000\n",
       "stim_number         0.000000\n",
       "original_wavfile    0.000000\n",
       "callerAge           0.222987\n",
       "callid              0.222987\n",
       "stim_duration       0.000000\n",
       "stim_source         0.000000\n",
       "stim_source_sex     0.000000\n",
       "stim_type           0.000000\n",
       "brain_region        0.000000\n",
       "hemisphere          0.000000\n",
       "vocid               0.000000\n",
       "auditory_cortex     0.000000\n",
       "dtype: float64"
      ]
     },
     "execution_count": 4,
     "metadata": {},
     "output_type": "execute_result"
    }
   ],
   "source": [
    "df.isnull().sum()/len(df)"
   ]
  },
  {
   "cell_type": "markdown",
   "id": "c0e2a745-751c-49ff-9384-1be01769d094",
   "metadata": {},
   "source": [
    "## Utility Functions"
   ]
  },
  {
   "cell_type": "code",
   "execution_count": 5,
   "id": "81180c86-030f-4457-8a25-4d7e7b5f243b",
   "metadata": {},
   "outputs": [
    {
     "data": {
      "text/plain": [
       "(10, 16)"
      ]
     },
     "execution_count": 5,
     "metadata": {},
     "output_type": "execute_result"
    }
   ],
   "source": [
    "# returns a matrix of shape (n_trials, n_neurons).\n",
    "def getPopulationResponse(bird, stim_number, hemisphere='L', site='Site1'):\n",
    "    resp_df = df[(df['subject']==bird) & (df['stim_number']==stim_number) & (df['hemisphere']==hemisphere) & (df['site']==site)]\n",
    "    \n",
    "    # load data\n",
    "    cells = resp_df['single_unit'].unique()\n",
    "    population_response = []\n",
    "    \n",
    "    # cell == neuron\n",
    "    for cell in cells:\n",
    "        # load cell\n",
    "        source_path = os.path.join(data_root, bird, cell+'.h5')\n",
    "        neuron_data = h5py.File(source_path)\n",
    "        main_key = [k for k in neuron_data.keys() if k.__contains__('Call')][0]\n",
    "        \n",
    "        # load response\n",
    "        cell_response = []\n",
    "        trialIDs = neuron_data[main_key][str(stim_number)].keys()\n",
    "        for trialID in trialIDs:\n",
    "            trial_response = neuron_data[main_key][str(stim_number)][trialID]['spike_times'][:]\n",
    "            cell_response.append(trial_response)\n",
    "        \n",
    "        population_response.append(cell_response)\n",
    "    population_response = np.array(population_response)\n",
    "    return np.swapaxes(population_response, 0, 1)    # since neuron is in the outer loop, original shape is (n_neurons, n_trials)\n",
    "\n",
    "response = getPopulationResponse('GreBlu9508M', stim_number=50)\n",
    "response.shape"
   ]
  },
  {
   "cell_type": "code",
   "execution_count": 6,
   "id": "35754a63-27a7-4498-a147-212f96af7f04",
   "metadata": {},
   "outputs": [
    {
     "data": {
      "text/plain": [
       "(10, 16, 250)"
      ]
     },
     "execution_count": 6,
     "metadata": {},
     "output_type": "execute_result"
    }
   ],
   "source": [
    "# returns a matrix of shape (n_trials, n_neurons, n_timesteps)\n",
    "def times2trains(population_response, start=0, end=450):\n",
    "    trial_count = population_response.shape[0]\n",
    "    neuron_count = population_response.shape[1]\n",
    "    \n",
    "    spike_trains = np.zeros((trial_count, neuron_count, 450))\n",
    "    for i, trial in enumerate(population_response):\n",
    "        for j, neuron in enumerate(trial):\n",
    "            for k, time in enumerate(neuron):\n",
    "                if time >= -999:    # NaNs are stored as -999 in the data\n",
    "                    time = np.clip(time, -1, 3.490)\n",
    "                    spike_trains[i, j, 100+int(np.round(time*100))] += 1\n",
    "    return spike_trains[:, :, start:end]\n",
    "\n",
    "spike_trains = times2trains(response, start=100, end=350)\n",
    "spike_trains.shape"
   ]
  },
  {
   "cell_type": "code",
   "execution_count": 7,
   "id": "5b5ffe97-4deb-4e45-bdc4-a528c799823a",
   "metadata": {},
   "outputs": [
    {
     "data": {
      "text/plain": [
       "Text(0.5, 1.0, 'Spike Raster Plot')"
      ]
     },
     "execution_count": 7,
     "metadata": {},
     "output_type": "execute_result"
    },
    {
     "data": {
      "image/png": "[encoded data removed]",
      "text/plain": [
       "<Figure size 432x288 with 1 Axes>"
      ]
     },
     "metadata": {},
     "output_type": "display_data"
    }
   ],
   "source": [
    "plt.eventplot([np.nonzero(spike_trains[0, 11])[0], np.nonzero(spike_trains[0, 13])[0], np.nonzero(spike_trains[0, 3])[0]], color='k')\n",
    "plt.xticks([])\n",
    "plt.yticks([])\n",
    "plt.xlabel('Time', fontsize=20)\n",
    "plt.ylabel('Neurons', fontsize=20)\n",
    "plt.title('Spike Raster Plot', fontsize=24)"
   ]
  },
  {
   "cell_type": "code",
   "execution_count": 8,
   "id": "15a1903d-0b3c-4107-b561-b33cb3e88aa6",
   "metadata": {},
   "outputs": [
    {
     "data": {
      "text/plain": [
       "[<matplotlib.lines.Line2D at 0x1823df0f1c0>]"
      ]
     },
     "execution_count": 8,
     "metadata": {},
     "output_type": "execute_result"
    },
    {
     "data": {
      "image/png": "[encoded data removed]",
      "text/plain": [
       "<Figure size 432x288 with 1 Axes>"
      ]
     },
     "metadata": {
      "needs_background": "light"
     },
     "output_type": "display_data"
    }
   ],
   "source": [
    "# expects input shape (n_trials, n_neurons, n_timesteps)\n",
    "def trains2rates(spike_trains):\n",
    "    firing_rates = np.zeros(spike_trains.shape)\n",
    "    window = signal.windows.boxcar(5)\n",
    "    window = window / np.sum(window)\n",
    "    \n",
    "    for i, trial in enumerate(spike_trains):\n",
    "        for j, neuron_response in enumerate(trial):\n",
    "            firing_rates[i][j] = signal.convolve(neuron_response, window, mode='same') / sum(window)\n",
    "    return firing_rates\n",
    "\n",
    "firing_rates = trains2rates(spike_trains)\n",
    "plt.plot(firing_rates[0][0])"
   ]
  },
  {
   "cell_type": "code",
   "execution_count": 9,
   "id": "373ccd1c-2ec9-46b0-a855-776aff0fbea2",
   "metadata": {},
   "outputs": [
    {
     "data": {
      "text/plain": [
       "(10, 16, 250)"
      ]
     },
     "execution_count": 9,
     "metadata": {},
     "output_type": "execute_result"
    }
   ],
   "source": [
    "firing_rates.shape"
   ]
  },
  {
   "cell_type": "code",
   "execution_count": 10,
   "id": "325695f5-b5b5-4c0b-ac9c-1c47d6a620b7",
   "metadata": {},
   "outputs": [],
   "source": [
    "# returns a matrix X of shape (n_callids, n_timesteps, n_dimensions)\n",
    "def getClassificationDataset(bird, hemisphere='L', auditory_cortex='A2', n_neurons=None):\n",
    "    resp_df = df[(df['subject']==bird) & (df['hemisphere']==hemisphere) & (df['auditory_cortex']==auditory_cortex)]\n",
    "\n",
    "    # load data\n",
    "    cells = resp_df['single_unit'].unique()\n",
    "    callids = resp_df['callid'].unique()\n",
    "    X, y = [], []\n",
    "    \n",
    "    if n_neurons is not None:\n",
    "        rng = np.random.default_rng()\n",
    "        cells = rng.choice(cells, size=n_neurons, replace=False)\n",
    "    \n",
    "    for callid in callids:\n",
    "        \n",
    "        stimuli = resp_df[resp_df['callid']==callid]['stim_number'].unique()\n",
    "        for stimulus in stimuli:\n",
    "            stimulus_response = []\n",
    "            duration = int(resp_df[resp_df['stim_number']==stimulus]['stim_duration'].mean() * 100)\n",
    "            \n",
    "            for cell in cells:\n",
    "                # load cell\n",
    "                source_path = os.path.join(data_root, bird, cell+'.h5')\n",
    "                neuron_data = h5py.File(source_path)\n",
    "                main_key = [k for k in neuron_data.keys() if k.__contains__('Call')][0]\n",
    "\n",
    "                # load response\n",
    "                cell_response = []\n",
    "                try:\n",
    "                    trialIDs = neuron_data[main_key][str(stimulus)].keys()\n",
    "                except:\n",
    "                    continue\n",
    "                for i, trialID in enumerate(trialIDs):\n",
    "                    if i>9:\n",
    "                        break\n",
    "                    trial_response = neuron_data[main_key][str(stimulus)][trialID]['spike_times'][:]\n",
    "                    cell_response.append(trial_response)\n",
    "\n",
    "                # cell_response shape: (n_trials[, times]) because no. of spike times are variable\n",
    "                cell_response = np.expand_dims(np.array(cell_response), axis=1)    # insert neuron axis at pos. 1\n",
    "                # cell_response shape: (n_trials, 1[, times])\n",
    "                cell_response = times2trains(cell_response, start=100, end=350)\n",
    "                # cell_response shape: (n_trials, 1, n_timesteps)\n",
    "                cell_response = trains2rates(cell_response)\n",
    "                # cell_response shape: (n_trials, 1, n_timesteps)\n",
    "                cell_response = np.mean(cell_response, axis=0)    # average across trials    WHY? because cells heard the sound at diff times.\n",
    "                # cell_response shape: (1, n_timesteps)\n",
    "                cell_response = np.squeeze(cell_response).tolist()\n",
    "                # cell_response shape: (n_timesteps)\n",
    "\n",
    "                stimulus_response.append(cell_response)\n",
    "            \n",
    "            #print('stim resp: ', len(stimulus_response))\n",
    "            if len(stimulus_response) == n_neurons:    \n",
    "                X.append(stimulus_response)\n",
    "                y.append(callid)\n",
    "    X, y = np.array(X), np.array(y)\n",
    "    # X shape: (n_callids, n_dimensions, n_timesteps)\n",
    "    X = np.swapaxes(X, 1, 2)    \n",
    "    # X shape: (n_callids, n_timesteps, n_dimensions)\n",
    "    return X, y"
   ]
  },
  {
   "cell_type": "code",
   "execution_count": 11,
   "id": "f478c53b-fe3d-4c11-b65f-068500f7a75f",
   "metadata": {},
   "outputs": [],
   "source": [
    "def getDimensionality(explained_variance_ratio_):\n",
    "    cumsum = np.cumsum(explained_variance_ratio_)\n",
    "    dim = np.searchsorted(cumsum, 0.8) + 1\n",
    "    return dim"
   ]
  },
  {
   "cell_type": "markdown",
   "id": "70edf400-473b-4ad2-8eda-cf4e5b706aae",
   "metadata": {},
   "source": [
    "## Classification: A1 vs A2"
   ]
  },
  {
   "cell_type": "code",
   "execution_count": 14,
   "id": "b43f1aa7-e434-4f16-ae82-f786127a7d19",
   "metadata": {},
   "outputs": [],
   "source": [
    "import numpy as np\n",
    "from sklearn.model_selection import train_test_split\n",
    "from sklearn.discriminant_analysis import LinearDiscriminantAnalysis\n",
    "from sklearn.preprocessing import normalize\n",
    "\n",
    "def cross_validate(X, y):\n",
    "    scores = []\n",
    "    for _ in range(3):\n",
    "        n_samples, n_timesteps, n_neurons = X.shape\n",
    "        X_train, X_test, y_train, y_test = train_test_split(np.reshape(X, (n_samples, -1)), y, test_size=0.33)\n",
    "\n",
    "        lda = LinearDiscriminantAnalysis()\n",
    "\n",
    "        X_train = np.reshape(X_train, (-1, n_timesteps, n_neurons))\n",
    "        n_samples_train = X_train.shape[0]\n",
    "\n",
    "        X_timepoints_by_neurons_train = np.reshape(X_train, (-1, n_neurons))\n",
    "        y_timepoints_train = np.repeat(y_train, n_timesteps)\n",
    "        #X_timepoints_by_neurons_train = normalize(X_timepoints_by_neurons_train, axis=0)    # axis=0 to normalize features\n",
    "\n",
    "        X_transformed_train = lda.fit_transform(X_timepoints_by_neurons_train, y_timepoints_train)\n",
    "        n_dimensions_train = X_transformed_train.shape[1]\n",
    "        X_transformed_train = np.reshape(X_transformed_train, (n_samples_train, n_timesteps, n_dimensions_train))\n",
    "\n",
    "        clf = TimeSeriesSVC(C=10, kernel=\"linear\")\n",
    "        clf.fit(X_transformed_train, y_train)\n",
    "\n",
    "        X_test = np.reshape(X_test, (-1, n_timesteps, n_neurons))\n",
    "        n_samples_test = X_test.shape[0]\n",
    "\n",
    "        X_timepoints_by_neurons_test = np.reshape(X_test, (-1, n_neurons))\n",
    "        y_timepoints_test = np.repeat(y_test, n_timesteps)\n",
    "        #X_timepoints_by_neurons_test = normalize(X_timepoints_by_neurons_test, axis=0)    # axis=0 to normalize features\n",
    "\n",
    "        X_transformed_test = lda.transform(X_timepoints_by_neurons_test)\n",
    "        n_dimensions_test = X_transformed_test.shape[1]\n",
    "        X_transformed_test = np.reshape(X_transformed_test, (n_samples_test, n_timesteps, n_dimensions_test))\n",
    "\n",
    "        scores.append(clf.score(X_transformed_test, y_test))\n",
    "    \n",
    "    return np.mean(scores)\n"
   ]
  },
  {
   "cell_type": "code",
   "execution_count": 15,
   "id": "d34044c1-1b83-4a73-9ba5-4996ac051901",
   "metadata": {},
   "outputs": [
    {
     "name": "stdout",
     "output_type": "stream",
     "text": [
      "{'subject': 'BlaBro09xxF', 'hemisphere': 'L', 'a1_neurons': 8, 'a2_neurons': 43, 'neuron_count': 8}\n",
      "       subject hemisphere  a1_neurons  a2_neurons  neuron_count    clf_a1  \\\n",
      "0  BlaBro09xxF          L           8          43             8  0.376344   \n",
      "\n",
      "   std_a1    clf_a2    std_a2  pvalue_ranksum  \n",
      "0     0.0  0.268817  0.048882        0.089856  \n",
      "{'subject': 'BlaBro09xxF', 'hemisphere': 'R', 'a1_neurons': 60, 'a2_neurons': 20, 'neuron_count': 20}\n",
      "       subject hemisphere  a1_neurons  a2_neurons  neuron_count    clf_a1  \\\n",
      "0  BlaBro09xxF          L           8          43             8  0.376344   \n",
      "1  BlaBro09xxF          R          60          20            20  0.379928   \n",
      "\n",
      "     std_a1    clf_a2    std_a2  pvalue_ranksum  \n",
      "0  0.000000  0.268817  0.048882        0.089856  \n",
      "1  0.030833  0.440860  0.000000        0.089856  \n",
      "{'subject': 'GreBlu9508M', 'hemisphere': 'L', 'a1_neurons': 57, 'a2_neurons': 58, 'neuron_count': 57}\n",
      "       subject hemisphere  a1_neurons  a2_neurons  neuron_count    clf_a1  \\\n",
      "0  BlaBro09xxF          L           8          43             8  0.376344   \n",
      "1  BlaBro09xxF          R          60          20            20  0.379928   \n",
      "2  GreBlu9508M          L          57          58            57  0.612903   \n",
      "\n",
      "     std_a1    clf_a2    std_a2  pvalue_ranksum  \n",
      "0  0.000000  0.268817  0.048882        0.089856  \n",
      "1  0.030833  0.440860  0.000000        0.089856  \n",
      "2  0.000000  0.741935  0.000000        0.158655  \n",
      "{'subject': 'GreBlu9508M', 'hemisphere': 'R', 'a1_neurons': 76, 'a2_neurons': 74, 'neuron_count': 74}\n",
      "       subject hemisphere  a1_neurons  a2_neurons  neuron_count    clf_a1  \\\n",
      "0  BlaBro09xxF          L           8          43             8  0.376344   \n",
      "1  BlaBro09xxF          R          60          20            20  0.379928   \n",
      "2  GreBlu9508M          L          57          58            57  0.612903   \n",
      "3  GreBlu9508M          R          76          74            74  0.548387   \n",
      "\n",
      "     std_a1    clf_a2    std_a2  pvalue_ranksum  \n",
      "0  0.000000  0.268817  0.048882        0.089856  \n",
      "1  0.030833  0.440860  0.000000        0.089856  \n",
      "2  0.000000  0.741935  0.000000        0.158655  \n",
      "3  0.000000  0.806452  0.000000        0.158655  \n",
      "{'subject': 'LblBlu2028M', 'hemisphere': 'R', 'a1_neurons': 4, 'a2_neurons': 25, 'neuron_count': 4}\n",
      "       subject hemisphere  a1_neurons  a2_neurons  neuron_count    clf_a1  \\\n",
      "0  BlaBro09xxF          L           8          43             8  0.376344   \n",
      "1  BlaBro09xxF          R          60          20            20  0.379928   \n",
      "2  GreBlu9508M          L          57          58            57  0.612903   \n",
      "3  GreBlu9508M          R          76          74            74  0.548387   \n",
      "4  LblBlu2028M          R           4          25             4  0.351852   \n",
      "\n",
      "     std_a1    clf_a2    std_a2  pvalue_ranksum  \n",
      "0  0.000000  0.268817  0.048882        0.089856  \n",
      "1  0.030833  0.440860  0.000000        0.089856  \n",
      "2  0.000000  0.741935  0.000000        0.158655  \n",
      "3  0.000000  0.806452  0.000000        0.158655  \n",
      "4  0.000000  0.395062  0.008730        0.089856  \n",
      "{'subject': 'LblBlu2028M', 'hemisphere': 'L', 'a1_neurons': 0, 'a2_neurons': 5, 'neuron_count': 0}\n",
      "{'subject': 'WhiWhi4522M', 'hemisphere': 'L', 'a1_neurons': 9, 'a2_neurons': 64, 'neuron_count': 9}\n",
      "       subject hemisphere  a1_neurons  a2_neurons  neuron_count    clf_a1  \\\n",
      "0  BlaBro09xxF          L           8          43             8  0.376344   \n",
      "1  BlaBro09xxF          R          60          20            20  0.379928   \n",
      "2  GreBlu9508M          L          57          58            57  0.612903   \n",
      "3  GreBlu9508M          R          76          74            74  0.548387   \n",
      "4  LblBlu2028M          R           4          25             4  0.351852   \n",
      "5  WhiWhi4522M          L           9          64             9  0.408602   \n",
      "\n",
      "     std_a1    clf_a2    std_a2  pvalue_ranksum  \n",
      "0  0.000000  0.268817  0.048882        0.089856  \n",
      "1  0.030833  0.440860  0.000000        0.089856  \n",
      "2  0.000000  0.741935  0.000000        0.158655  \n",
      "3  0.000000  0.806452  0.000000        0.158655  \n",
      "4  0.000000  0.395062  0.008730        0.089856  \n",
      "5  0.000000  0.412186  0.105476        0.327360  \n",
      "{'subject': 'WhiWhi4522M', 'hemisphere': 'R', 'a1_neurons': 58, 'a2_neurons': 54, 'neuron_count': 54}\n",
      "       subject hemisphere  a1_neurons  a2_neurons  neuron_count    clf_a1  \\\n",
      "0  BlaBro09xxF          L           8          43             8  0.376344   \n",
      "1  BlaBro09xxF          R          60          20            20  0.379928   \n",
      "2  GreBlu9508M          L          57          58            57  0.612903   \n",
      "3  GreBlu9508M          R          76          74            74  0.548387   \n",
      "4  LblBlu2028M          R           4          25             4  0.351852   \n",
      "5  WhiWhi4522M          L           9          64             9  0.408602   \n",
      "6  WhiWhi4522M          R          58          54            54  0.731183   \n",
      "\n",
      "     std_a1    clf_a2    std_a2  pvalue_ranksum  \n",
      "0  0.000000  0.268817  0.048882        0.089856  \n",
      "1  0.030833  0.440860  0.000000        0.089856  \n",
      "2  0.000000  0.741935  0.000000        0.158655  \n",
      "3  0.000000  0.806452  0.000000        0.158655  \n",
      "4  0.000000  0.395062  0.008730        0.089856  \n",
      "5  0.000000  0.412186  0.105476        0.327360  \n",
      "6  0.000000  0.752688  0.000000        0.158655  \n",
      "{'subject': 'YelBlu6903F', 'hemisphere': 'L', 'a1_neurons': 40, 'a2_neurons': 84, 'neuron_count': 40}\n",
      "       subject hemisphere  a1_neurons  a2_neurons  neuron_count    clf_a1  \\\n",
      "0  BlaBro09xxF          L           8          43             8  0.376344   \n",
      "1  BlaBro09xxF          R          60          20            20  0.379928   \n",
      "2  GreBlu9508M          L          57          58            57  0.612903   \n",
      "3  GreBlu9508M          R          76          74            74  0.548387   \n",
      "4  LblBlu2028M          R           4          25             4  0.351852   \n",
      "5  WhiWhi4522M          L           9          64             9  0.408602   \n",
      "6  WhiWhi4522M          R          58          54            54  0.731183   \n",
      "7  YelBlu6903F          L          40          84            40  0.666667   \n",
      "\n",
      "     std_a1    clf_a2    std_a2  pvalue_ranksum  \n",
      "0  0.000000  0.268817  0.048882        0.089856  \n",
      "1  0.030833  0.440860  0.000000        0.089856  \n",
      "2  0.000000  0.741935  0.000000        0.158655  \n",
      "3  0.000000  0.806452  0.000000        0.158655  \n",
      "4  0.000000  0.395062  0.008730        0.089856  \n",
      "5  0.000000  0.412186  0.105476        0.327360  \n",
      "6  0.000000  0.752688  0.000000        0.158655  \n",
      "7  0.000000  0.738351  0.013411        0.089856  \n",
      "{'subject': 'YelBlu6903F', 'hemisphere': 'R', 'a1_neurons': 36, 'a2_neurons': 81, 'neuron_count': 36}\n",
      "       subject hemisphere  a1_neurons  a2_neurons  neuron_count    clf_a1  \\\n",
      "0  BlaBro09xxF          L           8          43             8  0.376344   \n",
      "1  BlaBro09xxF          R          60          20            20  0.379928   \n",
      "2  GreBlu9508M          L          57          58            57  0.612903   \n",
      "3  GreBlu9508M          R          76          74            74  0.548387   \n",
      "4  LblBlu2028M          R           4          25             4  0.351852   \n",
      "5  WhiWhi4522M          L           9          64             9  0.408602   \n",
      "6  WhiWhi4522M          R          58          54            54  0.731183   \n",
      "7  YelBlu6903F          L          40          84            40  0.666667   \n",
      "8  YelBlu6903F          R          36          81            36  0.526882   \n",
      "\n",
      "     std_a1    clf_a2    std_a2  pvalue_ranksum  \n",
      "0  0.000000  0.268817  0.048882        0.089856  \n",
      "1  0.030833  0.440860  0.000000        0.089856  \n",
      "2  0.000000  0.741935  0.000000        0.158655  \n",
      "3  0.000000  0.806452  0.000000        0.158655  \n",
      "4  0.000000  0.395062  0.008730        0.089856  \n",
      "5  0.000000  0.412186  0.105476        0.327360  \n",
      "6  0.000000  0.752688  0.000000        0.158655  \n",
      "7  0.000000  0.738351  0.013411        0.089856  \n",
      "8  0.000000  0.670251  0.050689        0.089856  \n",
      "done\n"
     ]
    }
   ],
   "source": [
    "subject_table = df[['subject', 'hemisphere']].drop_duplicates()\n",
    "subject_table\n",
    "\n",
    "subject_table = subject_table.reset_index()  # make sure indexes pair with number of rows\n",
    "\n",
    "list_dict = []\n",
    "for i, row in subject_table.iterrows():\n",
    "    a1_neurons = len(df[(df['subject']==row['subject'])&(df['hemisphere']==row['hemisphere'])&(df['auditory_cortex']=='A1')]['single_unit'].unique())\n",
    "    a2_neurons = len(df[(df['subject']==row['subject'])&(df['hemisphere']==row['hemisphere'])&(df['auditory_cortex']=='A2')]['single_unit'].unique())\n",
    "    neuron_count = a1_neurons if a1_neurons < a2_neurons else a2_neurons\n",
    "    a1_dims, a2_dims = [], []\n",
    "    data_dict = {\n",
    "        'subject': row['subject'],\n",
    "        'hemisphere': row['hemisphere'],\n",
    "        'a1_neurons': a1_neurons,\n",
    "        'a2_neurons': a2_neurons,\n",
    "        'neuron_count': neuron_count\n",
    "    }\n",
    "    print(data_dict)\n",
    "    \n",
    "    if neuron_count == 0:\n",
    "        continue\n",
    "    \n",
    "    if abs(a2_neurons - a1_neurons) < 5: \n",
    "        loops = 1\n",
    "    else:\n",
    "        loops = 100\n",
    "        \n",
    "    a1_scores = []\n",
    "    # in every iteration, we get a random selection of neurons\n",
    "    a1_loops = loops if a1_neurons > a2_neurons else 1\n",
    "    for i in range(a1_loops):\n",
    "        X, y = getClassificationDataset(data_dict['subject'], data_dict['hemisphere'], 'A1', neuron_count)\n",
    "\n",
    "        # cross validate\n",
    "        score = cross_validate(X, y)\n",
    "        a1_scores.append(score)\n",
    "\n",
    "    a2_scores = []\n",
    "    # in every iteration, we get a random selection of neurons\n",
    "    a2_loops = loops if a2_neurons > a1_neurons else 1\n",
    "    for j in range(a2_loops):\n",
    "        X, y = getClassificationDataset(data_dict['subject'], data_dict['hemisphere'], 'A2', neuron_count)\n",
    "        \n",
    "        # cross validate\n",
    "        score = cross_validate(X, y)\n",
    "        a2_scores.append(score)\n",
    "\n",
    "        \n",
    "    data_dict['clf_a1'] = np.mean(a1_scores)\n",
    "    data_dict['std_a1'] = np.std(a1_scores)\n",
    "    data_dict['clf_a2'] = np.mean(a2_scores)\n",
    "    data_dict['std_a2'] = np.std(a2_scores)\n",
    "    data_dict['pvalue_ranksum'] = stats.ranksums(a2_scores, a1_scores)[1] / 2    # div. by 2 because this is two-sided pvalue. upgrading to latest scipy breaks tslearn\n",
    "    list_dict.append(data_dict)\n",
    "    print(pd.DataFrame(list_dict))\n",
    "\n",
    "print('done')"
   ]
  },
  {
   "cell_type": "code",
   "execution_count": 18,
   "id": "e19f5473-67ec-4726-8718-a2d3aaca9e81",
   "metadata": {},
   "outputs": [
    {
     "data": {
      "text/html": [
       "<div>\n",
       "<style scoped>\n",
       "    .dataframe tbody tr th:only-of-type {\n",
       "        vertical-align: middle;\n",
       "    }\n",
       "\n",
       "    .dataframe tbody tr th {\n",
       "        vertical-align: top;\n",
       "    }\n",
       "\n",
       "    .dataframe thead th {\n",
       "        text-align: right;\n",
       "    }\n",
       "</style>\n",
       "<table border=\"1\" class=\"dataframe\">\n",
       "  <thead>\n",
       "    <tr style=\"text-align: right;\">\n",
       "      <th></th>\n",
       "      <th>subject</th>\n",
       "      <th>hemisphere</th>\n",
       "      <th>a1_neurons</th>\n",
       "      <th>a2_neurons</th>\n",
       "      <th>neuron_count</th>\n",
       "      <th>clf_a1</th>\n",
       "      <th>std_a1</th>\n",
       "      <th>clf_a2</th>\n",
       "      <th>std_a2</th>\n",
       "      <th>pvalue_ranksum</th>\n",
       "    </tr>\n",
       "  </thead>\n",
       "  <tbody>\n",
       "    <tr>\n",
       "      <th>0</th>\n",
       "      <td>BlaBro09xxF</td>\n",
       "      <td>L</td>\n",
       "      <td>8</td>\n",
       "      <td>43</td>\n",
       "      <td>8</td>\n",
       "      <td>0.376344</td>\n",
       "      <td>0.000000</td>\n",
       "      <td>0.268817</td>\n",
       "      <td>0.048882</td>\n",
       "      <td>0.089856</td>\n",
       "    </tr>\n",
       "    <tr>\n",
       "      <th>1</th>\n",
       "      <td>BlaBro09xxF</td>\n",
       "      <td>R</td>\n",
       "      <td>60</td>\n",
       "      <td>20</td>\n",
       "      <td>20</td>\n",
       "      <td>0.379928</td>\n",
       "      <td>0.030833</td>\n",
       "      <td>0.440860</td>\n",
       "      <td>0.000000</td>\n",
       "      <td>0.089856</td>\n",
       "    </tr>\n",
       "    <tr>\n",
       "      <th>2</th>\n",
       "      <td>GreBlu9508M</td>\n",
       "      <td>L</td>\n",
       "      <td>57</td>\n",
       "      <td>58</td>\n",
       "      <td>57</td>\n",
       "      <td>0.612903</td>\n",
       "      <td>0.000000</td>\n",
       "      <td>0.741935</td>\n",
       "      <td>0.000000</td>\n",
       "      <td>0.158655</td>\n",
       "    </tr>\n",
       "    <tr>\n",
       "      <th>3</th>\n",
       "      <td>GreBlu9508M</td>\n",
       "      <td>R</td>\n",
       "      <td>76</td>\n",
       "      <td>74</td>\n",
       "      <td>74</td>\n",
       "      <td>0.548387</td>\n",
       "      <td>0.000000</td>\n",
       "      <td>0.806452</td>\n",
       "      <td>0.000000</td>\n",
       "      <td>0.158655</td>\n",
       "    </tr>\n",
       "    <tr>\n",
       "      <th>4</th>\n",
       "      <td>LblBlu2028M</td>\n",
       "      <td>R</td>\n",
       "      <td>4</td>\n",
       "      <td>25</td>\n",
       "      <td>4</td>\n",
       "      <td>0.351852</td>\n",
       "      <td>0.000000</td>\n",
       "      <td>0.395062</td>\n",
       "      <td>0.008730</td>\n",
       "      <td>0.089856</td>\n",
       "    </tr>\n",
       "    <tr>\n",
       "      <th>5</th>\n",
       "      <td>WhiWhi4522M</td>\n",
       "      <td>L</td>\n",
       "      <td>9</td>\n",
       "      <td>64</td>\n",
       "      <td>9</td>\n",
       "      <td>0.408602</td>\n",
       "      <td>0.000000</td>\n",
       "      <td>0.412186</td>\n",
       "      <td>0.105476</td>\n",
       "      <td>0.327360</td>\n",
       "    </tr>\n",
       "    <tr>\n",
       "      <th>6</th>\n",
       "      <td>WhiWhi4522M</td>\n",
       "      <td>R</td>\n",
       "      <td>58</td>\n",
       "      <td>54</td>\n",
       "      <td>54</td>\n",
       "      <td>0.731183</td>\n",
       "      <td>0.000000</td>\n",
       "      <td>0.752688</td>\n",
       "      <td>0.000000</td>\n",
       "      <td>0.158655</td>\n",
       "    </tr>\n",
       "    <tr>\n",
       "      <th>7</th>\n",
       "      <td>YelBlu6903F</td>\n",
       "      <td>L</td>\n",
       "      <td>40</td>\n",
       "      <td>84</td>\n",
       "      <td>40</td>\n",
       "      <td>0.666667</td>\n",
       "      <td>0.000000</td>\n",
       "      <td>0.738351</td>\n",
       "      <td>0.013411</td>\n",
       "      <td>0.089856</td>\n",
       "    </tr>\n",
       "    <tr>\n",
       "      <th>8</th>\n",
       "      <td>YelBlu6903F</td>\n",
       "      <td>R</td>\n",
       "      <td>36</td>\n",
       "      <td>81</td>\n",
       "      <td>36</td>\n",
       "      <td>0.526882</td>\n",
       "      <td>0.000000</td>\n",
       "      <td>0.670251</td>\n",
       "      <td>0.050689</td>\n",
       "      <td>0.089856</td>\n",
       "    </tr>\n",
       "  </tbody>\n",
       "</table>\n",
       "</div>"
      ],
      "text/plain": [
       "       subject hemisphere  a1_neurons  a2_neurons  neuron_count    clf_a1  \\\n",
       "0  BlaBro09xxF          L           8          43             8  0.376344   \n",
       "1  BlaBro09xxF          R          60          20            20  0.379928   \n",
       "2  GreBlu9508M          L          57          58            57  0.612903   \n",
       "3  GreBlu9508M          R          76          74            74  0.548387   \n",
       "4  LblBlu2028M          R           4          25             4  0.351852   \n",
       "5  WhiWhi4522M          L           9          64             9  0.408602   \n",
       "6  WhiWhi4522M          R          58          54            54  0.731183   \n",
       "7  YelBlu6903F          L          40          84            40  0.666667   \n",
       "8  YelBlu6903F          R          36          81            36  0.526882   \n",
       "\n",
       "     std_a1    clf_a2    std_a2  pvalue_ranksum  \n",
       "0  0.000000  0.268817  0.048882        0.089856  \n",
       "1  0.030833  0.440860  0.000000        0.089856  \n",
       "2  0.000000  0.741935  0.000000        0.158655  \n",
       "3  0.000000  0.806452  0.000000        0.158655  \n",
       "4  0.000000  0.395062  0.008730        0.089856  \n",
       "5  0.000000  0.412186  0.105476        0.327360  \n",
       "6  0.000000  0.752688  0.000000        0.158655  \n",
       "7  0.000000  0.738351  0.013411        0.089856  \n",
       "8  0.000000  0.670251  0.050689        0.089856  "
      ]
     },
     "execution_count": 18,
     "metadata": {},
     "output_type": "execute_result"
    }
   ],
   "source": [
    "clf_df = pd.DataFrame(list_dict)\n",
    "clf_df = clf_df.dropna()\n",
    "clf_df"
   ]
  },
  {
   "cell_type": "code",
   "execution_count": 20,
   "id": "936a4aaf-1e4a-464d-a5c8-4bd0c803cfbd",
   "metadata": {},
   "outputs": [
    {
     "data": {
      "text/plain": [
       "WilcoxonResult(statistic=39.0, pvalue=0.02734375)"
      ]
     },
     "execution_count": 20,
     "metadata": {},
     "output_type": "execute_result"
    }
   ],
   "source": [
    "stats.wilcoxon(clf_df['clf_a2'], clf_df['clf_a1'], alternative='greater', nan_policy='omit')"
   ]
  },
  {
   "cell_type": "code",
   "execution_count": 21,
   "id": "becddc31-a9f0-4e33-b8a0-248340d39d50",
   "metadata": {},
   "outputs": [
    {
     "data": {
      "text/plain": [
       "WilcoxonResult(statistic=15.0, pvalue=0.03125)"
      ]
     },
     "execution_count": 21,
     "metadata": {},
     "output_type": "execute_result"
    }
   ],
   "source": [
    "stats.wilcoxon(clf_df[clf_df['neuron_count'] > 20]['clf_a2'], clf_df[clf_df['neuron_count'] > 20]['clf_a1'], alternative='greater', nan_policy='omit')"
   ]
  },
  {
   "cell_type": "code",
   "execution_count": 38,
   "id": "148f4140-23fd-4856-a74b-29388cc08aef",
   "metadata": {},
   "outputs": [
    {
     "data": {
      "text/plain": [
       "WilcoxonResult(statistic=37.0, pvalue=0.048828125)"
      ]
     },
     "execution_count": 38,
     "metadata": {},
     "output_type": "execute_result"
    }
   ],
   "source": [
    "stats.wilcoxon(clf_df['clf_a2'], clf_df['clf_a1'], alternative='greater', nan_policy='omit')"
   ]
  },
  {
   "cell_type": "code",
   "execution_count": 22,
   "id": "6feac2c7-f44c-488a-9789-76db45539ffc",
   "metadata": {},
   "outputs": [
    {
     "data": {
      "image/png": "[encoded data removed]",
      "text/plain": [
       "<Figure size 400x400 with 1 Axes>"
      ]
     },
     "metadata": {},
     "output_type": "display_data"
    }
   ],
   "source": [
    "import seaborn as sns\n",
    "plt.style.use('default')\n",
    "plt.figure(figsize=(4, 4))\n",
    "g = sns.scatterplot(x='clf_a1', y='clf_a2', data=clf_df, size='neuron_count', sizes=(100, 500), palette='YlOrRd')\n",
    "plt.errorbar(clf_df['clf_a1'], clf_df['clf_a2'], xerr=clf_df['std_a1'], yerr=clf_df['std_a2'], fmt=\"o\")\n",
    "plt.axline((0, 0), (1, 1), color='black')\n",
    "ax = plt.gca()\n",
    "ax.set_aspect('equal', adjustable='box')\n",
    "plt.draw()\n",
    "\n",
    "plt.xlabel('A1')\n",
    "plt.ylabel('A2')\n",
    "plt.xlim(0, 1)\n",
    "plt.ylim(0, 1)\n",
    "plt.title('Classification accuracy of A1 vs A2 using semantic labels')\n",
    "#plt.title('using semantic labels')\n",
    "#plt.title('Classification accuracy of A1 vs A2')\n",
    "plt.legend(title='No. of neurons', loc='lower right', fontsize='x-large')\n",
    "plt.savefig('clf-acc.png')\n",
    "plt.show(g)"
   ]
  },
  {
   "cell_type": "code",
   "execution_count": 23,
   "id": "748eada8-2c73-40ca-abb2-d8334410304b",
   "metadata": {},
   "outputs": [
    {
     "data": {
      "text/plain": [
       "PearsonRResult(statistic=0.7509191593754835, pvalue=0.019705994647604162)"
      ]
     },
     "execution_count": 23,
     "metadata": {},
     "output_type": "execute_result"
    }
   ],
   "source": [
    "stats.pearsonr(clf_df['clf_a2'] - clf_df['clf_a1'], clf_df['neuron_count'])"
   ]
  },
  {
   "cell_type": "code",
   "execution_count": null,
   "id": "0c5871c7-f5c1-4e83-a45d-c9aea2e4363d",
   "metadata": {},
   "outputs": [],
   "source": []
  }
 ],
 "metadata": {
  "kernelspec": {
   "display_name": "Python 3",
   "language": "python",
   "name": "python3"
  },
  "language_info": {
   "codemirror_mode": {
    "name": "ipython",
    "version": 3
   },
   "file_extension": ".py",
   "mimetype": "text/x-python",
   "name": "python",
   "nbconvert_exporter": "python",
   "pygments_lexer": "ipython3",
   "version": "3.8.8"
  }
 },
 "nbformat": 4,
 "nbformat_minor": 5
}
